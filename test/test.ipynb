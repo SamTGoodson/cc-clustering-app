{
 "cells": [
  {
   "cell_type": "code",
   "execution_count": 2,
   "metadata": {},
   "outputs": [],
   "source": [
    "import pandas as pd\n",
    "import numpy as np\n",
    "import requests\n",
    "from datetime import datetime\n",
    "import re\n",
    "from matplotlib import pyplot as plt\n",
    "\n",
    "from sklearn.preprocessing import StandardScaler\n",
    "from sklearn.cluster import KMeans\n",
    "\n",
    "from scipy.cluster.hierarchy import dendrogram, linkage\n",
    "from scipy.cluster.hierarchy import fcluster"
   ]
  },
  {
   "cell_type": "code",
   "execution_count": 3,
   "metadata": {},
   "outputs": [],
   "source": [
    "import plotly.figure_factory as ff"
   ]
  },
  {
   "cell_type": "code",
   "execution_count": 4,
   "metadata": {},
   "outputs": [],
   "source": [
    "import dash_leaflet as dl"
   ]
  },
  {
   "cell_type": "code",
   "execution_count": 5,
   "metadata": {},
   "outputs": [],
   "source": [
    "import sys\n",
    "sys.path.append('..')"
   ]
  },
  {
   "cell_type": "code",
   "execution_count": 5,
   "metadata": {},
   "outputs": [],
   "source": [
    "\n",
    "from config import cc_api_key\n",
    "import folium"
   ]
  },
  {
   "cell_type": "code",
   "execution_count": 20,
   "metadata": {},
   "outputs": [],
   "source": [
    "from utils.leg_api import generate_cc_df,start_hierarchical,plot_denogram, get_votes,cluster,make_base_map,find_close_votes, scale_and_standardize, hierarchical_cluster"
   ]
  },
  {
   "cell_type": "code",
   "execution_count": 7,
   "metadata": {},
   "outputs": [],
   "source": [
    "from dash import Dash, html, dcc, callback, Output, Input,State"
   ]
  },
  {
   "cell_type": "code",
   "execution_count": 8,
   "metadata": {},
   "outputs": [],
   "source": [
    "import dash_bootstrap_components as dbc"
   ]
  },
  {
   "cell_type": "code",
   "execution_count": 9,
   "metadata": {},
   "outputs": [],
   "source": [
    "import geopandas as gpd"
   ]
  },
  {
   "cell_type": "code",
   "execution_count": 10,
   "metadata": {},
   "outputs": [],
   "source": [
    "from dash_extensions.javascript import assign,arrow_function"
   ]
  },
  {
   "cell_type": "code",
   "execution_count": 11,
   "metadata": {},
   "outputs": [],
   "source": [
    "import json"
   ]
  },
  {
   "cell_type": "code",
   "execution_count": 37,
   "metadata": {},
   "outputs": [],
   "source": [
    "def find_close_votes():\n",
    "    df = get_votes()\n",
    "    vote_counts = df.groupby(['VoteEventItemId', 'VoteValueName']).size()\n",
    "    pivot_table = vote_counts.unstack(fill_value=0)\n",
    "    pivot_table = pivot_table.reset_index()\n",
    "\n",
    "    pivot_table['anti'] = pivot_table['Negative'] + pivot_table['Abstain']\n",
    "    pivot_table['total'] = pivot_table['Affirmative'] + pivot_table['anti']\n",
    "    pivot_table['ratio'] = pivot_table['anti'] / pivot_table['Affirmative']\n",
    "\n",
    "    pivot_table = pivot_table[pivot_table['ratio'].notna()]\n",
    "    pivot_table.replace([np.inf, -np.inf], np.nan, inplace=True)\n",
    "\n",
    "    full = pivot_table[pivot_table['total'] > 45]\n",
    "    top_ratio = full.sort_values('ratio', ascending=False).head(100)\n",
    "\n",
    "    ratio_ids = top_ratio['VoteEventItemId'].tolist()\n",
    "    full_ratio = df[df['VoteEventItemId'].isin(ratio_ids)]\n",
    "\n",
    "    fr_pivot = full_ratio.pivot_table(index='VotePersonName', columns='VoteEventItemId', values='VoteValueId')\n",
    "    fr_pivot.dropna(axis=1, how='any', inplace=True)\n",
    "\n",
    "    return fr_pivot"
   ]
  },
  {
   "cell_type": "code",
   "execution_count": 14,
   "metadata": {},
   "outputs": [],
   "source": [
    "def get_votes():\n",
    "    all_votes = []\n",
    "\n",
    "    CM_RAW = requests.get(url=\"https://webapi.legistar.com/v1/nyc/Bodies/1/OfficeRecords/?$filter=OfficeRecordStartDate+eq+datetime'{}'&token={}\".format(SESS_BEGIN, cc_api_key))\n",
    "    CM_RAW = CM_RAW.json()\n",
    "    for CM in CM_RAW:\n",
    "        PERSON_DATA = requests.get(url=\"https://webapi.legistar.com/v1/nyc/Persons/{}/?&token={}\".format(CM[\"OfficeRecordPersonId\"], cc_api_key))\n",
    "        CM_PERSONAL_DATA = PERSON_DATA.json()\n",
    "    \n",
    "        VOTES = requests.get(url=\"https://webapi.legistar.com/v1/nyc/Persons/{}/votes/?$filter=VoteLastModifiedUtc+gt+datetime'{}'&token={}\".format(CM_PERSONAL_DATA[\"PersonId\"], SESS_BEGIN, cc_api_key))\n",
    "        VOTES_JSON = VOTES.json()\n",
    "    \n",
    "        all_votes.extend(VOTES_JSON)\n",
    "\n",
    "    VOTER = pd.DataFrame(all_votes)\n",
    "    return VOTER"
   ]
  },
  {
   "cell_type": "code",
   "execution_count": 5,
   "metadata": {},
   "outputs": [],
   "source": [
    "TODAY = datetime.today()\n",
    "SESS_BEGIN = TODAY.replace(year=TODAY.year - ((TODAY.year % 4) - 2), month=1, day=1).strftime(\"%Y-%m-%d\") if (TODAY.year % 4) >= 2 else TODAY.replace(year=TODAY.year - ((TODAY.year % 4) + 2), month=1, day=1).strftime(\"%Y-%m-%d\")\n",
    "SESS_END = \"{}-{}-{}\".format(int(SESS_BEGIN.split(\"-\")[0]) + 3, 12, 31)"
   ]
  },
  {
   "cell_type": "code",
   "execution_count": 9,
   "metadata": {},
   "outputs": [],
   "source": [
    "vote_raw = get_votes()"
   ]
  },
  {
   "cell_type": "code",
   "execution_count": 26,
   "metadata": {},
   "outputs": [],
   "source": [
    "close_votes = find_close_votes(vote_raw)"
   ]
  },
  {
   "cell_type": "code",
   "execution_count": 6,
   "metadata": {},
   "outputs": [],
   "source": [
    "CM_RAW = requests.get(url=\"https://webapi.legistar.com/v1/nyc/Bodies/1/OfficeRecords/?$filter=OfficeRecordStartDate+eq+datetime'{}'&token={}\".format(SESS_BEGIN, cc_api_key))"
   ]
  },
  {
   "cell_type": "code",
   "execution_count": 7,
   "metadata": {},
   "outputs": [],
   "source": [
    "all_votes = []\n",
    "\n",
    "CM_RAW = CM_RAW.json()\n",
    "for CM in CM_RAW:\n",
    "    VOTES = requests.get(url=\"https://webapi.legistar.com/v1/nyc/Persons/{}/votes/?$filter=VoteLastModifiedUtc+gt+datetime'{}'&token={}\".format(CM[\"OfficeRecordPersonId\"], SESS_BEGIN, cc_api_key))\n",
    "    VOTES_JSON = VOTES.json()\n",
    "    \n",
    "    all_votes.extend(VOTES_JSON)\n",
    "\n",
    "# Convert the list of votes into a DataFrame\n",
    "VOTER = pd.DataFrame(all_votes)"
   ]
  },
  {
   "cell_type": "code",
   "execution_count": 20,
   "metadata": {},
   "outputs": [],
   "source": [
    "vote_counts = VOTER.groupby(['VoteEventItemId', 'VoteValueName']).size()\n",
    "pivot_table = vote_counts.unstack(fill_value=0)\n",
    "pivot_table = pivot_table.reset_index()"
   ]
  },
  {
   "cell_type": "code",
   "execution_count": 9,
   "metadata": {},
   "outputs": [],
   "source": [
    "pivot_table['anti'] = pivot_table['Negative'] + pivot_table['Abstain']\n",
    "pivot_table['total'] = pivot_table['Affirmative'] + pivot_table['anti']\n",
    "pivot_table['ratio'] = pivot_table['anti'] / pivot_table['Affirmative']"
   ]
  },
  {
   "cell_type": "code",
   "execution_count": 11,
   "metadata": {},
   "outputs": [],
   "source": [
    "pivot_table = pivot_table[pivot_table['ratio'].notna()]\n",
    "pivot_table.replace([np.inf, -np.inf], np.nan, inplace=True)"
   ]
  },
  {
   "cell_type": "code",
   "execution_count": 12,
   "metadata": {},
   "outputs": [],
   "source": [
    "full = pivot_table[pivot_table['total'] > 45]\n",
    "top_ratio = full.sort_values('ratio', ascending=False).head(100)"
   ]
  },
  {
   "cell_type": "code",
   "execution_count": 9,
   "metadata": {},
   "outputs": [],
   "source": [
    "# Initialize the app\n",
    "app = Dash(__name__)"
   ]
  },
  {
   "cell_type": "code",
   "execution_count": 10,
   "metadata": {},
   "outputs": [],
   "source": [
    "cc_df = generate_cc_df()\n",
    "votes_df = find_close_votes()"
   ]
  },
  {
   "cell_type": "code",
   "execution_count": 16,
   "metadata": {},
   "outputs": [],
   "source": [
    "def scale_and_standardize(df):\n",
    "\n",
    "    one_hot = pd.get_dummies(df, columns=df.columns)\n",
    "    scaler = StandardScaler()\n",
    "    scaled_df = scaler.fit_transform(one_hot)\n",
    "    return scaled_df"
   ]
  },
  {
   "cell_type": "code",
   "execution_count": 18,
   "metadata": {},
   "outputs": [],
   "source": [
    "scaled_df = scale_and_standardize(votes_df)"
   ]
  },
  {
   "cell_type": "code",
   "execution_count": 17,
   "metadata": {},
   "outputs": [],
   "source": [
    "def hierarchical_cluster(df):\n",
    "    Z = linkage(df, 'ward')\n",
    "    return Z\n"
   ]
  },
  {
   "cell_type": "code",
   "execution_count": 98,
   "metadata": {},
   "outputs": [],
   "source": [
    "def start_hierarchical(close_votes):\n",
    "    scaled_df = scale_and_standardize(close_votes)\n",
    "    Z = hierarchical_cluster(scaled_df)\n",
    "    return Z"
   ]
  },
  {
   "cell_type": "code",
   "execution_count": 24,
   "metadata": {},
   "outputs": [],
   "source": [
    "gdf = gpd.read_file('../shapefiles/nycc_22a')"
   ]
  },
  {
   "cell_type": "code",
   "execution_count": 12,
   "metadata": {},
   "outputs": [],
   "source": [
    "Z = start_hierarchical(votes_df)"
   ]
  },
  {
   "cell_type": "code",
   "execution_count": 114,
   "metadata": {},
   "outputs": [],
   "source": [
    "clusters = cluster(Z,votes_df,40)"
   ]
  },
  {
   "cell_type": "code",
   "execution_count": 96,
   "metadata": {},
   "outputs": [],
   "source": [
    "def make_base_map(df,CM_DATA,gdf):\n",
    "    gdfe = gdf.to_crs(epsg=4326)\n",
    "    df = df.reset_index()\n",
    "    master = pd.merge(CM_DATA, df, left_on='OfficeRecordFullName', right_on='VotePersonName', how='left')\n",
    "    master = master[['OfficeRecordFullName', 'District', 'h_cluster']]\n",
    "    master_map = pd.merge(gdfe, master, left_on='CounDist', right_on='District', how='left')\n",
    "\n",
    "    return master_map"
   ]
  },
  {
   "cell_type": "code",
   "execution_count": 115,
   "metadata": {},
   "outputs": [],
   "source": [
    "clusters_coords = make_base_map(clusters,cc_df,gdf)"
   ]
  },
  {
   "cell_type": "code",
   "execution_count": 116,
   "metadata": {},
   "outputs": [
    {
     "name": "stderr",
     "output_type": "stream",
     "text": [
      "C:\\Users\\samtg\\AppData\\Local\\Temp\\ipykernel_45740\\872553423.py:1: UserWarning:\n",
      "\n",
      "Geometry is in a geographic CRS. Results from 'centroid' are likely incorrect. Use 'GeoSeries.to_crs()' to re-project geometries to a projected CRS before this operation.\n",
      "\n",
      "\n"
     ]
    }
   ],
   "source": [
    "centroid = clusters_coords.geometry.centroid\n",
    "mean_lat, mean_lon = centroid.y.mean(), centroid.x.mean()"
   ]
  },
  {
   "cell_type": "code",
   "execution_count": 125,
   "metadata": {},
   "outputs": [
    {
     "data": {
      "text/plain": [
       "h_cluster\n",
       "2    36\n",
       "1     8\n",
       "3     6\n",
       "4     1\n",
       "Name: count, dtype: int64"
      ]
     },
     "execution_count": 125,
     "metadata": {},
     "output_type": "execute_result"
    }
   ],
   "source": [
    "clusters_coords['h_cluster'].value_counts()"
   ]
  },
  {
   "cell_type": "code",
   "execution_count": 117,
   "metadata": {},
   "outputs": [],
   "source": [
    "app = Dash(__name__)"
   ]
  },
  {
   "cell_type": "code",
   "execution_count": 118,
   "metadata": {},
   "outputs": [],
   "source": [
    "geojson = json.loads(clusters_coords.to_json())"
   ]
  },
  {
   "cell_type": "code",
   "execution_count": 108,
   "metadata": {},
   "outputs": [],
   "source": [
    "style = {\n",
    "    'weight': 2, \n",
    "    'opacity': 1, \n",
    "    'color': 'white',  # Line color\n",
    "    'dashArray': '3', \n",
    "    'fillOpacity': 0.7\n",
    "}"
   ]
  },
  {
   "cell_type": "code",
   "execution_count": 120,
   "metadata": {},
   "outputs": [],
   "source": [
    "def generate_colorscale(num_clusters):\n",
    "    cmap = plt.get_cmap('tab20')  # Or any other suitable colormap\n",
    "    return [cmap(i / num_clusters) for i in range(num_clusters)]"
   ]
  },
  {
   "cell_type": "code",
   "execution_count": 121,
   "metadata": {},
   "outputs": [],
   "source": [
    "@app.callback(\n",
    "    Output('geojson', 'hideout'),\n",
    "    [Input('submit-button', 'n_clicks')],\n",
    "    [State('num-clusters-input', 'value')]\n",
    ")\n",
    "def update_map_style(n_clicks, num_clusters):\n",
    "    if not callback_context.triggered:\n",
    "        raise PreventUpdate\n",
    "    colorscale = generate_colorscale(num_clusters)\n",
    "    classes = list(range(1, num_clusters + 1))\n",
    "    return {'classes': classes, 'colorscale': colorscale, 'style': style}"
   ]
  },
  {
   "cell_type": "code",
   "execution_count": 122,
   "metadata": {},
   "outputs": [],
   "source": [
    "style_handle = assign(\"\"\"function(feature){\n",
    "    const h_cluster = feature.properties.h_cluster;\n",
    "    let color = '#FFEDA0';  // Default color\n",
    "\n",
    "    if (h_cluster === 1) {\n",
    "        color = '#FED976';  // Color for h_cluster 1\n",
    "    } else if (h_cluster === 2) {\n",
    "        color = '#FC4E2A';  // Color for h_cluster 2\n",
    "    } // Add more conditions as needed\n",
    "\n",
    "    return { fillColor: color, weight: 1, opacity: 1, color: 'black', fillOpacity: 0.7 };\n",
    "}\"\"\")\n"
   ]
  },
  {
   "cell_type": "code",
   "execution_count": 123,
   "metadata": {},
   "outputs": [
    {
     "name": "stderr",
     "output_type": "stream",
     "text": [
      "C:\\Users\\samtg\\AppData\\Local\\Temp\\ipykernel_45740\\1158062981.py:3: UserWarning:\n",
      "\n",
      "Geometry is in a geographic CRS. Results from 'centroid' are likely incorrect. Use 'GeoSeries.to_crs()' to re-project geometries to a projected CRS before this operation.\n",
      "\n",
      "\n"
     ]
    }
   ],
   "source": [
    "app = Dash(__name__)\n",
    "\n",
    "centroid = clusters_coords.geometry.centroid\n",
    "mean_lat, mean_lon = centroid.y.mean(), centroid.x.mean()\n",
    "\n",
    "\n",
    "app.layout = html.Div([\n",
    "    dl.Map(center=[mean_lat, mean_lon], zoom=12, children=[\n",
    "        dl.TileLayer(),\n",
    "        dl.GeoJSON(data=geojson, style=style_handle, \n",
    "                     hideout={'classes': [], 'colorscale': [], 'style': style}, id=\"geojson\")\n",
    "    ], style={'width': '100%', 'height': '50vh'}),\n",
    "])\n"
   ]
  },
  {
   "cell_type": "code",
   "execution_count": 116,
   "metadata": {},
   "outputs": [],
   "source": [
    "app.layout = html.Div([\n",
    "    \n",
    "    html.Button('Generate Dendrogram', id='dendrogram-button', n_clicks=0),\n",
    "    dcc.Graph(id='dendrogram'),\n",
    "    dcc.Input(id='num-clusters-input', type='number', placeholder='Enter number of clusters'),\n",
    "    html.Button('Show Clusters on Map', id='cluster-map-button', n_clicks=0),\n",
    "    dl.Map(\n",
    "        [dl.TileLayer(url='https://{s}.tile.openstreetmap.org/{z}/{x}/{y}.png')],  \n",
    "        id='map',\n",
    "        center=[40.7128, -74.0060],  \n",
    "        zoom=6,\n",
    "        style={'height': '50vh'}\n",
    "    ),\n",
    "])\n",
    "\n",
    "@app.callback(\n",
    "    Output('dendrogram', 'figure'),\n",
    "    Input('dendrogram-button', 'n_clicks'),\n",
    "    prevent_initial_call=True\n",
    ")\n",
    "def generate_dendrogram(n_clicks):\n",
    "    if n_clicks > 0: \n",
    "        Z = start_hierarchical(votes_df)\n",
    "    return ff.create_dendrogram(Z)\n",
    "\n",
    "@app.callback(\n",
    "    Output('map', 'children'),\n",
    "    [Input('cluster-map-button', 'n_clicks')],\n",
    "    [State('num-clusters-input', 'value')],\n",
    "    prevent_initial_call=True\n",
    ")\n",
    "def show_clusters_on_map(n_clicks, threshold):\n",
    "    if n_clicks > 0 and threshold:\n",
    "        Z = start_hierarchical(votes_df)\n",
    "        clusters = cluster(Z, votes_df, threshold)\n",
    "        clusters_coords = make_base_map(clusters, cc_df, gdf)\n",
    "        tile_layer = dl.TileLayer(url='https://{s}.tile.openstreetmap.org/{z}/{x}/{y}.png')\n",
    "        markers = [dl.Marker(position=coord) for coord in clusters_coords]\n",
    "        return [tile_layer] + markers\n",
    "    return [dl.TileLayer(url='https://{s}.tile.openstreetmap.org/{z}/{x}/{y}.png')]"
   ]
  },
  {
   "cell_type": "markdown",
   "metadata": {},
   "source": [
    "Preserving functional map"
   ]
  },
  {
   "cell_type": "code",
   "execution_count": 127,
   "metadata": {},
   "outputs": [],
   "source": [
    "app = Dash(__name__)"
   ]
  },
  {
   "cell_type": "code",
   "execution_count": 170,
   "metadata": {},
   "outputs": [],
   "source": [
    "geojson_data = json.loads(clusters_coords.to_json())"
   ]
  },
  {
   "cell_type": "code",
   "execution_count": 129,
   "metadata": {},
   "outputs": [],
   "source": [
    "style_handle = assign(\"\"\"function(feature){\n",
    "    const h_cluster = feature.properties.h_cluster;\n",
    "    let color = '#FFEDA0';  // Default color\n",
    "\n",
    "    if (h_cluster === 1) {\n",
    "        color = '#FED976';  // Color for h_cluster 1\n",
    "    } else if (h_cluster === 2) {\n",
    "        color = '#FC4E2A';  // Color for h_cluster 2\n",
    "    } // Add more conditions as needed\n",
    "\n",
    "    return { fillColor: color, weight: 1, opacity: 1, color: 'black', fillOpacity: 0.7 };\n",
    "}\"\"\")\n"
   ]
  },
  {
   "cell_type": "code",
   "execution_count": 130,
   "metadata": {},
   "outputs": [
    {
     "name": "stderr",
     "output_type": "stream",
     "text": [
      "C:\\Users\\samtg\\AppData\\Local\\Temp\\ipykernel_45740\\1121931027.py:1: UserWarning:\n",
      "\n",
      "Geometry is in a geographic CRS. Results from 'centroid' are likely incorrect. Use 'GeoSeries.to_crs()' to re-project geometries to a projected CRS before this operation.\n",
      "\n",
      "\n"
     ]
    }
   ],
   "source": [
    "centroid = clusters_coords.geometry.centroid\n",
    "mean_lat, mean_lon = centroid.y.mean(), centroid.x.mean()\n",
    "\n",
    "app.layout = html.Div([\n",
    "    dl.Map(center=[mean_lat, mean_lon], zoom=12, children=[\n",
    "        dl.TileLayer(),\n",
    "        dl.GeoJSON(data=geojson, style=style_handle, id=\"geojson\")\n",
    "    ], style={'width': '100%', 'height': '50vh'}),\n",
    "])"
   ]
  },
  {
   "cell_type": "code",
   "execution_count": null,
   "metadata": {},
   "outputs": [],
   "source": [
    "app.run_server(mode='inline')"
   ]
  },
  {
   "cell_type": "markdown",
   "metadata": {},
   "source": [
    "End"
   ]
  },
  {
   "cell_type": "markdown",
   "metadata": {},
   "source": [
    "Improvement "
   ]
  },
  {
   "cell_type": "code",
   "execution_count": 228,
   "metadata": {},
   "outputs": [],
   "source": [
    "def generate_colorscale(num_clusters):\n",
    "    cmap = plt.get_cmap('tab20')\n",
    "    colorscale = [\n",
    "        \"rgba({},{},{},{})\".format(int(r * 255), int(g * 255), int(b * 255), a)\n",
    "        for r, g, b, a in [cmap(i / num_clusters) for i in range(num_clusters)]\n",
    "    ]\n",
    "    return colorscale"
   ]
  },
  {
   "cell_type": "code",
   "execution_count": 249,
   "metadata": {},
   "outputs": [],
   "source": [
    "app = Dash(__name__)"
   ]
  },
  {
   "cell_type": "code",
   "execution_count": 250,
   "metadata": {},
   "outputs": [],
   "source": [
    "num_clusters = 5\n",
    "colors = generate_colorscale(num_clusters)\n",
    "style = dict(weight=2, opacity=1, color='white', dashArray='3', fillOpacity=0.7)"
   ]
  },
  {
   "cell_type": "code",
   "execution_count": 231,
   "metadata": {},
   "outputs": [
    {
     "data": {
      "text/plain": [
       "['rgba(31,119,180,1.0)',\n",
       " 'rgba(44,160,44,1.0)',\n",
       " 'rgba(148,103,189,1.0)',\n",
       " 'rgba(227,119,194,1.0)',\n",
       " 'rgba(188,189,34,1.0)']"
      ]
     },
     "execution_count": 231,
     "metadata": {},
     "output_type": "execute_result"
    }
   ],
   "source": [
    "colors"
   ]
  },
  {
   "cell_type": "code",
   "execution_count": 251,
   "metadata": {},
   "outputs": [],
   "source": [
    "style_handle = assign(\"\"\"function(feature, context){\n",
    "    const {num_clusters, colorscale, style} = context.hideout;  // get properties from hideout\n",
    "    const value = feature.properties.h_cluster;   // get the cluster number\n",
    "    for (let i = 0; i < num_clusters; ++i) {      // iterate over the number of clusters\n",
    "        if (value === i) {                        // compare with the cluster index\n",
    "            style.fillColor = colorscale[i];      // set the fill color according to the index\n",
    "            break;                                // break after setting the color\n",
    "        }\n",
    "    }\n",
    "    // Debugging log\n",
    "    console.log('Feature ID: ' + feature.id + ', Cluster: ' + value + ', Color: ' + style.fillColor);\n",
    "    return style;\n",
    "}\"\"\")\n"
   ]
  },
  {
   "cell_type": "code",
   "execution_count": 252,
   "metadata": {},
   "outputs": [],
   "source": [
    "geojson = dl.GeoJSON(data=geojson_data,  \n",
    "                     style=style_handle,  \n",
    "                     hideout=dict(colorscale=colors, num_clusters = num_clusters, style=style),\n",
    "                     id=\"geojson\")"
   ]
  },
  {
   "cell_type": "code",
   "execution_count": 253,
   "metadata": {},
   "outputs": [
    {
     "name": "stderr",
     "output_type": "stream",
     "text": [
      "C:\\Users\\samtg\\AppData\\Local\\Temp\\ipykernel_45740\\2888577369.py:1: UserWarning:\n",
      "\n",
      "Geometry is in a geographic CRS. Results from 'centroid' are likely incorrect. Use 'GeoSeries.to_crs()' to re-project geometries to a projected CRS before this operation.\n",
      "\n",
      "\n"
     ]
    }
   ],
   "source": [
    "centroid = clusters_coords.geometry.centroid\n",
    "mean_lat, mean_lon = centroid.y.mean(), centroid.x.mean()\n",
    "\n",
    "app.layout = html.Div([\n",
    "    dl.Map(center=[mean_lat, mean_lon], zoom=12, children=[\n",
    "        dl.TileLayer(),\n",
    "        geojson\n",
    "    ], style={'width': '100%', 'height': '50vh'}),\n",
    "])"
   ]
  },
  {
   "cell_type": "markdown",
   "metadata": {},
   "source": [
    "End"
   ]
  },
  {
   "cell_type": "code",
   "execution_count": 282,
   "metadata": {},
   "outputs": [],
   "source": [
    "app = Dash(__name__)"
   ]
  },
  {
   "cell_type": "code",
   "execution_count": 278,
   "metadata": {},
   "outputs": [],
   "source": [
    "def generate_colorscale(num_clusters, geojson_data):\n",
    "    cmap = plt.get_cmap('tab20')\n",
    "    colorscale = [\n",
    "        {\n",
    "            \"rgba\": \"rgba({},{},{},{})\".format(int(r * 255), int(g * 255), int(b * 255), a),\n",
    "            \"OfficeRecordFullName\": feature[\"properties\"][\"OfficeRecordFullName\"],\n",
    "            \"District\": feature[\"properties\"][\"District\"],\n",
    "            \"Cluster\": feature[\"properties\"][\"h_cluster\"],\n",
    "        }\n",
    "        for i, (r, g, b, a) in enumerate(cmap(i / num_clusters) for i in range(num_clusters))\n",
    "        for feature in geojson_data[\"features\"]\n",
    "    ]\n",
    "    return colorscale\n"
   ]
  },
  {
   "cell_type": "code",
   "execution_count": 299,
   "metadata": {},
   "outputs": [
    {
     "name": "stderr",
     "output_type": "stream",
     "text": [
      "C:\\Users\\samtg\\AppData\\Local\\Temp\\ipykernel_45740\\2154373844.py:5: UserWarning:\n",
      "\n",
      "Geometry is in a geographic CRS. Results from 'centroid' are likely incorrect. Use 'GeoSeries.to_crs()' to re-project geometries to a projected CRS before this operation.\n",
      "\n",
      "\n"
     ]
    }
   ],
   "source": [
    "app = Dash(__name__)\n",
    "num_clusters = 5\n",
    "colorscale = generate_colorscale(num_clusters,geojson_data)\n",
    "\n",
    "centroid = clusters_coords.geometry.centroid\n",
    "mean_lat, mean_lon = centroid.y.mean(), centroid.x.mean()\n",
    "\n",
    "hover_info = html.Div(\n",
    "    id=\"hover-info\",\n",
    "    style={\n",
    "        \"position\": \"absolute\",\n",
    "        \"top\": \"10px\",\n",
    "        \"right\": \"10px\",\n",
    "        \"zIndex\": \"1000\",\n",
    "        \"background-color\": \"white\", \n",
    "        \"padding\": \"10px\",  \n",
    "        \"border\": \"1px solid #ccc\", \n",
    "        \"border-radius\": \"5px\",  \n",
    "        \"box-shadow\": \"0 0 5px rgba(0, 0, 0, 0.2)\" \n",
    "    }\n",
    ")\n",
    "\n",
    "app.layout = html.Div([\n",
    "    dl.Map(center=[mean_lat, mean_lon], zoom=12, children=[\n",
    "        dl.TileLayer(),\n",
    "        geojson\n",
    "    ], style={'width': '100%', 'height': '50vh'}),\n",
    "    hover_info\n",
    "])\n",
    "\n",
    "@app.callback(\n",
    "    Output(\"hover-info\", \"children\"),\n",
    "    Input(\"geojson\", \"hoverData\")\n",
    ")\n",
    "def update_hover_info(hover_data):\n",
    "    if hover_data is not None:\n",
    "        properties = hover_data[\"properties\"]\n",
    "        office_name = properties.get(\"OfficeRecordFullName\", \"N/A\") \n",
    "        district = properties.get(\"District\", \"N/A\") \n",
    "        cluster_number = properties.get(\"h_cluster\", \"N/A\") \n",
    "\n",
    "        return [\n",
    "            html.H4(\"District Information\"),\n",
    "            html.P(f\"Council Member: {office_name}\"),\n",
    "            html.P(f\"District: {district}\"),\n",
    "            html.P(f\"Cluster: {cluster_number}\")\n",
    "        ]\n",
    "    return []\n",
    "\n"
   ]
  },
  {
   "cell_type": "code",
   "execution_count": null,
   "metadata": {},
   "outputs": [],
   "source": [
    "app.run_server(mode='inline')"
   ]
  },
  {
   "cell_type": "markdown",
   "metadata": {},
   "source": [
    "Attempt to add user input "
   ]
  },
  {
   "cell_type": "code",
   "execution_count": 321,
   "metadata": {},
   "outputs": [],
   "source": [
    "def generate_colorscale(num_clusters, geojson_data):\n",
    "    cmap = plt.get_cmap('tab20')\n",
    "    colorscale = [\n",
    "        \"rgba({},{},{},{})\".format(int(r * 255), int(g * 255), int(b * 255), a)\n",
    "        for r, g, b, a in (cmap(i / num_clusters) for i in range(num_clusters))\n",
    "    ]\n",
    "    return colorscale\n"
   ]
  },
  {
   "cell_type": "code",
   "execution_count": 322,
   "metadata": {},
   "outputs": [
    {
     "name": "stderr",
     "output_type": "stream",
     "text": [
      "C:\\Users\\samtg\\AppData\\Local\\Temp\\ipykernel_45740\\1560506666.py:12: UserWarning:\n",
      "\n",
      "Geometry is in a geographic CRS. Results from 'centroid' are likely incorrect. Use 'GeoSeries.to_crs()' to re-project geometries to a projected CRS before this operation.\n",
      "\n",
      "\n"
     ]
    }
   ],
   "source": [
    "app = Dash(__name__)\n",
    "\n",
    "initial_threshold = 40  # Adjust this based on what makes sense for your data\n",
    "\n",
    "# Generate initial clusters and GeoJSON data\n",
    "clusters = cluster(Z, votes_df, initial_threshold)\n",
    "clusters_coords = make_base_map(clusters, cc_df, gdf)\n",
    "geojson_data = json.loads(clusters_coords.to_json())\n",
    "num_clusters = 5  \n",
    "colorscale = generate_colorscale(num_clusters, geojson_data)\n",
    "\n",
    "centroid = clusters_coords.geometry.centroid\n",
    "mean_lat, mean_lon = centroid.y.mean(), centroid.x.mean()\n",
    "\n",
    "app.layout = html.Div([\n",
    "    dcc.Slider(\n",
    "        id='cluster-threshold-slider',\n",
    "        min=0,\n",
    "        max=100,  # Adjust max value based on your data's scale\n",
    "        step=1,\n",
    "        value=40,  # Initial value\n",
    "        marks={i: str(i) for i in range(0, 101, 10)},  # Adjust marks according to your needs\n",
    "    ),\n",
    "    html.Div(id='slider-output-container'),  # Optional: Displays chosen threshold\n",
    "    dl.Map(center=[mean_lat, mean_lon], zoom=12, children=[\n",
    "        dl.TileLayer(),\n",
    "        dl.GeoJSON(data=geojson_data,  \n",
    "                     style=style_handle,  \n",
    "                     hideout=dict(colorscale=colorscale, num_clusters = num_clusters, style=style),\n",
    "                     id=\"geojson\")\n",
    "    ], style={'width': '100%', 'height': '50vh'}),\n",
    "    hover_info\n",
    "])\n",
    "\n",
    "@app.callback(\n",
    "    Output(\"geojson\", \"data\"),\n",
    "    [Input(\"cluster-threshold-slider\", \"value\")]\n",
    ")\n",
    "def update_output(value):\n",
    "    clusters = cluster(Z, votes_df, value)\n",
    "    num_clusters = clusters['h_cluster'].nunique()\n",
    "    clusters_coords = make_base_map(clusters, cc_df, gdf)\n",
    "    new_geojson_data = json.loads(clusters_coords.to_json())\n",
    "    colorscale = generate_colorscale(num_clusters, new_geojson_data)\n",
    "    print(f\"Updated GeoJSON Data: {str(geojson_data)[:500]}\")\n",
    "    print(f\"Updated GeoJSON Data: {str(colorscale)[:500]}\")\n",
    "    return new_geojson_data\n",
    "\n"
   ]
  },
  {
   "cell_type": "code",
   "execution_count": null,
   "metadata": {},
   "outputs": [],
   "source": [
    "app.run_server(mode='inline')"
   ]
  },
  {
   "cell_type": "code",
   "execution_count": 1,
   "metadata": {},
   "outputs": [
    {
     "ename": "NameError",
     "evalue": "name 'Dash' is not defined",
     "output_type": "error",
     "traceback": [
      "\u001b[1;31m---------------------------------------------------------------------------\u001b[0m",
      "\u001b[1;31mNameError\u001b[0m                                 Traceback (most recent call last)",
      "Cell \u001b[1;32mIn[1], line 1\u001b[0m\n\u001b[1;32m----> 1\u001b[0m app \u001b[38;5;241m=\u001b[39m \u001b[43mDash\u001b[49m(\u001b[38;5;18m__name__\u001b[39m)\n\u001b[0;32m      3\u001b[0m initial_threshold \u001b[38;5;241m=\u001b[39m \u001b[38;5;241m40\u001b[39m  \n\u001b[0;32m      4\u001b[0m clusters \u001b[38;5;241m=\u001b[39m cluster(Z, votes_df, initial_threshold)\n",
      "\u001b[1;31mNameError\u001b[0m: name 'Dash' is not defined"
     ]
    }
   ],
   "source": [
    "app = Dash(__name__)\n",
    "\n",
    "initial_threshold = 40  \n",
    "clusters = cluster(Z, votes_df, initial_threshold)\n",
    "clusters_coords = make_base_map(clusters, cc_df, gdf)\n",
    "geojson_data = json.loads(clusters_coords.to_json())\n",
    "num_clusters = 5  \n",
    "colorscale = generate_colorscale(num_clusters, geojson_data)\n",
    "\n",
    "centroid = clusters_coords.geometry.centroid\n",
    "mean_lat, mean_lon = centroid.y.mean(), centroid.x.mean()\n",
    "\n",
    "hover_info = html.Div(\n",
    "    id=\"hover-info\",\n",
    "    style={\n",
    "        \"position\": \"absolute\",\n",
    "        \"top\": \"10px\",\n",
    "        \"right\": \"10px\",\n",
    "        \"zIndex\": \"1000\",\n",
    "        \"background-color\": \"white\", \n",
    "        \"padding\": \"10px\",  \n",
    "        \"border\": \"1px solid #ccc\", \n",
    "        \"border-radius\": \"5px\",  \n",
    "        \"box-shadow\": \"0 0 5px rgba(0, 0, 0, 0.2)\" \n",
    "    }\n",
    ")\n",
    "\n",
    "def create_dendrogram(Z):\n",
    "    fig = ff.create_dendrogram(Z, orientation='bottom')\n",
    "    fig.update_layout(width=800, height=400) \n",
    "    return fig\n",
    "dendrogram_fig = create_dendrogram(Z)\n",
    "\n",
    "app.layout = html.Div([\n",
    "        html.Div([\n",
    "        html.P(\"Text Here Does It work?.\"),\n",
    "    ], style={'padding': '20px'}),\n",
    "    html.Div([\n",
    "        dcc.Graph(\n",
    "            id='dendrogram-plot',\n",
    "            figure=dendrogram_fig\n",
    "        )\n",
    "    ]),\n",
    "    dcc.Slider(\n",
    "        id='cluster-threshold-slider',\n",
    "        min=0,\n",
    "        max=100,  \n",
    "        step=1,\n",
    "        value=40,  \n",
    "        marks={i: str(i) for i in range(0, 101, 10)},  \n",
    "    ),\n",
    "    html.Div(id='slider-output-container'),  \n",
    "    html.Div([\n",
    "        dl.Map(center=[mean_lat, mean_lon], zoom=12, children=[\n",
    "            dl.TileLayer(),\n",
    "            dl.GeoJSON(data=geojson_data,  \n",
    "                         style=style_handle,  \n",
    "                         hideout=dict(colorscale=colorscale, num_clusters=num_clusters, style=style),\n",
    "                         id=\"geojson\")\n",
    "        ], style={'width': '100%', 'height': '50vh'}),\n",
    "\n",
    "        hover_info  \n",
    "    ], style={'position': 'relative'}),  \n",
    "])\n",
    "\n",
    "\n",
    "@app.callback(\n",
    "    Output(\"geojson\", \"data\"),\n",
    "    [Input(\"cluster-threshold-slider\", \"value\")]\n",
    ")\n",
    "def update_output(value):\n",
    "    clusters = cluster(Z, votes_df, value)\n",
    "    num_clusters = clusters['h_cluster'].nunique()\n",
    "    clusters_coords = make_base_map(clusters, cc_df, gdf)\n",
    "    new_geojson_data = json.loads(clusters_coords.to_json())\n",
    "    colorscale = generate_colorscale(num_clusters, new_geojson_data)\n",
    "    return new_geojson_data\n",
    "\n",
    "@app.callback(\n",
    "    Output(\"hover-info\", \"children\"),\n",
    "    Input(\"geojson\", \"hoverData\")\n",
    ")\n",
    "def update_hover_info(hover_data):\n",
    "    if hover_data is not None:\n",
    "        properties = hover_data[\"properties\"]\n",
    "        office_name = properties.get(\"OfficeRecordFullName\", \"N/A\") \n",
    "        district = properties.get(\"District\", \"N/A\") \n",
    "        cluster_number = properties.get(\"h_cluster\", \"N/A\") \n",
    "\n",
    "        return [\n",
    "            html.H4(\"District Information\"),\n",
    "            html.P(f\"Council Member: {office_name}\"),\n",
    "            html.P(f\"District: {district}\"),\n",
    "            html.P(f\"Cluster: {cluster_number}\")\n",
    "        ]\n",
    "    return []\n"
   ]
  },
  {
   "cell_type": "code",
   "execution_count": null,
   "metadata": {},
   "outputs": [],
   "source": [
    "app.run_server(mode='inline')"
   ]
  },
  {
   "cell_type": "code",
   "execution_count": 25,
   "metadata": {},
   "outputs": [],
   "source": [
    "def generate_colorscale(num_clusters, geojson_data):\n",
    "    cmap = plt.get_cmap('viridis')\n",
    "    colorscale = [\n",
    "        \"rgba({},{},{},{})\".format(int(r * 255), int(g * 255), int(b * 255), a)\n",
    "        for r, g, b, a in (cmap(i / num_clusters) for i in range(num_clusters))\n",
    "    ]\n",
    "    print(f\"Generated colorscale: {colorscale}\")\n",
    "    return colorscale\n",
    "\n",
    "style_handle = assign(\"\"\"function(feature, context){\n",
    "    const {num_clusters, colorscale, style} = context.hideout;  // get properties from hideout\n",
    "    const value = feature.properties.h_cluster;   // get the cluster number\n",
    "    for (let i = 0; i < num_clusters; ++i) {      // iterate over the number of clusters\n",
    "        if (value === i + 1) {                        // compare with the cluster index\n",
    "            style.fillColor = colorscale[i];      // set the fill color according to the index\n",
    "            break;                                // break after setting the color\n",
    "        }\n",
    "    }\n",
    "    // Debugging log\n",
    "    console.log('Feature ID: ' + feature.id + ', Cluster: ' + value + ', Color: ' + style.fillColor);\n",
    "    return style;\n",
    "}\"\"\")\n"
   ]
  },
  {
   "cell_type": "code",
   "execution_count": 14,
   "metadata": {},
   "outputs": [],
   "source": [
    "cc_df = generate_cc_df()\n",
    "votes_df = find_close_votes()\n",
    "gdf = gpd.read_file('../shapefiles/nycc_22a')\n",
    "Z = start_hierarchical(votes_df)"
   ]
  },
  {
   "cell_type": "code",
   "execution_count": 12,
   "metadata": {},
   "outputs": [],
   "source": [
    "votes_df = find_close_votes()\n",
    "cc_df = generate_cc_df()\n",
    "gdf = gpd.read_file('../shapefiles/nycc_22a')\n",
    "Z = start_hierarchical(votes_df)\n",
    "clusters = cluster(Z, votes_df, 40)\n",
    "clusters_coords = make_base_map(clusters, cc_df, gdf)"
   ]
  },
  {
   "cell_type": "code",
   "execution_count": 16,
   "metadata": {},
   "outputs": [],
   "source": [
    "def start_hierarchical_test(close_votes):\n",
    "    close_votes = close_votes.reset_index()\n",
    "    scaled_df = scale_and_standardize(close_votes)\n",
    "    Z = hierarchical_cluster(scaled_df)\n",
    "    return Z"
   ]
  },
  {
   "cell_type": "code",
   "execution_count": 32,
   "metadata": {},
   "outputs": [],
   "source": [
    "votes_df.reset_index(inplace=True)"
   ]
  },
  {
   "cell_type": "code",
   "execution_count": 33,
   "metadata": {},
   "outputs": [
    {
     "data": {
      "text/html": [
       "<div>\n",
       "<style scoped>\n",
       "    .dataframe tbody tr th:only-of-type {\n",
       "        vertical-align: middle;\n",
       "    }\n",
       "\n",
       "    .dataframe tbody tr th {\n",
       "        vertical-align: top;\n",
       "    }\n",
       "\n",
       "    .dataframe thead th {\n",
       "        text-align: right;\n",
       "    }\n",
       "</style>\n",
       "<table border=\"1\" class=\"dataframe\">\n",
       "  <thead>\n",
       "    <tr style=\"text-align: right;\">\n",
       "      <th>VoteEventItemId</th>\n",
       "      <th>VotePersonName</th>\n",
       "      <th>380057</th>\n",
       "      <th>380071</th>\n",
       "      <th>380199</th>\n",
       "      <th>380210</th>\n",
       "      <th>380466</th>\n",
       "      <th>380467</th>\n",
       "      <th>380558</th>\n",
       "      <th>380559</th>\n",
       "      <th>381530</th>\n",
       "      <th>...</th>\n",
       "      <th>394511</th>\n",
       "      <th>394512</th>\n",
       "      <th>394513</th>\n",
       "      <th>394523</th>\n",
       "      <th>394657</th>\n",
       "      <th>394758</th>\n",
       "      <th>395002</th>\n",
       "      <th>395006</th>\n",
       "      <th>395643</th>\n",
       "      <th>395647</th>\n",
       "    </tr>\n",
       "  </thead>\n",
       "  <tbody>\n",
       "    <tr>\n",
       "      <th>0</th>\n",
       "      <td>Adrienne E. Adams</td>\n",
       "      <td>15.0</td>\n",
       "      <td>15.0</td>\n",
       "      <td>15.0</td>\n",
       "      <td>15.0</td>\n",
       "      <td>15.0</td>\n",
       "      <td>15.0</td>\n",
       "      <td>15.0</td>\n",
       "      <td>15.0</td>\n",
       "      <td>15.0</td>\n",
       "      <td>...</td>\n",
       "      <td>15.0</td>\n",
       "      <td>15.0</td>\n",
       "      <td>15.0</td>\n",
       "      <td>15.0</td>\n",
       "      <td>15.0</td>\n",
       "      <td>15.0</td>\n",
       "      <td>15.0</td>\n",
       "      <td>15.0</td>\n",
       "      <td>15.0</td>\n",
       "      <td>15.0</td>\n",
       "    </tr>\n",
       "    <tr>\n",
       "      <th>1</th>\n",
       "      <td>Alexa Avilés</td>\n",
       "      <td>11.0</td>\n",
       "      <td>15.0</td>\n",
       "      <td>11.0</td>\n",
       "      <td>15.0</td>\n",
       "      <td>4.0</td>\n",
       "      <td>4.0</td>\n",
       "      <td>4.0</td>\n",
       "      <td>4.0</td>\n",
       "      <td>15.0</td>\n",
       "      <td>...</td>\n",
       "      <td>15.0</td>\n",
       "      <td>15.0</td>\n",
       "      <td>15.0</td>\n",
       "      <td>12.0</td>\n",
       "      <td>15.0</td>\n",
       "      <td>12.0</td>\n",
       "      <td>15.0</td>\n",
       "      <td>15.0</td>\n",
       "      <td>15.0</td>\n",
       "      <td>11.0</td>\n",
       "    </tr>\n",
       "    <tr>\n",
       "      <th>2</th>\n",
       "      <td>Althea V.  Stevens</td>\n",
       "      <td>15.0</td>\n",
       "      <td>15.0</td>\n",
       "      <td>15.0</td>\n",
       "      <td>15.0</td>\n",
       "      <td>15.0</td>\n",
       "      <td>15.0</td>\n",
       "      <td>15.0</td>\n",
       "      <td>15.0</td>\n",
       "      <td>15.0</td>\n",
       "      <td>...</td>\n",
       "      <td>15.0</td>\n",
       "      <td>15.0</td>\n",
       "      <td>15.0</td>\n",
       "      <td>15.0</td>\n",
       "      <td>11.0</td>\n",
       "      <td>15.0</td>\n",
       "      <td>15.0</td>\n",
       "      <td>15.0</td>\n",
       "      <td>15.0</td>\n",
       "      <td>15.0</td>\n",
       "    </tr>\n",
       "    <tr>\n",
       "      <th>3</th>\n",
       "      <td>Amanda Farías</td>\n",
       "      <td>15.0</td>\n",
       "      <td>15.0</td>\n",
       "      <td>15.0</td>\n",
       "      <td>15.0</td>\n",
       "      <td>15.0</td>\n",
       "      <td>15.0</td>\n",
       "      <td>15.0</td>\n",
       "      <td>15.0</td>\n",
       "      <td>15.0</td>\n",
       "      <td>...</td>\n",
       "      <td>15.0</td>\n",
       "      <td>15.0</td>\n",
       "      <td>15.0</td>\n",
       "      <td>15.0</td>\n",
       "      <td>15.0</td>\n",
       "      <td>15.0</td>\n",
       "      <td>15.0</td>\n",
       "      <td>15.0</td>\n",
       "      <td>15.0</td>\n",
       "      <td>15.0</td>\n",
       "    </tr>\n",
       "    <tr>\n",
       "      <th>4</th>\n",
       "      <td>Ari Kagan</td>\n",
       "      <td>15.0</td>\n",
       "      <td>12.0</td>\n",
       "      <td>15.0</td>\n",
       "      <td>12.0</td>\n",
       "      <td>15.0</td>\n",
       "      <td>15.0</td>\n",
       "      <td>15.0</td>\n",
       "      <td>15.0</td>\n",
       "      <td>15.0</td>\n",
       "      <td>...</td>\n",
       "      <td>12.0</td>\n",
       "      <td>12.0</td>\n",
       "      <td>12.0</td>\n",
       "      <td>15.0</td>\n",
       "      <td>12.0</td>\n",
       "      <td>15.0</td>\n",
       "      <td>12.0</td>\n",
       "      <td>12.0</td>\n",
       "      <td>12.0</td>\n",
       "      <td>15.0</td>\n",
       "    </tr>\n",
       "    <tr>\n",
       "      <th>5</th>\n",
       "      <td>Carlina Rivera</td>\n",
       "      <td>15.0</td>\n",
       "      <td>15.0</td>\n",
       "      <td>15.0</td>\n",
       "      <td>15.0</td>\n",
       "      <td>15.0</td>\n",
       "      <td>15.0</td>\n",
       "      <td>15.0</td>\n",
       "      <td>15.0</td>\n",
       "      <td>15.0</td>\n",
       "      <td>...</td>\n",
       "      <td>15.0</td>\n",
       "      <td>15.0</td>\n",
       "      <td>15.0</td>\n",
       "      <td>15.0</td>\n",
       "      <td>15.0</td>\n",
       "      <td>15.0</td>\n",
       "      <td>15.0</td>\n",
       "      <td>15.0</td>\n",
       "      <td>15.0</td>\n",
       "      <td>15.0</td>\n",
       "    </tr>\n",
       "    <tr>\n",
       "      <th>6</th>\n",
       "      <td>Carmen N. De La Rosa</td>\n",
       "      <td>15.0</td>\n",
       "      <td>15.0</td>\n",
       "      <td>15.0</td>\n",
       "      <td>15.0</td>\n",
       "      <td>15.0</td>\n",
       "      <td>15.0</td>\n",
       "      <td>15.0</td>\n",
       "      <td>15.0</td>\n",
       "      <td>15.0</td>\n",
       "      <td>...</td>\n",
       "      <td>15.0</td>\n",
       "      <td>15.0</td>\n",
       "      <td>15.0</td>\n",
       "      <td>15.0</td>\n",
       "      <td>15.0</td>\n",
       "      <td>15.0</td>\n",
       "      <td>15.0</td>\n",
       "      <td>15.0</td>\n",
       "      <td>15.0</td>\n",
       "      <td>11.0</td>\n",
       "    </tr>\n",
       "    <tr>\n",
       "      <th>7</th>\n",
       "      <td>Charles Barron</td>\n",
       "      <td>12.0</td>\n",
       "      <td>15.0</td>\n",
       "      <td>12.0</td>\n",
       "      <td>15.0</td>\n",
       "      <td>15.0</td>\n",
       "      <td>15.0</td>\n",
       "      <td>15.0</td>\n",
       "      <td>15.0</td>\n",
       "      <td>15.0</td>\n",
       "      <td>...</td>\n",
       "      <td>15.0</td>\n",
       "      <td>15.0</td>\n",
       "      <td>15.0</td>\n",
       "      <td>12.0</td>\n",
       "      <td>15.0</td>\n",
       "      <td>12.0</td>\n",
       "      <td>15.0</td>\n",
       "      <td>15.0</td>\n",
       "      <td>15.0</td>\n",
       "      <td>15.0</td>\n",
       "    </tr>\n",
       "    <tr>\n",
       "      <th>8</th>\n",
       "      <td>Chi A. Ossé</td>\n",
       "      <td>11.0</td>\n",
       "      <td>15.0</td>\n",
       "      <td>11.0</td>\n",
       "      <td>15.0</td>\n",
       "      <td>15.0</td>\n",
       "      <td>15.0</td>\n",
       "      <td>15.0</td>\n",
       "      <td>15.0</td>\n",
       "      <td>15.0</td>\n",
       "      <td>...</td>\n",
       "      <td>15.0</td>\n",
       "      <td>15.0</td>\n",
       "      <td>15.0</td>\n",
       "      <td>15.0</td>\n",
       "      <td>15.0</td>\n",
       "      <td>15.0</td>\n",
       "      <td>15.0</td>\n",
       "      <td>15.0</td>\n",
       "      <td>15.0</td>\n",
       "      <td>11.0</td>\n",
       "    </tr>\n",
       "    <tr>\n",
       "      <th>9</th>\n",
       "      <td>Christopher Marte</td>\n",
       "      <td>15.0</td>\n",
       "      <td>15.0</td>\n",
       "      <td>15.0</td>\n",
       "      <td>15.0</td>\n",
       "      <td>15.0</td>\n",
       "      <td>15.0</td>\n",
       "      <td>15.0</td>\n",
       "      <td>15.0</td>\n",
       "      <td>15.0</td>\n",
       "      <td>...</td>\n",
       "      <td>15.0</td>\n",
       "      <td>15.0</td>\n",
       "      <td>15.0</td>\n",
       "      <td>15.0</td>\n",
       "      <td>15.0</td>\n",
       "      <td>15.0</td>\n",
       "      <td>15.0</td>\n",
       "      <td>15.0</td>\n",
       "      <td>15.0</td>\n",
       "      <td>15.0</td>\n",
       "    </tr>\n",
       "    <tr>\n",
       "      <th>10</th>\n",
       "      <td>Crystal Hudson</td>\n",
       "      <td>11.0</td>\n",
       "      <td>15.0</td>\n",
       "      <td>11.0</td>\n",
       "      <td>15.0</td>\n",
       "      <td>15.0</td>\n",
       "      <td>15.0</td>\n",
       "      <td>15.0</td>\n",
       "      <td>15.0</td>\n",
       "      <td>15.0</td>\n",
       "      <td>...</td>\n",
       "      <td>15.0</td>\n",
       "      <td>15.0</td>\n",
       "      <td>15.0</td>\n",
       "      <td>15.0</td>\n",
       "      <td>15.0</td>\n",
       "      <td>15.0</td>\n",
       "      <td>15.0</td>\n",
       "      <td>15.0</td>\n",
       "      <td>15.0</td>\n",
       "      <td>15.0</td>\n",
       "    </tr>\n",
       "    <tr>\n",
       "      <th>11</th>\n",
       "      <td>Darlene Mealy</td>\n",
       "      <td>15.0</td>\n",
       "      <td>12.0</td>\n",
       "      <td>15.0</td>\n",
       "      <td>12.0</td>\n",
       "      <td>15.0</td>\n",
       "      <td>15.0</td>\n",
       "      <td>15.0</td>\n",
       "      <td>15.0</td>\n",
       "      <td>46.0</td>\n",
       "      <td>...</td>\n",
       "      <td>15.0</td>\n",
       "      <td>15.0</td>\n",
       "      <td>15.0</td>\n",
       "      <td>15.0</td>\n",
       "      <td>15.0</td>\n",
       "      <td>15.0</td>\n",
       "      <td>15.0</td>\n",
       "      <td>15.0</td>\n",
       "      <td>15.0</td>\n",
       "      <td>15.0</td>\n",
       "    </tr>\n",
       "    <tr>\n",
       "      <th>12</th>\n",
       "      <td>David M. Carr</td>\n",
       "      <td>15.0</td>\n",
       "      <td>15.0</td>\n",
       "      <td>15.0</td>\n",
       "      <td>15.0</td>\n",
       "      <td>12.0</td>\n",
       "      <td>12.0</td>\n",
       "      <td>12.0</td>\n",
       "      <td>12.0</td>\n",
       "      <td>12.0</td>\n",
       "      <td>...</td>\n",
       "      <td>12.0</td>\n",
       "      <td>12.0</td>\n",
       "      <td>12.0</td>\n",
       "      <td>15.0</td>\n",
       "      <td>12.0</td>\n",
       "      <td>15.0</td>\n",
       "      <td>12.0</td>\n",
       "      <td>12.0</td>\n",
       "      <td>12.0</td>\n",
       "      <td>15.0</td>\n",
       "    </tr>\n",
       "    <tr>\n",
       "      <th>13</th>\n",
       "      <td>Diana I. Ayala</td>\n",
       "      <td>15.0</td>\n",
       "      <td>15.0</td>\n",
       "      <td>15.0</td>\n",
       "      <td>15.0</td>\n",
       "      <td>15.0</td>\n",
       "      <td>12.0</td>\n",
       "      <td>15.0</td>\n",
       "      <td>12.0</td>\n",
       "      <td>15.0</td>\n",
       "      <td>...</td>\n",
       "      <td>15.0</td>\n",
       "      <td>15.0</td>\n",
       "      <td>15.0</td>\n",
       "      <td>15.0</td>\n",
       "      <td>15.0</td>\n",
       "      <td>15.0</td>\n",
       "      <td>15.0</td>\n",
       "      <td>15.0</td>\n",
       "      <td>15.0</td>\n",
       "      <td>15.0</td>\n",
       "    </tr>\n",
       "    <tr>\n",
       "      <th>14</th>\n",
       "      <td>Eric Dinowitz</td>\n",
       "      <td>15.0</td>\n",
       "      <td>15.0</td>\n",
       "      <td>15.0</td>\n",
       "      <td>15.0</td>\n",
       "      <td>15.0</td>\n",
       "      <td>15.0</td>\n",
       "      <td>15.0</td>\n",
       "      <td>15.0</td>\n",
       "      <td>15.0</td>\n",
       "      <td>...</td>\n",
       "      <td>15.0</td>\n",
       "      <td>15.0</td>\n",
       "      <td>15.0</td>\n",
       "      <td>15.0</td>\n",
       "      <td>15.0</td>\n",
       "      <td>15.0</td>\n",
       "      <td>15.0</td>\n",
       "      <td>15.0</td>\n",
       "      <td>15.0</td>\n",
       "      <td>15.0</td>\n",
       "    </tr>\n",
       "    <tr>\n",
       "      <th>15</th>\n",
       "      <td>Erik D. Bottcher</td>\n",
       "      <td>15.0</td>\n",
       "      <td>15.0</td>\n",
       "      <td>15.0</td>\n",
       "      <td>15.0</td>\n",
       "      <td>15.0</td>\n",
       "      <td>15.0</td>\n",
       "      <td>15.0</td>\n",
       "      <td>15.0</td>\n",
       "      <td>15.0</td>\n",
       "      <td>...</td>\n",
       "      <td>15.0</td>\n",
       "      <td>15.0</td>\n",
       "      <td>15.0</td>\n",
       "      <td>15.0</td>\n",
       "      <td>15.0</td>\n",
       "      <td>15.0</td>\n",
       "      <td>15.0</td>\n",
       "      <td>15.0</td>\n",
       "      <td>15.0</td>\n",
       "      <td>15.0</td>\n",
       "    </tr>\n",
       "    <tr>\n",
       "      <th>16</th>\n",
       "      <td>Farah N. Louis</td>\n",
       "      <td>15.0</td>\n",
       "      <td>15.0</td>\n",
       "      <td>15.0</td>\n",
       "      <td>15.0</td>\n",
       "      <td>15.0</td>\n",
       "      <td>15.0</td>\n",
       "      <td>15.0</td>\n",
       "      <td>15.0</td>\n",
       "      <td>15.0</td>\n",
       "      <td>...</td>\n",
       "      <td>15.0</td>\n",
       "      <td>15.0</td>\n",
       "      <td>15.0</td>\n",
       "      <td>15.0</td>\n",
       "      <td>15.0</td>\n",
       "      <td>15.0</td>\n",
       "      <td>15.0</td>\n",
       "      <td>15.0</td>\n",
       "      <td>15.0</td>\n",
       "      <td>15.0</td>\n",
       "    </tr>\n",
       "    <tr>\n",
       "      <th>17</th>\n",
       "      <td>Francisco P. Moya</td>\n",
       "      <td>15.0</td>\n",
       "      <td>15.0</td>\n",
       "      <td>15.0</td>\n",
       "      <td>15.0</td>\n",
       "      <td>15.0</td>\n",
       "      <td>15.0</td>\n",
       "      <td>15.0</td>\n",
       "      <td>15.0</td>\n",
       "      <td>15.0</td>\n",
       "      <td>...</td>\n",
       "      <td>4.0</td>\n",
       "      <td>4.0</td>\n",
       "      <td>4.0</td>\n",
       "      <td>4.0</td>\n",
       "      <td>4.0</td>\n",
       "      <td>4.0</td>\n",
       "      <td>15.0</td>\n",
       "      <td>15.0</td>\n",
       "      <td>15.0</td>\n",
       "      <td>15.0</td>\n",
       "    </tr>\n",
       "    <tr>\n",
       "      <th>18</th>\n",
       "      <td>Gale A. Brewer</td>\n",
       "      <td>15.0</td>\n",
       "      <td>15.0</td>\n",
       "      <td>15.0</td>\n",
       "      <td>15.0</td>\n",
       "      <td>15.0</td>\n",
       "      <td>15.0</td>\n",
       "      <td>15.0</td>\n",
       "      <td>15.0</td>\n",
       "      <td>15.0</td>\n",
       "      <td>...</td>\n",
       "      <td>15.0</td>\n",
       "      <td>15.0</td>\n",
       "      <td>15.0</td>\n",
       "      <td>15.0</td>\n",
       "      <td>15.0</td>\n",
       "      <td>15.0</td>\n",
       "      <td>15.0</td>\n",
       "      <td>15.0</td>\n",
       "      <td>15.0</td>\n",
       "      <td>15.0</td>\n",
       "    </tr>\n",
       "    <tr>\n",
       "      <th>19</th>\n",
       "      <td>Inna Vernikov</td>\n",
       "      <td>15.0</td>\n",
       "      <td>12.0</td>\n",
       "      <td>15.0</td>\n",
       "      <td>12.0</td>\n",
       "      <td>12.0</td>\n",
       "      <td>12.0</td>\n",
       "      <td>12.0</td>\n",
       "      <td>12.0</td>\n",
       "      <td>12.0</td>\n",
       "      <td>...</td>\n",
       "      <td>16.0</td>\n",
       "      <td>16.0</td>\n",
       "      <td>16.0</td>\n",
       "      <td>16.0</td>\n",
       "      <td>16.0</td>\n",
       "      <td>16.0</td>\n",
       "      <td>12.0</td>\n",
       "      <td>12.0</td>\n",
       "      <td>9.0</td>\n",
       "      <td>9.0</td>\n",
       "    </tr>\n",
       "    <tr>\n",
       "      <th>20</th>\n",
       "      <td>James F. Gennaro</td>\n",
       "      <td>15.0</td>\n",
       "      <td>12.0</td>\n",
       "      <td>15.0</td>\n",
       "      <td>12.0</td>\n",
       "      <td>15.0</td>\n",
       "      <td>15.0</td>\n",
       "      <td>15.0</td>\n",
       "      <td>15.0</td>\n",
       "      <td>15.0</td>\n",
       "      <td>...</td>\n",
       "      <td>15.0</td>\n",
       "      <td>15.0</td>\n",
       "      <td>15.0</td>\n",
       "      <td>15.0</td>\n",
       "      <td>15.0</td>\n",
       "      <td>15.0</td>\n",
       "      <td>15.0</td>\n",
       "      <td>15.0</td>\n",
       "      <td>15.0</td>\n",
       "      <td>15.0</td>\n",
       "    </tr>\n",
       "    <tr>\n",
       "      <th>21</th>\n",
       "      <td>Jennifer Gutiérrez</td>\n",
       "      <td>11.0</td>\n",
       "      <td>15.0</td>\n",
       "      <td>11.0</td>\n",
       "      <td>15.0</td>\n",
       "      <td>15.0</td>\n",
       "      <td>15.0</td>\n",
       "      <td>15.0</td>\n",
       "      <td>15.0</td>\n",
       "      <td>15.0</td>\n",
       "      <td>...</td>\n",
       "      <td>15.0</td>\n",
       "      <td>15.0</td>\n",
       "      <td>15.0</td>\n",
       "      <td>12.0</td>\n",
       "      <td>15.0</td>\n",
       "      <td>12.0</td>\n",
       "      <td>15.0</td>\n",
       "      <td>15.0</td>\n",
       "      <td>15.0</td>\n",
       "      <td>11.0</td>\n",
       "    </tr>\n",
       "    <tr>\n",
       "      <th>22</th>\n",
       "      <td>Joann Ariola</td>\n",
       "      <td>15.0</td>\n",
       "      <td>15.0</td>\n",
       "      <td>15.0</td>\n",
       "      <td>15.0</td>\n",
       "      <td>12.0</td>\n",
       "      <td>12.0</td>\n",
       "      <td>12.0</td>\n",
       "      <td>12.0</td>\n",
       "      <td>12.0</td>\n",
       "      <td>...</td>\n",
       "      <td>12.0</td>\n",
       "      <td>12.0</td>\n",
       "      <td>12.0</td>\n",
       "      <td>15.0</td>\n",
       "      <td>12.0</td>\n",
       "      <td>15.0</td>\n",
       "      <td>12.0</td>\n",
       "      <td>12.0</td>\n",
       "      <td>12.0</td>\n",
       "      <td>15.0</td>\n",
       "    </tr>\n",
       "    <tr>\n",
       "      <th>23</th>\n",
       "      <td>Joseph C. Borelli</td>\n",
       "      <td>15.0</td>\n",
       "      <td>15.0</td>\n",
       "      <td>15.0</td>\n",
       "      <td>15.0</td>\n",
       "      <td>12.0</td>\n",
       "      <td>12.0</td>\n",
       "      <td>12.0</td>\n",
       "      <td>12.0</td>\n",
       "      <td>12.0</td>\n",
       "      <td>...</td>\n",
       "      <td>12.0</td>\n",
       "      <td>12.0</td>\n",
       "      <td>12.0</td>\n",
       "      <td>15.0</td>\n",
       "      <td>12.0</td>\n",
       "      <td>15.0</td>\n",
       "      <td>12.0</td>\n",
       "      <td>12.0</td>\n",
       "      <td>12.0</td>\n",
       "      <td>15.0</td>\n",
       "    </tr>\n",
       "    <tr>\n",
       "      <th>24</th>\n",
       "      <td>Julie Menin</td>\n",
       "      <td>15.0</td>\n",
       "      <td>15.0</td>\n",
       "      <td>15.0</td>\n",
       "      <td>15.0</td>\n",
       "      <td>15.0</td>\n",
       "      <td>15.0</td>\n",
       "      <td>15.0</td>\n",
       "      <td>15.0</td>\n",
       "      <td>15.0</td>\n",
       "      <td>...</td>\n",
       "      <td>15.0</td>\n",
       "      <td>15.0</td>\n",
       "      <td>15.0</td>\n",
       "      <td>15.0</td>\n",
       "      <td>15.0</td>\n",
       "      <td>15.0</td>\n",
       "      <td>15.0</td>\n",
       "      <td>15.0</td>\n",
       "      <td>15.0</td>\n",
       "      <td>15.0</td>\n",
       "    </tr>\n",
       "    <tr>\n",
       "      <th>25</th>\n",
       "      <td>Julie Won</td>\n",
       "      <td>11.0</td>\n",
       "      <td>15.0</td>\n",
       "      <td>11.0</td>\n",
       "      <td>15.0</td>\n",
       "      <td>15.0</td>\n",
       "      <td>15.0</td>\n",
       "      <td>15.0</td>\n",
       "      <td>15.0</td>\n",
       "      <td>15.0</td>\n",
       "      <td>...</td>\n",
       "      <td>15.0</td>\n",
       "      <td>15.0</td>\n",
       "      <td>15.0</td>\n",
       "      <td>15.0</td>\n",
       "      <td>15.0</td>\n",
       "      <td>15.0</td>\n",
       "      <td>15.0</td>\n",
       "      <td>15.0</td>\n",
       "      <td>15.0</td>\n",
       "      <td>15.0</td>\n",
       "    </tr>\n",
       "    <tr>\n",
       "      <th>26</th>\n",
       "      <td>Justin L. Brannan</td>\n",
       "      <td>15.0</td>\n",
       "      <td>15.0</td>\n",
       "      <td>15.0</td>\n",
       "      <td>15.0</td>\n",
       "      <td>15.0</td>\n",
       "      <td>15.0</td>\n",
       "      <td>15.0</td>\n",
       "      <td>15.0</td>\n",
       "      <td>15.0</td>\n",
       "      <td>...</td>\n",
       "      <td>15.0</td>\n",
       "      <td>15.0</td>\n",
       "      <td>15.0</td>\n",
       "      <td>15.0</td>\n",
       "      <td>15.0</td>\n",
       "      <td>15.0</td>\n",
       "      <td>15.0</td>\n",
       "      <td>15.0</td>\n",
       "      <td>15.0</td>\n",
       "      <td>15.0</td>\n",
       "    </tr>\n",
       "    <tr>\n",
       "      <th>27</th>\n",
       "      <td>Kalman Yeger</td>\n",
       "      <td>15.0</td>\n",
       "      <td>12.0</td>\n",
       "      <td>15.0</td>\n",
       "      <td>12.0</td>\n",
       "      <td>15.0</td>\n",
       "      <td>12.0</td>\n",
       "      <td>15.0</td>\n",
       "      <td>12.0</td>\n",
       "      <td>15.0</td>\n",
       "      <td>...</td>\n",
       "      <td>12.0</td>\n",
       "      <td>12.0</td>\n",
       "      <td>12.0</td>\n",
       "      <td>15.0</td>\n",
       "      <td>12.0</td>\n",
       "      <td>15.0</td>\n",
       "      <td>12.0</td>\n",
       "      <td>12.0</td>\n",
       "      <td>12.0</td>\n",
       "      <td>15.0</td>\n",
       "    </tr>\n",
       "    <tr>\n",
       "      <th>28</th>\n",
       "      <td>Kamillah Hanks</td>\n",
       "      <td>15.0</td>\n",
       "      <td>15.0</td>\n",
       "      <td>15.0</td>\n",
       "      <td>15.0</td>\n",
       "      <td>15.0</td>\n",
       "      <td>15.0</td>\n",
       "      <td>15.0</td>\n",
       "      <td>15.0</td>\n",
       "      <td>15.0</td>\n",
       "      <td>...</td>\n",
       "      <td>15.0</td>\n",
       "      <td>15.0</td>\n",
       "      <td>15.0</td>\n",
       "      <td>15.0</td>\n",
       "      <td>12.0</td>\n",
       "      <td>15.0</td>\n",
       "      <td>15.0</td>\n",
       "      <td>15.0</td>\n",
       "      <td>15.0</td>\n",
       "      <td>15.0</td>\n",
       "    </tr>\n",
       "    <tr>\n",
       "      <th>29</th>\n",
       "      <td>Keith Powers</td>\n",
       "      <td>15.0</td>\n",
       "      <td>15.0</td>\n",
       "      <td>15.0</td>\n",
       "      <td>15.0</td>\n",
       "      <td>15.0</td>\n",
       "      <td>15.0</td>\n",
       "      <td>15.0</td>\n",
       "      <td>15.0</td>\n",
       "      <td>15.0</td>\n",
       "      <td>...</td>\n",
       "      <td>15.0</td>\n",
       "      <td>15.0</td>\n",
       "      <td>15.0</td>\n",
       "      <td>15.0</td>\n",
       "      <td>15.0</td>\n",
       "      <td>15.0</td>\n",
       "      <td>15.0</td>\n",
       "      <td>15.0</td>\n",
       "      <td>15.0</td>\n",
       "      <td>15.0</td>\n",
       "    </tr>\n",
       "    <tr>\n",
       "      <th>30</th>\n",
       "      <td>Kevin C. Riley</td>\n",
       "      <td>15.0</td>\n",
       "      <td>15.0</td>\n",
       "      <td>15.0</td>\n",
       "      <td>15.0</td>\n",
       "      <td>15.0</td>\n",
       "      <td>15.0</td>\n",
       "      <td>15.0</td>\n",
       "      <td>15.0</td>\n",
       "      <td>15.0</td>\n",
       "      <td>...</td>\n",
       "      <td>15.0</td>\n",
       "      <td>15.0</td>\n",
       "      <td>15.0</td>\n",
       "      <td>15.0</td>\n",
       "      <td>11.0</td>\n",
       "      <td>15.0</td>\n",
       "      <td>15.0</td>\n",
       "      <td>15.0</td>\n",
       "      <td>15.0</td>\n",
       "      <td>15.0</td>\n",
       "    </tr>\n",
       "    <tr>\n",
       "      <th>31</th>\n",
       "      <td>Kristin Richardson Jordan</td>\n",
       "      <td>12.0</td>\n",
       "      <td>15.0</td>\n",
       "      <td>12.0</td>\n",
       "      <td>15.0</td>\n",
       "      <td>15.0</td>\n",
       "      <td>15.0</td>\n",
       "      <td>15.0</td>\n",
       "      <td>15.0</td>\n",
       "      <td>15.0</td>\n",
       "      <td>...</td>\n",
       "      <td>15.0</td>\n",
       "      <td>15.0</td>\n",
       "      <td>15.0</td>\n",
       "      <td>12.0</td>\n",
       "      <td>15.0</td>\n",
       "      <td>12.0</td>\n",
       "      <td>15.0</td>\n",
       "      <td>15.0</td>\n",
       "      <td>15.0</td>\n",
       "      <td>12.0</td>\n",
       "    </tr>\n",
       "    <tr>\n",
       "      <th>32</th>\n",
       "      <td>Lincoln Restler</td>\n",
       "      <td>15.0</td>\n",
       "      <td>15.0</td>\n",
       "      <td>15.0</td>\n",
       "      <td>15.0</td>\n",
       "      <td>15.0</td>\n",
       "      <td>15.0</td>\n",
       "      <td>15.0</td>\n",
       "      <td>15.0</td>\n",
       "      <td>15.0</td>\n",
       "      <td>...</td>\n",
       "      <td>15.0</td>\n",
       "      <td>15.0</td>\n",
       "      <td>15.0</td>\n",
       "      <td>15.0</td>\n",
       "      <td>15.0</td>\n",
       "      <td>15.0</td>\n",
       "      <td>15.0</td>\n",
       "      <td>15.0</td>\n",
       "      <td>15.0</td>\n",
       "      <td>11.0</td>\n",
       "    </tr>\n",
       "    <tr>\n",
       "      <th>33</th>\n",
       "      <td>Linda Lee</td>\n",
       "      <td>15.0</td>\n",
       "      <td>15.0</td>\n",
       "      <td>15.0</td>\n",
       "      <td>15.0</td>\n",
       "      <td>15.0</td>\n",
       "      <td>15.0</td>\n",
       "      <td>15.0</td>\n",
       "      <td>15.0</td>\n",
       "      <td>15.0</td>\n",
       "      <td>...</td>\n",
       "      <td>15.0</td>\n",
       "      <td>15.0</td>\n",
       "      <td>15.0</td>\n",
       "      <td>15.0</td>\n",
       "      <td>11.0</td>\n",
       "      <td>15.0</td>\n",
       "      <td>15.0</td>\n",
       "      <td>15.0</td>\n",
       "      <td>15.0</td>\n",
       "      <td>15.0</td>\n",
       "    </tr>\n",
       "    <tr>\n",
       "      <th>34</th>\n",
       "      <td>Lynn C. Schulman</td>\n",
       "      <td>15.0</td>\n",
       "      <td>15.0</td>\n",
       "      <td>15.0</td>\n",
       "      <td>15.0</td>\n",
       "      <td>15.0</td>\n",
       "      <td>15.0</td>\n",
       "      <td>15.0</td>\n",
       "      <td>15.0</td>\n",
       "      <td>15.0</td>\n",
       "      <td>...</td>\n",
       "      <td>15.0</td>\n",
       "      <td>15.0</td>\n",
       "      <td>15.0</td>\n",
       "      <td>15.0</td>\n",
       "      <td>15.0</td>\n",
       "      <td>15.0</td>\n",
       "      <td>15.0</td>\n",
       "      <td>15.0</td>\n",
       "      <td>15.0</td>\n",
       "      <td>15.0</td>\n",
       "    </tr>\n",
       "    <tr>\n",
       "      <th>35</th>\n",
       "      <td>Marjorie Velázquez</td>\n",
       "      <td>15.0</td>\n",
       "      <td>15.0</td>\n",
       "      <td>15.0</td>\n",
       "      <td>15.0</td>\n",
       "      <td>15.0</td>\n",
       "      <td>15.0</td>\n",
       "      <td>15.0</td>\n",
       "      <td>15.0</td>\n",
       "      <td>15.0</td>\n",
       "      <td>...</td>\n",
       "      <td>16.0</td>\n",
       "      <td>16.0</td>\n",
       "      <td>16.0</td>\n",
       "      <td>16.0</td>\n",
       "      <td>16.0</td>\n",
       "      <td>16.0</td>\n",
       "      <td>15.0</td>\n",
       "      <td>15.0</td>\n",
       "      <td>11.0</td>\n",
       "      <td>15.0</td>\n",
       "    </tr>\n",
       "    <tr>\n",
       "      <th>36</th>\n",
       "      <td>Mercedes Narcisse</td>\n",
       "      <td>15.0</td>\n",
       "      <td>11.0</td>\n",
       "      <td>15.0</td>\n",
       "      <td>11.0</td>\n",
       "      <td>15.0</td>\n",
       "      <td>15.0</td>\n",
       "      <td>15.0</td>\n",
       "      <td>15.0</td>\n",
       "      <td>15.0</td>\n",
       "      <td>...</td>\n",
       "      <td>15.0</td>\n",
       "      <td>15.0</td>\n",
       "      <td>15.0</td>\n",
       "      <td>15.0</td>\n",
       "      <td>15.0</td>\n",
       "      <td>15.0</td>\n",
       "      <td>15.0</td>\n",
       "      <td>15.0</td>\n",
       "      <td>15.0</td>\n",
       "      <td>15.0</td>\n",
       "    </tr>\n",
       "    <tr>\n",
       "      <th>37</th>\n",
       "      <td>Nantasha M. Williams</td>\n",
       "      <td>15.0</td>\n",
       "      <td>15.0</td>\n",
       "      <td>15.0</td>\n",
       "      <td>15.0</td>\n",
       "      <td>15.0</td>\n",
       "      <td>15.0</td>\n",
       "      <td>15.0</td>\n",
       "      <td>15.0</td>\n",
       "      <td>15.0</td>\n",
       "      <td>...</td>\n",
       "      <td>15.0</td>\n",
       "      <td>15.0</td>\n",
       "      <td>15.0</td>\n",
       "      <td>15.0</td>\n",
       "      <td>12.0</td>\n",
       "      <td>15.0</td>\n",
       "      <td>15.0</td>\n",
       "      <td>15.0</td>\n",
       "      <td>15.0</td>\n",
       "      <td>15.0</td>\n",
       "    </tr>\n",
       "    <tr>\n",
       "      <th>38</th>\n",
       "      <td>Oswald Feliz</td>\n",
       "      <td>15.0</td>\n",
       "      <td>15.0</td>\n",
       "      <td>15.0</td>\n",
       "      <td>15.0</td>\n",
       "      <td>15.0</td>\n",
       "      <td>15.0</td>\n",
       "      <td>15.0</td>\n",
       "      <td>15.0</td>\n",
       "      <td>15.0</td>\n",
       "      <td>...</td>\n",
       "      <td>15.0</td>\n",
       "      <td>15.0</td>\n",
       "      <td>15.0</td>\n",
       "      <td>15.0</td>\n",
       "      <td>15.0</td>\n",
       "      <td>15.0</td>\n",
       "      <td>15.0</td>\n",
       "      <td>15.0</td>\n",
       "      <td>15.0</td>\n",
       "      <td>15.0</td>\n",
       "    </tr>\n",
       "    <tr>\n",
       "      <th>39</th>\n",
       "      <td>Pierina Ana Sanchez</td>\n",
       "      <td>15.0</td>\n",
       "      <td>15.0</td>\n",
       "      <td>15.0</td>\n",
       "      <td>15.0</td>\n",
       "      <td>15.0</td>\n",
       "      <td>15.0</td>\n",
       "      <td>15.0</td>\n",
       "      <td>15.0</td>\n",
       "      <td>15.0</td>\n",
       "      <td>...</td>\n",
       "      <td>15.0</td>\n",
       "      <td>15.0</td>\n",
       "      <td>15.0</td>\n",
       "      <td>15.0</td>\n",
       "      <td>15.0</td>\n",
       "      <td>15.0</td>\n",
       "      <td>15.0</td>\n",
       "      <td>15.0</td>\n",
       "      <td>15.0</td>\n",
       "      <td>15.0</td>\n",
       "    </tr>\n",
       "    <tr>\n",
       "      <th>40</th>\n",
       "      <td>Rafael Salamanca, Jr.</td>\n",
       "      <td>15.0</td>\n",
       "      <td>15.0</td>\n",
       "      <td>15.0</td>\n",
       "      <td>15.0</td>\n",
       "      <td>15.0</td>\n",
       "      <td>15.0</td>\n",
       "      <td>15.0</td>\n",
       "      <td>15.0</td>\n",
       "      <td>15.0</td>\n",
       "      <td>...</td>\n",
       "      <td>15.0</td>\n",
       "      <td>15.0</td>\n",
       "      <td>15.0</td>\n",
       "      <td>15.0</td>\n",
       "      <td>15.0</td>\n",
       "      <td>15.0</td>\n",
       "      <td>16.0</td>\n",
       "      <td>16.0</td>\n",
       "      <td>15.0</td>\n",
       "      <td>15.0</td>\n",
       "    </tr>\n",
       "    <tr>\n",
       "      <th>41</th>\n",
       "      <td>Rita C. Joseph</td>\n",
       "      <td>15.0</td>\n",
       "      <td>15.0</td>\n",
       "      <td>15.0</td>\n",
       "      <td>15.0</td>\n",
       "      <td>15.0</td>\n",
       "      <td>15.0</td>\n",
       "      <td>15.0</td>\n",
       "      <td>15.0</td>\n",
       "      <td>15.0</td>\n",
       "      <td>...</td>\n",
       "      <td>15.0</td>\n",
       "      <td>15.0</td>\n",
       "      <td>15.0</td>\n",
       "      <td>15.0</td>\n",
       "      <td>15.0</td>\n",
       "      <td>15.0</td>\n",
       "      <td>15.0</td>\n",
       "      <td>15.0</td>\n",
       "      <td>15.0</td>\n",
       "      <td>15.0</td>\n",
       "    </tr>\n",
       "    <tr>\n",
       "      <th>42</th>\n",
       "      <td>Robert F. Holden</td>\n",
       "      <td>15.0</td>\n",
       "      <td>12.0</td>\n",
       "      <td>15.0</td>\n",
       "      <td>12.0</td>\n",
       "      <td>15.0</td>\n",
       "      <td>12.0</td>\n",
       "      <td>15.0</td>\n",
       "      <td>12.0</td>\n",
       "      <td>15.0</td>\n",
       "      <td>...</td>\n",
       "      <td>12.0</td>\n",
       "      <td>12.0</td>\n",
       "      <td>12.0</td>\n",
       "      <td>15.0</td>\n",
       "      <td>12.0</td>\n",
       "      <td>15.0</td>\n",
       "      <td>15.0</td>\n",
       "      <td>12.0</td>\n",
       "      <td>12.0</td>\n",
       "      <td>15.0</td>\n",
       "    </tr>\n",
       "    <tr>\n",
       "      <th>43</th>\n",
       "      <td>Sandra Ung</td>\n",
       "      <td>15.0</td>\n",
       "      <td>15.0</td>\n",
       "      <td>15.0</td>\n",
       "      <td>15.0</td>\n",
       "      <td>15.0</td>\n",
       "      <td>15.0</td>\n",
       "      <td>15.0</td>\n",
       "      <td>15.0</td>\n",
       "      <td>15.0</td>\n",
       "      <td>...</td>\n",
       "      <td>15.0</td>\n",
       "      <td>15.0</td>\n",
       "      <td>15.0</td>\n",
       "      <td>15.0</td>\n",
       "      <td>11.0</td>\n",
       "      <td>15.0</td>\n",
       "      <td>15.0</td>\n",
       "      <td>15.0</td>\n",
       "      <td>15.0</td>\n",
       "      <td>15.0</td>\n",
       "    </tr>\n",
       "    <tr>\n",
       "      <th>44</th>\n",
       "      <td>Sandy Nurse</td>\n",
       "      <td>12.0</td>\n",
       "      <td>15.0</td>\n",
       "      <td>12.0</td>\n",
       "      <td>15.0</td>\n",
       "      <td>15.0</td>\n",
       "      <td>15.0</td>\n",
       "      <td>15.0</td>\n",
       "      <td>15.0</td>\n",
       "      <td>15.0</td>\n",
       "      <td>...</td>\n",
       "      <td>15.0</td>\n",
       "      <td>15.0</td>\n",
       "      <td>15.0</td>\n",
       "      <td>12.0</td>\n",
       "      <td>15.0</td>\n",
       "      <td>12.0</td>\n",
       "      <td>15.0</td>\n",
       "      <td>15.0</td>\n",
       "      <td>15.0</td>\n",
       "      <td>12.0</td>\n",
       "    </tr>\n",
       "    <tr>\n",
       "      <th>45</th>\n",
       "      <td>Selvena N. Brooks-Powers</td>\n",
       "      <td>15.0</td>\n",
       "      <td>15.0</td>\n",
       "      <td>15.0</td>\n",
       "      <td>15.0</td>\n",
       "      <td>15.0</td>\n",
       "      <td>15.0</td>\n",
       "      <td>15.0</td>\n",
       "      <td>15.0</td>\n",
       "      <td>15.0</td>\n",
       "      <td>...</td>\n",
       "      <td>15.0</td>\n",
       "      <td>15.0</td>\n",
       "      <td>15.0</td>\n",
       "      <td>15.0</td>\n",
       "      <td>15.0</td>\n",
       "      <td>15.0</td>\n",
       "      <td>15.0</td>\n",
       "      <td>15.0</td>\n",
       "      <td>15.0</td>\n",
       "      <td>15.0</td>\n",
       "    </tr>\n",
       "    <tr>\n",
       "      <th>46</th>\n",
       "      <td>Shahana K. Hanif</td>\n",
       "      <td>46.0</td>\n",
       "      <td>46.0</td>\n",
       "      <td>46.0</td>\n",
       "      <td>46.0</td>\n",
       "      <td>15.0</td>\n",
       "      <td>15.0</td>\n",
       "      <td>15.0</td>\n",
       "      <td>15.0</td>\n",
       "      <td>15.0</td>\n",
       "      <td>...</td>\n",
       "      <td>15.0</td>\n",
       "      <td>15.0</td>\n",
       "      <td>15.0</td>\n",
       "      <td>12.0</td>\n",
       "      <td>15.0</td>\n",
       "      <td>12.0</td>\n",
       "      <td>15.0</td>\n",
       "      <td>15.0</td>\n",
       "      <td>15.0</td>\n",
       "      <td>11.0</td>\n",
       "    </tr>\n",
       "    <tr>\n",
       "      <th>47</th>\n",
       "      <td>Shaun Abreu</td>\n",
       "      <td>15.0</td>\n",
       "      <td>15.0</td>\n",
       "      <td>15.0</td>\n",
       "      <td>15.0</td>\n",
       "      <td>15.0</td>\n",
       "      <td>15.0</td>\n",
       "      <td>15.0</td>\n",
       "      <td>15.0</td>\n",
       "      <td>15.0</td>\n",
       "      <td>...</td>\n",
       "      <td>15.0</td>\n",
       "      <td>15.0</td>\n",
       "      <td>15.0</td>\n",
       "      <td>15.0</td>\n",
       "      <td>15.0</td>\n",
       "      <td>15.0</td>\n",
       "      <td>15.0</td>\n",
       "      <td>15.0</td>\n",
       "      <td>15.0</td>\n",
       "      <td>15.0</td>\n",
       "    </tr>\n",
       "    <tr>\n",
       "      <th>48</th>\n",
       "      <td>Shekar Krishnan</td>\n",
       "      <td>11.0</td>\n",
       "      <td>15.0</td>\n",
       "      <td>11.0</td>\n",
       "      <td>15.0</td>\n",
       "      <td>15.0</td>\n",
       "      <td>15.0</td>\n",
       "      <td>15.0</td>\n",
       "      <td>15.0</td>\n",
       "      <td>15.0</td>\n",
       "      <td>...</td>\n",
       "      <td>15.0</td>\n",
       "      <td>15.0</td>\n",
       "      <td>15.0</td>\n",
       "      <td>15.0</td>\n",
       "      <td>15.0</td>\n",
       "      <td>15.0</td>\n",
       "      <td>15.0</td>\n",
       "      <td>15.0</td>\n",
       "      <td>15.0</td>\n",
       "      <td>15.0</td>\n",
       "    </tr>\n",
       "    <tr>\n",
       "      <th>49</th>\n",
       "      <td>Tiffany Cabán</td>\n",
       "      <td>11.0</td>\n",
       "      <td>15.0</td>\n",
       "      <td>11.0</td>\n",
       "      <td>15.0</td>\n",
       "      <td>15.0</td>\n",
       "      <td>15.0</td>\n",
       "      <td>15.0</td>\n",
       "      <td>15.0</td>\n",
       "      <td>15.0</td>\n",
       "      <td>...</td>\n",
       "      <td>15.0</td>\n",
       "      <td>15.0</td>\n",
       "      <td>15.0</td>\n",
       "      <td>12.0</td>\n",
       "      <td>15.0</td>\n",
       "      <td>12.0</td>\n",
       "      <td>15.0</td>\n",
       "      <td>15.0</td>\n",
       "      <td>15.0</td>\n",
       "      <td>11.0</td>\n",
       "    </tr>\n",
       "    <tr>\n",
       "      <th>50</th>\n",
       "      <td>Vickie Paladino</td>\n",
       "      <td>15.0</td>\n",
       "      <td>15.0</td>\n",
       "      <td>15.0</td>\n",
       "      <td>15.0</td>\n",
       "      <td>12.0</td>\n",
       "      <td>12.0</td>\n",
       "      <td>12.0</td>\n",
       "      <td>12.0</td>\n",
       "      <td>12.0</td>\n",
       "      <td>...</td>\n",
       "      <td>12.0</td>\n",
       "      <td>12.0</td>\n",
       "      <td>12.0</td>\n",
       "      <td>15.0</td>\n",
       "      <td>12.0</td>\n",
       "      <td>15.0</td>\n",
       "      <td>12.0</td>\n",
       "      <td>12.0</td>\n",
       "      <td>16.0</td>\n",
       "      <td>16.0</td>\n",
       "    </tr>\n",
       "  </tbody>\n",
       "</table>\n",
       "<p>51 rows × 81 columns</p>\n",
       "</div>"
      ],
      "text/plain": [
       "VoteEventItemId             VotePersonName  380057  380071  380199  380210  \\\n",
       "0                        Adrienne E. Adams    15.0    15.0    15.0    15.0   \n",
       "1                             Alexa Avilés    11.0    15.0    11.0    15.0   \n",
       "2                       Althea V.  Stevens    15.0    15.0    15.0    15.0   \n",
       "3                            Amanda Farías    15.0    15.0    15.0    15.0   \n",
       "4                                Ari Kagan    15.0    12.0    15.0    12.0   \n",
       "5                          Carlina Rivera     15.0    15.0    15.0    15.0   \n",
       "6                     Carmen N. De La Rosa    15.0    15.0    15.0    15.0   \n",
       "7                           Charles Barron    12.0    15.0    12.0    15.0   \n",
       "8                              Chi A. Ossé    11.0    15.0    11.0    15.0   \n",
       "9                        Christopher Marte    15.0    15.0    15.0    15.0   \n",
       "10                          Crystal Hudson    11.0    15.0    11.0    15.0   \n",
       "11                           Darlene Mealy    15.0    12.0    15.0    12.0   \n",
       "12                           David M. Carr    15.0    15.0    15.0    15.0   \n",
       "13                          Diana I. Ayala    15.0    15.0    15.0    15.0   \n",
       "14                           Eric Dinowitz    15.0    15.0    15.0    15.0   \n",
       "15                        Erik D. Bottcher    15.0    15.0    15.0    15.0   \n",
       "16                          Farah N. Louis    15.0    15.0    15.0    15.0   \n",
       "17                       Francisco P. Moya    15.0    15.0    15.0    15.0   \n",
       "18                          Gale A. Brewer    15.0    15.0    15.0    15.0   \n",
       "19                           Inna Vernikov    15.0    12.0    15.0    12.0   \n",
       "20                        James F. Gennaro    15.0    12.0    15.0    12.0   \n",
       "21                      Jennifer Gutiérrez    11.0    15.0    11.0    15.0   \n",
       "22                           Joann Ariola     15.0    15.0    15.0    15.0   \n",
       "23                       Joseph C. Borelli    15.0    15.0    15.0    15.0   \n",
       "24                             Julie Menin    15.0    15.0    15.0    15.0   \n",
       "25                               Julie Won    11.0    15.0    11.0    15.0   \n",
       "26                       Justin L. Brannan    15.0    15.0    15.0    15.0   \n",
       "27                           Kalman Yeger     15.0    12.0    15.0    12.0   \n",
       "28                          Kamillah Hanks    15.0    15.0    15.0    15.0   \n",
       "29                           Keith Powers     15.0    15.0    15.0    15.0   \n",
       "30                          Kevin C. Riley    15.0    15.0    15.0    15.0   \n",
       "31               Kristin Richardson Jordan    12.0    15.0    12.0    15.0   \n",
       "32                         Lincoln Restler    15.0    15.0    15.0    15.0   \n",
       "33                               Linda Lee    15.0    15.0    15.0    15.0   \n",
       "34                        Lynn C. Schulman    15.0    15.0    15.0    15.0   \n",
       "35                      Marjorie Velázquez    15.0    15.0    15.0    15.0   \n",
       "36                       Mercedes Narcisse    15.0    11.0    15.0    11.0   \n",
       "37                    Nantasha M. Williams    15.0    15.0    15.0    15.0   \n",
       "38                            Oswald Feliz    15.0    15.0    15.0    15.0   \n",
       "39                     Pierina Ana Sanchez    15.0    15.0    15.0    15.0   \n",
       "40                   Rafael Salamanca, Jr.    15.0    15.0    15.0    15.0   \n",
       "41                          Rita C. Joseph    15.0    15.0    15.0    15.0   \n",
       "42                        Robert F. Holden    15.0    12.0    15.0    12.0   \n",
       "43                              Sandra Ung    15.0    15.0    15.0    15.0   \n",
       "44                             Sandy Nurse    12.0    15.0    12.0    15.0   \n",
       "45                Selvena N. Brooks-Powers    15.0    15.0    15.0    15.0   \n",
       "46                        Shahana K. Hanif    46.0    46.0    46.0    46.0   \n",
       "47                             Shaun Abreu    15.0    15.0    15.0    15.0   \n",
       "48                         Shekar Krishnan    11.0    15.0    11.0    15.0   \n",
       "49                           Tiffany Cabán    11.0    15.0    11.0    15.0   \n",
       "50                         Vickie Paladino    15.0    15.0    15.0    15.0   \n",
       "\n",
       "VoteEventItemId  380466  380467  380558  380559  381530  ...  394511  394512  \\\n",
       "0                  15.0    15.0    15.0    15.0    15.0  ...    15.0    15.0   \n",
       "1                   4.0     4.0     4.0     4.0    15.0  ...    15.0    15.0   \n",
       "2                  15.0    15.0    15.0    15.0    15.0  ...    15.0    15.0   \n",
       "3                  15.0    15.0    15.0    15.0    15.0  ...    15.0    15.0   \n",
       "4                  15.0    15.0    15.0    15.0    15.0  ...    12.0    12.0   \n",
       "5                  15.0    15.0    15.0    15.0    15.0  ...    15.0    15.0   \n",
       "6                  15.0    15.0    15.0    15.0    15.0  ...    15.0    15.0   \n",
       "7                  15.0    15.0    15.0    15.0    15.0  ...    15.0    15.0   \n",
       "8                  15.0    15.0    15.0    15.0    15.0  ...    15.0    15.0   \n",
       "9                  15.0    15.0    15.0    15.0    15.0  ...    15.0    15.0   \n",
       "10                 15.0    15.0    15.0    15.0    15.0  ...    15.0    15.0   \n",
       "11                 15.0    15.0    15.0    15.0    46.0  ...    15.0    15.0   \n",
       "12                 12.0    12.0    12.0    12.0    12.0  ...    12.0    12.0   \n",
       "13                 15.0    12.0    15.0    12.0    15.0  ...    15.0    15.0   \n",
       "14                 15.0    15.0    15.0    15.0    15.0  ...    15.0    15.0   \n",
       "15                 15.0    15.0    15.0    15.0    15.0  ...    15.0    15.0   \n",
       "16                 15.0    15.0    15.0    15.0    15.0  ...    15.0    15.0   \n",
       "17                 15.0    15.0    15.0    15.0    15.0  ...     4.0     4.0   \n",
       "18                 15.0    15.0    15.0    15.0    15.0  ...    15.0    15.0   \n",
       "19                 12.0    12.0    12.0    12.0    12.0  ...    16.0    16.0   \n",
       "20                 15.0    15.0    15.0    15.0    15.0  ...    15.0    15.0   \n",
       "21                 15.0    15.0    15.0    15.0    15.0  ...    15.0    15.0   \n",
       "22                 12.0    12.0    12.0    12.0    12.0  ...    12.0    12.0   \n",
       "23                 12.0    12.0    12.0    12.0    12.0  ...    12.0    12.0   \n",
       "24                 15.0    15.0    15.0    15.0    15.0  ...    15.0    15.0   \n",
       "25                 15.0    15.0    15.0    15.0    15.0  ...    15.0    15.0   \n",
       "26                 15.0    15.0    15.0    15.0    15.0  ...    15.0    15.0   \n",
       "27                 15.0    12.0    15.0    12.0    15.0  ...    12.0    12.0   \n",
       "28                 15.0    15.0    15.0    15.0    15.0  ...    15.0    15.0   \n",
       "29                 15.0    15.0    15.0    15.0    15.0  ...    15.0    15.0   \n",
       "30                 15.0    15.0    15.0    15.0    15.0  ...    15.0    15.0   \n",
       "31                 15.0    15.0    15.0    15.0    15.0  ...    15.0    15.0   \n",
       "32                 15.0    15.0    15.0    15.0    15.0  ...    15.0    15.0   \n",
       "33                 15.0    15.0    15.0    15.0    15.0  ...    15.0    15.0   \n",
       "34                 15.0    15.0    15.0    15.0    15.0  ...    15.0    15.0   \n",
       "35                 15.0    15.0    15.0    15.0    15.0  ...    16.0    16.0   \n",
       "36                 15.0    15.0    15.0    15.0    15.0  ...    15.0    15.0   \n",
       "37                 15.0    15.0    15.0    15.0    15.0  ...    15.0    15.0   \n",
       "38                 15.0    15.0    15.0    15.0    15.0  ...    15.0    15.0   \n",
       "39                 15.0    15.0    15.0    15.0    15.0  ...    15.0    15.0   \n",
       "40                 15.0    15.0    15.0    15.0    15.0  ...    15.0    15.0   \n",
       "41                 15.0    15.0    15.0    15.0    15.0  ...    15.0    15.0   \n",
       "42                 15.0    12.0    15.0    12.0    15.0  ...    12.0    12.0   \n",
       "43                 15.0    15.0    15.0    15.0    15.0  ...    15.0    15.0   \n",
       "44                 15.0    15.0    15.0    15.0    15.0  ...    15.0    15.0   \n",
       "45                 15.0    15.0    15.0    15.0    15.0  ...    15.0    15.0   \n",
       "46                 15.0    15.0    15.0    15.0    15.0  ...    15.0    15.0   \n",
       "47                 15.0    15.0    15.0    15.0    15.0  ...    15.0    15.0   \n",
       "48                 15.0    15.0    15.0    15.0    15.0  ...    15.0    15.0   \n",
       "49                 15.0    15.0    15.0    15.0    15.0  ...    15.0    15.0   \n",
       "50                 12.0    12.0    12.0    12.0    12.0  ...    12.0    12.0   \n",
       "\n",
       "VoteEventItemId  394513  394523  394657  394758  395002  395006  395643  \\\n",
       "0                  15.0    15.0    15.0    15.0    15.0    15.0    15.0   \n",
       "1                  15.0    12.0    15.0    12.0    15.0    15.0    15.0   \n",
       "2                  15.0    15.0    11.0    15.0    15.0    15.0    15.0   \n",
       "3                  15.0    15.0    15.0    15.0    15.0    15.0    15.0   \n",
       "4                  12.0    15.0    12.0    15.0    12.0    12.0    12.0   \n",
       "5                  15.0    15.0    15.0    15.0    15.0    15.0    15.0   \n",
       "6                  15.0    15.0    15.0    15.0    15.0    15.0    15.0   \n",
       "7                  15.0    12.0    15.0    12.0    15.0    15.0    15.0   \n",
       "8                  15.0    15.0    15.0    15.0    15.0    15.0    15.0   \n",
       "9                  15.0    15.0    15.0    15.0    15.0    15.0    15.0   \n",
       "10                 15.0    15.0    15.0    15.0    15.0    15.0    15.0   \n",
       "11                 15.0    15.0    15.0    15.0    15.0    15.0    15.0   \n",
       "12                 12.0    15.0    12.0    15.0    12.0    12.0    12.0   \n",
       "13                 15.0    15.0    15.0    15.0    15.0    15.0    15.0   \n",
       "14                 15.0    15.0    15.0    15.0    15.0    15.0    15.0   \n",
       "15                 15.0    15.0    15.0    15.0    15.0    15.0    15.0   \n",
       "16                 15.0    15.0    15.0    15.0    15.0    15.0    15.0   \n",
       "17                  4.0     4.0     4.0     4.0    15.0    15.0    15.0   \n",
       "18                 15.0    15.0    15.0    15.0    15.0    15.0    15.0   \n",
       "19                 16.0    16.0    16.0    16.0    12.0    12.0     9.0   \n",
       "20                 15.0    15.0    15.0    15.0    15.0    15.0    15.0   \n",
       "21                 15.0    12.0    15.0    12.0    15.0    15.0    15.0   \n",
       "22                 12.0    15.0    12.0    15.0    12.0    12.0    12.0   \n",
       "23                 12.0    15.0    12.0    15.0    12.0    12.0    12.0   \n",
       "24                 15.0    15.0    15.0    15.0    15.0    15.0    15.0   \n",
       "25                 15.0    15.0    15.0    15.0    15.0    15.0    15.0   \n",
       "26                 15.0    15.0    15.0    15.0    15.0    15.0    15.0   \n",
       "27                 12.0    15.0    12.0    15.0    12.0    12.0    12.0   \n",
       "28                 15.0    15.0    12.0    15.0    15.0    15.0    15.0   \n",
       "29                 15.0    15.0    15.0    15.0    15.0    15.0    15.0   \n",
       "30                 15.0    15.0    11.0    15.0    15.0    15.0    15.0   \n",
       "31                 15.0    12.0    15.0    12.0    15.0    15.0    15.0   \n",
       "32                 15.0    15.0    15.0    15.0    15.0    15.0    15.0   \n",
       "33                 15.0    15.0    11.0    15.0    15.0    15.0    15.0   \n",
       "34                 15.0    15.0    15.0    15.0    15.0    15.0    15.0   \n",
       "35                 16.0    16.0    16.0    16.0    15.0    15.0    11.0   \n",
       "36                 15.0    15.0    15.0    15.0    15.0    15.0    15.0   \n",
       "37                 15.0    15.0    12.0    15.0    15.0    15.0    15.0   \n",
       "38                 15.0    15.0    15.0    15.0    15.0    15.0    15.0   \n",
       "39                 15.0    15.0    15.0    15.0    15.0    15.0    15.0   \n",
       "40                 15.0    15.0    15.0    15.0    16.0    16.0    15.0   \n",
       "41                 15.0    15.0    15.0    15.0    15.0    15.0    15.0   \n",
       "42                 12.0    15.0    12.0    15.0    15.0    12.0    12.0   \n",
       "43                 15.0    15.0    11.0    15.0    15.0    15.0    15.0   \n",
       "44                 15.0    12.0    15.0    12.0    15.0    15.0    15.0   \n",
       "45                 15.0    15.0    15.0    15.0    15.0    15.0    15.0   \n",
       "46                 15.0    12.0    15.0    12.0    15.0    15.0    15.0   \n",
       "47                 15.0    15.0    15.0    15.0    15.0    15.0    15.0   \n",
       "48                 15.0    15.0    15.0    15.0    15.0    15.0    15.0   \n",
       "49                 15.0    12.0    15.0    12.0    15.0    15.0    15.0   \n",
       "50                 12.0    15.0    12.0    15.0    12.0    12.0    16.0   \n",
       "\n",
       "VoteEventItemId  395647  \n",
       "0                  15.0  \n",
       "1                  11.0  \n",
       "2                  15.0  \n",
       "3                  15.0  \n",
       "4                  15.0  \n",
       "5                  15.0  \n",
       "6                  11.0  \n",
       "7                  15.0  \n",
       "8                  11.0  \n",
       "9                  15.0  \n",
       "10                 15.0  \n",
       "11                 15.0  \n",
       "12                 15.0  \n",
       "13                 15.0  \n",
       "14                 15.0  \n",
       "15                 15.0  \n",
       "16                 15.0  \n",
       "17                 15.0  \n",
       "18                 15.0  \n",
       "19                  9.0  \n",
       "20                 15.0  \n",
       "21                 11.0  \n",
       "22                 15.0  \n",
       "23                 15.0  \n",
       "24                 15.0  \n",
       "25                 15.0  \n",
       "26                 15.0  \n",
       "27                 15.0  \n",
       "28                 15.0  \n",
       "29                 15.0  \n",
       "30                 15.0  \n",
       "31                 12.0  \n",
       "32                 11.0  \n",
       "33                 15.0  \n",
       "34                 15.0  \n",
       "35                 15.0  \n",
       "36                 15.0  \n",
       "37                 15.0  \n",
       "38                 15.0  \n",
       "39                 15.0  \n",
       "40                 15.0  \n",
       "41                 15.0  \n",
       "42                 15.0  \n",
       "43                 15.0  \n",
       "44                 12.0  \n",
       "45                 15.0  \n",
       "46                 11.0  \n",
       "47                 15.0  \n",
       "48                 15.0  \n",
       "49                 11.0  \n",
       "50                 16.0  \n",
       "\n",
       "[51 rows x 81 columns]"
      ]
     },
     "execution_count": 33,
     "metadata": {},
     "output_type": "execute_result"
    }
   ],
   "source": [
    "votes_df"
   ]
  },
  {
   "cell_type": "code",
   "execution_count": 29,
   "metadata": {},
   "outputs": [],
   "source": [
    "Z = start_hierarchical_test(votes_df)"
   ]
  },
  {
   "cell_type": "code",
   "execution_count": 34,
   "metadata": {},
   "outputs": [],
   "source": [
    "labels = votes_df['VotePersonName']"
   ]
  },
  {
   "cell_type": "code",
   "execution_count": 38,
   "metadata": {},
   "outputs": [
    {
     "data": {
      "text/plain": [
       "array([[26.        , 29.        , 10.2       ,  2.        ],\n",
       "       [34.        , 51.        , 10.2       ,  3.        ],\n",
       "       [47.        , 52.        , 10.2       ,  4.        ],\n",
       "       [ 0.        , 14.        , 10.2       ,  2.        ],\n",
       "       [ 3.        ,  9.        , 10.2       ,  2.        ],\n",
       "       [16.        , 55.        , 10.2       ,  3.        ],\n",
       "       [18.        , 54.        , 10.2       ,  3.        ],\n",
       "       [24.        , 57.        , 10.2       ,  4.        ],\n",
       "       [53.        , 58.        , 10.2       ,  8.        ],\n",
       "       [30.        , 33.        , 10.2       ,  2.        ],\n",
       "       [12.        , 23.        , 10.2       ,  2.        ],\n",
       "       [15.        , 28.        , 10.75014396,  2.        ],\n",
       "       [37.        , 59.        , 11.15929868,  9.        ],\n",
       "       [ 6.        , 56.        , 11.20599185,  4.        ],\n",
       "       [ 2.        , 60.        , 11.66927429,  3.        ],\n",
       "       [41.        , 64.        , 11.8198757 ,  5.        ],\n",
       "       [22.        , 61.        , 12.06257733,  3.        ],\n",
       "       [13.        , 63.        , 12.50149272, 10.        ],\n",
       "       [66.        , 68.        , 13.21953178, 15.        ],\n",
       "       [43.        , 65.        , 13.39580454,  4.        ],\n",
       "       [45.        , 69.        , 15.1111213 , 16.        ],\n",
       "       [39.        , 71.        , 15.55216   , 17.        ],\n",
       "       [70.        , 72.        , 15.84132869, 21.        ],\n",
       "       [ 8.        , 25.        , 16.7396423 ,  2.        ],\n",
       "       [20.        , 73.        , 16.74184052, 22.        ],\n",
       "       [21.        , 48.        , 17.20570412,  2.        ],\n",
       "       [10.        , 32.        , 17.45419453,  2.        ],\n",
       "       [44.        , 49.        , 18.18287246,  2.        ],\n",
       "       [76.        , 77.        , 20.14830549,  4.        ],\n",
       "       [50.        , 67.        , 21.76143991,  4.        ],\n",
       "       [74.        , 79.        , 22.0563611 ,  6.        ],\n",
       "       [ 4.        , 42.        , 22.90367096,  2.        ],\n",
       "       [ 7.        , 31.        , 23.86851053,  2.        ],\n",
       "       [27.        , 82.        , 25.67363497,  3.        ],\n",
       "       [36.        , 75.        , 25.74598932, 23.        ],\n",
       "       [ 1.        , 78.        , 25.83635488,  3.        ],\n",
       "       [62.        , 85.        , 27.36827794, 25.        ],\n",
       "       [38.        , 87.        , 27.67941526, 26.        ],\n",
       "       [35.        , 88.        , 28.52661072, 27.        ],\n",
       "       [46.        , 86.        , 29.69388207,  4.        ],\n",
       "       [80.        , 84.        , 30.91060225,  7.        ],\n",
       "       [83.        , 90.        , 31.65585724,  6.        ],\n",
       "       [40.        , 89.        , 32.27374527, 28.        ],\n",
       "       [17.        , 93.        , 33.9359162 , 29.        ],\n",
       "       [81.        , 94.        , 36.62588091, 35.        ],\n",
       "       [ 5.        , 95.        , 37.03837041, 36.        ],\n",
       "       [19.        , 91.        , 38.82767534,  8.        ],\n",
       "       [11.        , 92.        , 49.7777887 ,  7.        ],\n",
       "       [96.        , 98.        , 52.18680575, 43.        ],\n",
       "       [97.        , 99.        , 90.44119532, 51.        ]])"
      ]
     },
     "execution_count": 38,
     "metadata": {},
     "output_type": "execute_result"
    }
   ],
   "source": [
    "Z"
   ]
  },
  {
   "cell_type": "code",
   "execution_count": 37,
   "metadata": {},
   "outputs": [
    {
     "ename": "ValueError",
     "evalue": "Mime type rendering requires nbformat>=4.2.0 but it is not installed",
     "output_type": "error",
     "traceback": [
      "\u001b[1;31m---------------------------------------------------------------------------\u001b[0m",
      "\u001b[1;31mValueError\u001b[0m                                Traceback (most recent call last)",
      "File \u001b[1;32mc:\\Users\\samtg\\github\\cc-clustering-app\\venv\\Lib\\site-packages\\IPython\\core\\formatters.py:922\u001b[0m, in \u001b[0;36mIPythonDisplayFormatter.__call__\u001b[1;34m(self, obj)\u001b[0m\n\u001b[0;32m    920\u001b[0m method \u001b[38;5;241m=\u001b[39m get_real_method(obj, \u001b[38;5;28mself\u001b[39m\u001b[38;5;241m.\u001b[39mprint_method)\n\u001b[0;32m    921\u001b[0m \u001b[38;5;28;01mif\u001b[39;00m method \u001b[38;5;129;01mis\u001b[39;00m \u001b[38;5;129;01mnot\u001b[39;00m \u001b[38;5;28;01mNone\u001b[39;00m:\n\u001b[1;32m--> 922\u001b[0m     \u001b[43mmethod\u001b[49m\u001b[43m(\u001b[49m\u001b[43m)\u001b[49m\n\u001b[0;32m    923\u001b[0m     \u001b[38;5;28;01mreturn\u001b[39;00m \u001b[38;5;28;01mTrue\u001b[39;00m\n",
      "File \u001b[1;32mc:\\Users\\samtg\\github\\cc-clustering-app\\venv\\Lib\\site-packages\\plotly\\basedatatypes.py:832\u001b[0m, in \u001b[0;36mBaseFigure._ipython_display_\u001b[1;34m(self)\u001b[0m\n\u001b[0;32m    829\u001b[0m \u001b[38;5;28;01mimport\u001b[39;00m \u001b[38;5;21;01mplotly\u001b[39;00m\u001b[38;5;21;01m.\u001b[39;00m\u001b[38;5;21;01mio\u001b[39;00m \u001b[38;5;28;01mas\u001b[39;00m \u001b[38;5;21;01mpio\u001b[39;00m\n\u001b[0;32m    831\u001b[0m \u001b[38;5;28;01mif\u001b[39;00m pio\u001b[38;5;241m.\u001b[39mrenderers\u001b[38;5;241m.\u001b[39mrender_on_display \u001b[38;5;129;01mand\u001b[39;00m pio\u001b[38;5;241m.\u001b[39mrenderers\u001b[38;5;241m.\u001b[39mdefault:\n\u001b[1;32m--> 832\u001b[0m     \u001b[43mpio\u001b[49m\u001b[38;5;241;43m.\u001b[39;49m\u001b[43mshow\u001b[49m\u001b[43m(\u001b[49m\u001b[38;5;28;43mself\u001b[39;49m\u001b[43m)\u001b[49m\n\u001b[0;32m    833\u001b[0m \u001b[38;5;28;01melse\u001b[39;00m:\n\u001b[0;32m    834\u001b[0m     \u001b[38;5;28mprint\u001b[39m(\u001b[38;5;28mrepr\u001b[39m(\u001b[38;5;28mself\u001b[39m))\n",
      "File \u001b[1;32mc:\\Users\\samtg\\github\\cc-clustering-app\\venv\\Lib\\site-packages\\plotly\\io\\_renderers.py:394\u001b[0m, in \u001b[0;36mshow\u001b[1;34m(fig, renderer, validate, **kwargs)\u001b[0m\n\u001b[0;32m    389\u001b[0m         \u001b[38;5;28;01mraise\u001b[39;00m \u001b[38;5;167;01mValueError\u001b[39;00m(\n\u001b[0;32m    390\u001b[0m             \u001b[38;5;124m\"\u001b[39m\u001b[38;5;124mMime type rendering requires ipython but it is not installed\u001b[39m\u001b[38;5;124m\"\u001b[39m\n\u001b[0;32m    391\u001b[0m         )\n\u001b[0;32m    393\u001b[0m     \u001b[38;5;28;01mif\u001b[39;00m \u001b[38;5;129;01mnot\u001b[39;00m nbformat \u001b[38;5;129;01mor\u001b[39;00m Version(nbformat\u001b[38;5;241m.\u001b[39m__version__) \u001b[38;5;241m<\u001b[39m Version(\u001b[38;5;124m\"\u001b[39m\u001b[38;5;124m4.2.0\u001b[39m\u001b[38;5;124m\"\u001b[39m):\n\u001b[1;32m--> 394\u001b[0m         \u001b[38;5;28;01mraise\u001b[39;00m \u001b[38;5;167;01mValueError\u001b[39;00m(\n\u001b[0;32m    395\u001b[0m             \u001b[38;5;124m\"\u001b[39m\u001b[38;5;124mMime type rendering requires nbformat>=4.2.0 but it is not installed\u001b[39m\u001b[38;5;124m\"\u001b[39m\n\u001b[0;32m    396\u001b[0m         )\n\u001b[0;32m    398\u001b[0m     ipython_display\u001b[38;5;241m.\u001b[39mdisplay(bundle, raw\u001b[38;5;241m=\u001b[39m\u001b[38;5;28;01mTrue\u001b[39;00m)\n\u001b[0;32m    400\u001b[0m \u001b[38;5;66;03m# external renderers\u001b[39;00m\n",
      "\u001b[1;31mValueError\u001b[0m: Mime type rendering requires nbformat>=4.2.0 but it is not installed"
     ]
    },
    {
     "data": {
      "application/vnd.plotly.v1+json": {
       "config": {
        "plotlyServerURL": "https://plot.ly"
       },
       "data": [
        {
         "hoverinfo": "text",
         "marker": {
          "color": "rgb(61,153,112)"
         },
         "mode": "lines",
         "type": "scatter",
         "x": [
          15,
          15,
          25,
          25
         ],
         "xaxis": "x",
         "y": [
          0,
          23.39107483355293,
          23.39107483355293,
          0
         ],
         "yaxis": "y"
        },
        {
         "hoverinfo": "text",
         "marker": {
          "color": "rgb(61,153,112)"
         },
         "mode": "lines",
         "type": "scatter",
         "x": [
          5,
          5,
          20,
          20
         ],
         "xaxis": "x",
         "y": [
          0,
          58.592559806760114,
          58.592559806760114,
          23.39107483355293
         ],
         "yaxis": "y"
        },
        {
         "hoverinfo": "text",
         "marker": {
          "color": "rgb(255,65,54)"
         },
         "mode": "lines",
         "type": "scatter",
         "x": [
          35,
          35,
          45,
          45
         ],
         "xaxis": "x",
         "y": [
          0,
          5.830951894845301,
          5.830951894845301,
          0
         ],
         "yaxis": "y"
        },
        {
         "hoverinfo": "text",
         "marker": {
          "color": "rgb(255,65,54)"
         },
         "mode": "lines",
         "type": "scatter",
         "x": [
          55,
          55,
          65,
          65
         ],
         "xaxis": "x",
         "y": [
          0,
          5.656854249492381,
          5.656854249492381,
          0
         ],
         "yaxis": "y"
        },
        {
         "hoverinfo": "text",
         "marker": {
          "color": "rgb(255,65,54)"
         },
         "mode": "lines",
         "type": "scatter",
         "x": [
          85,
          85,
          95,
          95
         ],
         "xaxis": "x",
         "y": [
          0,
          5.856847136530368,
          5.856847136530368,
          0
         ],
         "yaxis": "y"
        },
        {
         "hoverinfo": "text",
         "marker": {
          "color": "rgb(255,65,54)"
         },
         "mode": "lines",
         "type": "scatter",
         "x": [
          115,
          115,
          125,
          125
         ],
         "xaxis": "x",
         "y": [
          0,
          7.151464864881405,
          7.151464864881405,
          0
         ],
         "yaxis": "y"
        },
        {
         "hoverinfo": "text",
         "marker": {
          "color": "rgb(255,65,54)"
         },
         "mode": "lines",
         "type": "scatter",
         "x": [
          105,
          105,
          120,
          120
         ],
         "xaxis": "x",
         "y": [
          0,
          9.371273242419282,
          9.371273242419282,
          7.151464864881405
         ],
         "yaxis": "y"
        },
        {
         "hoverinfo": "text",
         "marker": {
          "color": "rgb(255,65,54)"
         },
         "mode": "lines",
         "type": "scatter",
         "x": [
          90,
          90,
          112.5,
          112.5
         ],
         "xaxis": "x",
         "y": [
          5.856847136530368,
          16.60807574909974,
          16.60807574909974,
          9.371273242419282
         ],
         "yaxis": "y"
        },
        {
         "hoverinfo": "text",
         "marker": {
          "color": "rgb(255,65,54)"
         },
         "mode": "lines",
         "type": "scatter",
         "x": [
          75,
          75,
          101.25,
          101.25
         ],
         "xaxis": "x",
         "y": [
          0,
          24.21535165740722,
          24.21535165740722,
          16.60807574909974
         ],
         "yaxis": "y"
        },
        {
         "hoverinfo": "text",
         "marker": {
          "color": "rgb(255,65,54)"
         },
         "mode": "lines",
         "type": "scatter",
         "x": [
          60,
          60,
          88.125,
          88.125
         ],
         "xaxis": "x",
         "y": [
          5.656854249492381,
          30.30483881976432,
          30.30483881976432,
          24.21535165740722
         ],
         "yaxis": "y"
        },
        {
         "hoverinfo": "text",
         "marker": {
          "color": "rgb(255,65,54)"
         },
         "mode": "lines",
         "type": "scatter",
         "x": [
          40,
          40,
          74.0625,
          74.0625
         ],
         "xaxis": "x",
         "y": [
          5.830951894845301,
          36.124783736376884,
          36.124783736376884,
          30.30483881976432
         ],
         "yaxis": "y"
        },
        {
         "hoverinfo": "text",
         "marker": {
          "color": "rgb(35,205,205)"
         },
         "mode": "lines",
         "type": "scatter",
         "x": [
          135,
          135,
          145,
          145
         ],
         "xaxis": "x",
         "y": [
          0,
          3.9548294808399906,
          3.9548294808399906,
          0
         ],
         "yaxis": "y"
        },
        {
         "hoverinfo": "text",
         "marker": {
          "color": "rgb(35,205,205)"
         },
         "mode": "lines",
         "type": "scatter",
         "x": [
          155,
          155,
          165,
          165
         ],
         "xaxis": "x",
         "y": [
          0,
          6.823152131365859,
          6.823152131365859,
          0
         ],
         "yaxis": "y"
        },
        {
         "hoverinfo": "text",
         "marker": {
          "color": "rgb(35,205,205)"
         },
         "mode": "lines",
         "type": "scatter",
         "x": [
          140,
          140,
          160,
          160
         ],
         "xaxis": "x",
         "y": [
          3.9548294808399906,
          18.826145313983176,
          18.826145313983176,
          6.823152131365859
         ],
         "yaxis": "y"
        },
        {
         "hoverinfo": "text",
         "marker": {
          "color": "rgb(35,205,205)"
         },
         "mode": "lines",
         "type": "scatter",
         "x": [
          185,
          185,
          195,
          195
         ],
         "xaxis": "x",
         "y": [
          0,
          8.652965908150243,
          8.652965908150243,
          0
         ],
         "yaxis": "y"
        },
        {
         "hoverinfo": "text",
         "marker": {
          "color": "rgb(35,205,205)"
         },
         "mode": "lines",
         "type": "scatter",
         "x": [
          175,
          175,
          190,
          190
         ],
         "xaxis": "x",
         "y": [
          0,
          24.6005491375104,
          24.6005491375104,
          8.652965908150243
         ],
         "yaxis": "y"
        },
        {
         "hoverinfo": "text",
         "marker": {
          "color": "rgb(35,205,205)"
         },
         "mode": "lines",
         "type": "scatter",
         "x": [
          150,
          150,
          182.5,
          182.5
         ],
         "xaxis": "x",
         "y": [
          18.826145313983176,
          34.552830512630855,
          34.552830512630855,
          24.6005491375104
         ],
         "yaxis": "y"
        },
        {
         "hoverinfo": "text",
         "marker": {
          "color": "rgb(35,205,205)"
         },
         "mode": "lines",
         "type": "scatter",
         "x": [
          205,
          205,
          215,
          215
         ],
         "xaxis": "x",
         "y": [
          0,
          13.634697751157857,
          13.634697751157857,
          0
         ],
         "yaxis": "y"
        },
        {
         "hoverinfo": "text",
         "marker": {
          "color": "rgb(35,205,205)"
         },
         "mode": "lines",
         "type": "scatter",
         "x": [
          225,
          225,
          235,
          235
         ],
         "xaxis": "x",
         "y": [
          0,
          14.374464238638499,
          14.374464238638499,
          0
         ],
         "yaxis": "y"
        },
        {
         "hoverinfo": "text",
         "marker": {
          "color": "rgb(35,205,205)"
         },
         "mode": "lines",
         "type": "scatter",
         "x": [
          210,
          210,
          230,
          230
         ],
         "xaxis": "x",
         "y": [
          13.634697751157857,
          32.37734977541734,
          32.37734977541734,
          14.374464238638499
         ],
         "yaxis": "y"
        },
        {
         "hoverinfo": "text",
         "marker": {
          "color": "rgb(35,205,205)"
         },
         "mode": "lines",
         "type": "scatter",
         "x": [
          255,
          255,
          265,
          265
         ],
         "xaxis": "x",
         "y": [
          0,
          5.76321356746576,
          5.76321356746576,
          0
         ],
         "yaxis": "y"
        },
        {
         "hoverinfo": "text",
         "marker": {
          "color": "rgb(35,205,205)"
         },
         "mode": "lines",
         "type": "scatter",
         "x": [
          245,
          245,
          260,
          260
         ],
         "xaxis": "x",
         "y": [
          0,
          13.404946382644043,
          13.404946382644043,
          5.76321356746576
         ],
         "yaxis": "y"
        },
        {
         "hoverinfo": "text",
         "marker": {
          "color": "rgb(35,205,205)"
         },
         "mode": "lines",
         "type": "scatter",
         "x": [
          285,
          285,
          295,
          295
         ],
         "xaxis": "x",
         "y": [
          0,
          2.23606797749979,
          2.23606797749979,
          0
         ],
         "yaxis": "y"
        },
        {
         "hoverinfo": "text",
         "marker": {
          "color": "rgb(35,205,205)"
         },
         "mode": "lines",
         "type": "scatter",
         "x": [
          305,
          305,
          315,
          315
         ],
         "xaxis": "x",
         "y": [
          0,
          4.9466346431197215,
          4.9466346431197215,
          0
         ],
         "yaxis": "y"
        },
        {
         "hoverinfo": "text",
         "marker": {
          "color": "rgb(35,205,205)"
         },
         "mode": "lines",
         "type": "scatter",
         "x": [
          290,
          290,
          310,
          310
         ],
         "xaxis": "x",
         "y": [
          2.23606797749979,
          8.68730074836322,
          8.68730074836322,
          4.9466346431197215
         ],
         "yaxis": "y"
        },
        {
         "hoverinfo": "text",
         "marker": {
          "color": "rgb(35,205,205)"
         },
         "mode": "lines",
         "type": "scatter",
         "x": [
          275,
          275,
          300,
          300
         ],
         "xaxis": "x",
         "y": [
          0,
          14.05175267311012,
          14.05175267311012,
          8.68730074836322
         ],
         "yaxis": "y"
        },
        {
         "hoverinfo": "text",
         "marker": {
          "color": "rgb(35,205,205)"
         },
         "mode": "lines",
         "type": "scatter",
         "x": [
          252.5,
          252.5,
          287.5,
          287.5
         ],
         "xaxis": "x",
         "y": [
          13.404946382644043,
          23.165751772952444,
          23.165751772952444,
          14.05175267311012
         ],
         "yaxis": "y"
        },
        {
         "hoverinfo": "text",
         "marker": {
          "color": "rgb(35,205,205)"
         },
         "mode": "lines",
         "type": "scatter",
         "x": [
          325,
          325,
          335,
          335
         ],
         "xaxis": "x",
         "y": [
          0,
          28.804690441676964,
          28.804690441676964,
          0
         ],
         "yaxis": "y"
        },
        {
         "hoverinfo": "text",
         "marker": {
          "color": "rgb(35,205,205)"
         },
         "mode": "lines",
         "type": "scatter",
         "x": [
          270,
          270,
          330,
          330
         ],
         "xaxis": "x",
         "y": [
          23.165751772952444,
          37.087573831284395,
          37.087573831284395,
          28.804690441676964
         ],
         "yaxis": "y"
        },
        {
         "hoverinfo": "text",
         "marker": {
          "color": "rgb(35,205,205)"
         },
         "mode": "lines",
         "type": "scatter",
         "x": [
          355,
          355,
          365,
          365
         ],
         "xaxis": "x",
         "y": [
          0,
          9.258847264452879,
          9.258847264452879,
          0
         ],
         "yaxis": "y"
        },
        {
         "hoverinfo": "text",
         "marker": {
          "color": "rgb(35,205,205)"
         },
         "mode": "lines",
         "type": "scatter",
         "x": [
          345,
          345,
          360,
          360
         ],
         "xaxis": "x",
         "y": [
          0,
          13.076696830622021,
          13.076696830622021,
          9.258847264452879
         ],
         "yaxis": "y"
        },
        {
         "hoverinfo": "text",
         "marker": {
          "color": "rgb(35,205,205)"
         },
         "mode": "lines",
         "type": "scatter",
         "x": [
          375,
          375,
          385,
          385
         ],
         "xaxis": "x",
         "y": [
          0,
          6.4182953447635125,
          6.4182953447635125,
          0
         ],
         "yaxis": "y"
        },
        {
         "hoverinfo": "text",
         "marker": {
          "color": "rgb(35,205,205)"
         },
         "mode": "lines",
         "type": "scatter",
         "x": [
          405,
          405,
          415,
          415
         ],
         "xaxis": "x",
         "y": [
          0,
          2.9126537229264544,
          2.9126537229264544,
          0
         ],
         "yaxis": "y"
        },
        {
         "hoverinfo": "text",
         "marker": {
          "color": "rgb(35,205,205)"
         },
         "mode": "lines",
         "type": "scatter",
         "x": [
          395,
          395,
          410,
          410
         ],
         "xaxis": "x",
         "y": [
          0,
          10.099601895211022,
          10.099601895211022,
          2.9126537229264544
         ],
         "yaxis": "y"
        },
        {
         "hoverinfo": "text",
         "marker": {
          "color": "rgb(35,205,205)"
         },
         "mode": "lines",
         "type": "scatter",
         "x": [
          380,
          380,
          402.5,
          402.5
         ],
         "xaxis": "x",
         "y": [
          6.4182953447635125,
          15.208459177017552,
          15.208459177017552,
          10.099601895211022
         ],
         "yaxis": "y"
        },
        {
         "hoverinfo": "text",
         "marker": {
          "color": "rgb(35,205,205)"
         },
         "mode": "lines",
         "type": "scatter",
         "x": [
          425,
          425,
          435,
          435
         ],
         "xaxis": "x",
         "y": [
          0,
          15.481178662278362,
          15.481178662278362,
          0
         ],
         "yaxis": "y"
        },
        {
         "hoverinfo": "text",
         "marker": {
          "color": "rgb(35,205,205)"
         },
         "mode": "lines",
         "type": "scatter",
         "x": [
          391.25,
          391.25,
          430,
          430
         ],
         "xaxis": "x",
         "y": [
          15.208459177017552,
          21.7863630890663,
          21.7863630890663,
          15.481178662278362
         ],
         "yaxis": "y"
        },
        {
         "hoverinfo": "text",
         "marker": {
          "color": "rgb(35,205,205)"
         },
         "mode": "lines",
         "type": "scatter",
         "x": [
          352.5,
          352.5,
          410.625,
          410.625
         ],
         "xaxis": "x",
         "y": [
          13.076696830622021,
          27.219857605070757,
          27.219857605070757,
          21.7863630890663
         ],
         "yaxis": "y"
        },
        {
         "hoverinfo": "text",
         "marker": {
          "color": "rgb(35,205,205)"
         },
         "mode": "lines",
         "type": "scatter",
         "x": [
          465,
          465,
          475,
          475
         ],
         "xaxis": "x",
         "y": [
          0,
          3.4231184823589182,
          3.4231184823589182,
          0
         ],
         "yaxis": "y"
        },
        {
         "hoverinfo": "text",
         "marker": {
          "color": "rgb(35,205,205)"
         },
         "mode": "lines",
         "type": "scatter",
         "x": [
          455,
          455,
          470,
          470
         ],
         "xaxis": "x",
         "y": [
          0,
          6.406326349370118,
          6.406326349370118,
          3.4231184823589182
         ],
         "yaxis": "y"
        },
        {
         "hoverinfo": "text",
         "marker": {
          "color": "rgb(35,205,205)"
         },
         "mode": "lines",
         "type": "scatter",
         "x": [
          445,
          445,
          462.5,
          462.5
         ],
         "xaxis": "x",
         "y": [
          0,
          16.721590764433223,
          16.721590764433223,
          6.406326349370118
         ],
         "yaxis": "y"
        },
        {
         "hoverinfo": "text",
         "marker": {
          "color": "rgb(35,205,205)"
         },
         "mode": "lines",
         "type": "scatter",
         "x": [
          485,
          485,
          495,
          495
         ],
         "xaxis": "x",
         "y": [
          0,
          19.853523283883174,
          19.853523283883174,
          0
         ],
         "yaxis": "y"
        },
        {
         "hoverinfo": "text",
         "marker": {
          "color": "rgb(35,205,205)"
         },
         "mode": "lines",
         "type": "scatter",
         "x": [
          453.75,
          453.75,
          490,
          490
         ],
         "xaxis": "x",
         "y": [
          16.721590764433223,
          29.775181879265688,
          29.775181879265688,
          19.853523283883174
         ],
         "yaxis": "y"
        },
        {
         "hoverinfo": "text",
         "marker": {
          "color": "rgb(35,205,205)"
         },
         "mode": "lines",
         "type": "scatter",
         "x": [
          381.5625,
          381.5625,
          471.875,
          471.875
         ],
         "xaxis": "x",
         "y": [
          27.219857605070757,
          50.914145677132154,
          50.914145677132154,
          29.775181879265688
         ],
         "yaxis": "y"
        },
        {
         "hoverinfo": "text",
         "marker": {
          "color": "rgb(35,205,205)"
         },
         "mode": "lines",
         "type": "scatter",
         "x": [
          300,
          300,
          426.71875,
          426.71875
         ],
         "xaxis": "x",
         "y": [
          37.087573831284395,
          58.08180088531313,
          58.08180088531313,
          50.914145677132154
         ],
         "yaxis": "y"
        },
        {
         "hoverinfo": "text",
         "marker": {
          "color": "rgb(35,205,205)"
         },
         "mode": "lines",
         "type": "scatter",
         "x": [
          220,
          220,
          363.359375,
          363.359375
         ],
         "xaxis": "x",
         "y": [
          32.37734977541734,
          73.19356615329315,
          73.19356615329315,
          58.08180088531313
         ],
         "yaxis": "y"
        },
        {
         "hoverinfo": "text",
         "marker": {
          "color": "rgb(35,205,205)"
         },
         "mode": "lines",
         "type": "scatter",
         "x": [
          166.25,
          166.25,
          291.6796875,
          291.6796875
         ],
         "xaxis": "x",
         "y": [
          34.552830512630855,
          88.70999660727895,
          88.70999660727895,
          73.19356615329315
         ],
         "yaxis": "y"
        },
        {
         "hoverinfo": "text",
         "marker": {
          "color": "rgb(0,116,217)"
         },
         "mode": "lines",
         "type": "scatter",
         "x": [
          57.03125,
          57.03125,
          228.96484375,
          228.96484375
         ],
         "xaxis": "x",
         "y": [
          36.124783736376884,
          115.91960062906522,
          115.91960062906522,
          88.70999660727895
         ],
         "yaxis": "y"
        },
        {
         "hoverinfo": "text",
         "marker": {
          "color": "rgb(0,116,217)"
         },
         "mode": "lines",
         "type": "scatter",
         "x": [
          12.5,
          12.5,
          142.998046875,
          142.998046875
         ],
         "xaxis": "x",
         "y": [
          58.592559806760114,
          160.5479661226702,
          160.5479661226702,
          115.91960062906522
         ],
         "yaxis": "y"
        }
       ],
       "layout": {
        "autosize": false,
        "height": null,
        "hovermode": "closest",
        "showlegend": false,
        "template": {
         "data": {
          "bar": [
           {
            "error_x": {
             "color": "#2a3f5f"
            },
            "error_y": {
             "color": "#2a3f5f"
            },
            "marker": {
             "line": {
              "color": "#E5ECF6",
              "width": 0.5
             },
             "pattern": {
              "fillmode": "overlay",
              "size": 10,
              "solidity": 0.2
             }
            },
            "type": "bar"
           }
          ],
          "barpolar": [
           {
            "marker": {
             "line": {
              "color": "#E5ECF6",
              "width": 0.5
             },
             "pattern": {
              "fillmode": "overlay",
              "size": 10,
              "solidity": 0.2
             }
            },
            "type": "barpolar"
           }
          ],
          "carpet": [
           {
            "aaxis": {
             "endlinecolor": "#2a3f5f",
             "gridcolor": "white",
             "linecolor": "white",
             "minorgridcolor": "white",
             "startlinecolor": "#2a3f5f"
            },
            "baxis": {
             "endlinecolor": "#2a3f5f",
             "gridcolor": "white",
             "linecolor": "white",
             "minorgridcolor": "white",
             "startlinecolor": "#2a3f5f"
            },
            "type": "carpet"
           }
          ],
          "choropleth": [
           {
            "colorbar": {
             "outlinewidth": 0,
             "ticks": ""
            },
            "type": "choropleth"
           }
          ],
          "contour": [
           {
            "colorbar": {
             "outlinewidth": 0,
             "ticks": ""
            },
            "colorscale": [
             [
              0,
              "#0d0887"
             ],
             [
              0.1111111111111111,
              "#46039f"
             ],
             [
              0.2222222222222222,
              "#7201a8"
             ],
             [
              0.3333333333333333,
              "#9c179e"
             ],
             [
              0.4444444444444444,
              "#bd3786"
             ],
             [
              0.5555555555555556,
              "#d8576b"
             ],
             [
              0.6666666666666666,
              "#ed7953"
             ],
             [
              0.7777777777777778,
              "#fb9f3a"
             ],
             [
              0.8888888888888888,
              "#fdca26"
             ],
             [
              1,
              "#f0f921"
             ]
            ],
            "type": "contour"
           }
          ],
          "contourcarpet": [
           {
            "colorbar": {
             "outlinewidth": 0,
             "ticks": ""
            },
            "type": "contourcarpet"
           }
          ],
          "heatmap": [
           {
            "colorbar": {
             "outlinewidth": 0,
             "ticks": ""
            },
            "colorscale": [
             [
              0,
              "#0d0887"
             ],
             [
              0.1111111111111111,
              "#46039f"
             ],
             [
              0.2222222222222222,
              "#7201a8"
             ],
             [
              0.3333333333333333,
              "#9c179e"
             ],
             [
              0.4444444444444444,
              "#bd3786"
             ],
             [
              0.5555555555555556,
              "#d8576b"
             ],
             [
              0.6666666666666666,
              "#ed7953"
             ],
             [
              0.7777777777777778,
              "#fb9f3a"
             ],
             [
              0.8888888888888888,
              "#fdca26"
             ],
             [
              1,
              "#f0f921"
             ]
            ],
            "type": "heatmap"
           }
          ],
          "heatmapgl": [
           {
            "colorbar": {
             "outlinewidth": 0,
             "ticks": ""
            },
            "colorscale": [
             [
              0,
              "#0d0887"
             ],
             [
              0.1111111111111111,
              "#46039f"
             ],
             [
              0.2222222222222222,
              "#7201a8"
             ],
             [
              0.3333333333333333,
              "#9c179e"
             ],
             [
              0.4444444444444444,
              "#bd3786"
             ],
             [
              0.5555555555555556,
              "#d8576b"
             ],
             [
              0.6666666666666666,
              "#ed7953"
             ],
             [
              0.7777777777777778,
              "#fb9f3a"
             ],
             [
              0.8888888888888888,
              "#fdca26"
             ],
             [
              1,
              "#f0f921"
             ]
            ],
            "type": "heatmapgl"
           }
          ],
          "histogram": [
           {
            "marker": {
             "pattern": {
              "fillmode": "overlay",
              "size": 10,
              "solidity": 0.2
             }
            },
            "type": "histogram"
           }
          ],
          "histogram2d": [
           {
            "colorbar": {
             "outlinewidth": 0,
             "ticks": ""
            },
            "colorscale": [
             [
              0,
              "#0d0887"
             ],
             [
              0.1111111111111111,
              "#46039f"
             ],
             [
              0.2222222222222222,
              "#7201a8"
             ],
             [
              0.3333333333333333,
              "#9c179e"
             ],
             [
              0.4444444444444444,
              "#bd3786"
             ],
             [
              0.5555555555555556,
              "#d8576b"
             ],
             [
              0.6666666666666666,
              "#ed7953"
             ],
             [
              0.7777777777777778,
              "#fb9f3a"
             ],
             [
              0.8888888888888888,
              "#fdca26"
             ],
             [
              1,
              "#f0f921"
             ]
            ],
            "type": "histogram2d"
           }
          ],
          "histogram2dcontour": [
           {
            "colorbar": {
             "outlinewidth": 0,
             "ticks": ""
            },
            "colorscale": [
             [
              0,
              "#0d0887"
             ],
             [
              0.1111111111111111,
              "#46039f"
             ],
             [
              0.2222222222222222,
              "#7201a8"
             ],
             [
              0.3333333333333333,
              "#9c179e"
             ],
             [
              0.4444444444444444,
              "#bd3786"
             ],
             [
              0.5555555555555556,
              "#d8576b"
             ],
             [
              0.6666666666666666,
              "#ed7953"
             ],
             [
              0.7777777777777778,
              "#fb9f3a"
             ],
             [
              0.8888888888888888,
              "#fdca26"
             ],
             [
              1,
              "#f0f921"
             ]
            ],
            "type": "histogram2dcontour"
           }
          ],
          "mesh3d": [
           {
            "colorbar": {
             "outlinewidth": 0,
             "ticks": ""
            },
            "type": "mesh3d"
           }
          ],
          "parcoords": [
           {
            "line": {
             "colorbar": {
              "outlinewidth": 0,
              "ticks": ""
             }
            },
            "type": "parcoords"
           }
          ],
          "pie": [
           {
            "automargin": true,
            "type": "pie"
           }
          ],
          "scatter": [
           {
            "fillpattern": {
             "fillmode": "overlay",
             "size": 10,
             "solidity": 0.2
            },
            "type": "scatter"
           }
          ],
          "scatter3d": [
           {
            "line": {
             "colorbar": {
              "outlinewidth": 0,
              "ticks": ""
             }
            },
            "marker": {
             "colorbar": {
              "outlinewidth": 0,
              "ticks": ""
             }
            },
            "type": "scatter3d"
           }
          ],
          "scattercarpet": [
           {
            "marker": {
             "colorbar": {
              "outlinewidth": 0,
              "ticks": ""
             }
            },
            "type": "scattercarpet"
           }
          ],
          "scattergeo": [
           {
            "marker": {
             "colorbar": {
              "outlinewidth": 0,
              "ticks": ""
             }
            },
            "type": "scattergeo"
           }
          ],
          "scattergl": [
           {
            "marker": {
             "colorbar": {
              "outlinewidth": 0,
              "ticks": ""
             }
            },
            "type": "scattergl"
           }
          ],
          "scattermapbox": [
           {
            "marker": {
             "colorbar": {
              "outlinewidth": 0,
              "ticks": ""
             }
            },
            "type": "scattermapbox"
           }
          ],
          "scatterpolar": [
           {
            "marker": {
             "colorbar": {
              "outlinewidth": 0,
              "ticks": ""
             }
            },
            "type": "scatterpolar"
           }
          ],
          "scatterpolargl": [
           {
            "marker": {
             "colorbar": {
              "outlinewidth": 0,
              "ticks": ""
             }
            },
            "type": "scatterpolargl"
           }
          ],
          "scatterternary": [
           {
            "marker": {
             "colorbar": {
              "outlinewidth": 0,
              "ticks": ""
             }
            },
            "type": "scatterternary"
           }
          ],
          "surface": [
           {
            "colorbar": {
             "outlinewidth": 0,
             "ticks": ""
            },
            "colorscale": [
             [
              0,
              "#0d0887"
             ],
             [
              0.1111111111111111,
              "#46039f"
             ],
             [
              0.2222222222222222,
              "#7201a8"
             ],
             [
              0.3333333333333333,
              "#9c179e"
             ],
             [
              0.4444444444444444,
              "#bd3786"
             ],
             [
              0.5555555555555556,
              "#d8576b"
             ],
             [
              0.6666666666666666,
              "#ed7953"
             ],
             [
              0.7777777777777778,
              "#fb9f3a"
             ],
             [
              0.8888888888888888,
              "#fdca26"
             ],
             [
              1,
              "#f0f921"
             ]
            ],
            "type": "surface"
           }
          ],
          "table": [
           {
            "cells": {
             "fill": {
              "color": "#EBF0F8"
             },
             "line": {
              "color": "white"
             }
            },
            "header": {
             "fill": {
              "color": "#C8D4E3"
             },
             "line": {
              "color": "white"
             }
            },
            "type": "table"
           }
          ]
         },
         "layout": {
          "annotationdefaults": {
           "arrowcolor": "#2a3f5f",
           "arrowhead": 0,
           "arrowwidth": 1
          },
          "autotypenumbers": "strict",
          "coloraxis": {
           "colorbar": {
            "outlinewidth": 0,
            "ticks": ""
           }
          },
          "colorscale": {
           "diverging": [
            [
             0,
             "#8e0152"
            ],
            [
             0.1,
             "#c51b7d"
            ],
            [
             0.2,
             "#de77ae"
            ],
            [
             0.3,
             "#f1b6da"
            ],
            [
             0.4,
             "#fde0ef"
            ],
            [
             0.5,
             "#f7f7f7"
            ],
            [
             0.6,
             "#e6f5d0"
            ],
            [
             0.7,
             "#b8e186"
            ],
            [
             0.8,
             "#7fbc41"
            ],
            [
             0.9,
             "#4d9221"
            ],
            [
             1,
             "#276419"
            ]
           ],
           "sequential": [
            [
             0,
             "#0d0887"
            ],
            [
             0.1111111111111111,
             "#46039f"
            ],
            [
             0.2222222222222222,
             "#7201a8"
            ],
            [
             0.3333333333333333,
             "#9c179e"
            ],
            [
             0.4444444444444444,
             "#bd3786"
            ],
            [
             0.5555555555555556,
             "#d8576b"
            ],
            [
             0.6666666666666666,
             "#ed7953"
            ],
            [
             0.7777777777777778,
             "#fb9f3a"
            ],
            [
             0.8888888888888888,
             "#fdca26"
            ],
            [
             1,
             "#f0f921"
            ]
           ],
           "sequentialminus": [
            [
             0,
             "#0d0887"
            ],
            [
             0.1111111111111111,
             "#46039f"
            ],
            [
             0.2222222222222222,
             "#7201a8"
            ],
            [
             0.3333333333333333,
             "#9c179e"
            ],
            [
             0.4444444444444444,
             "#bd3786"
            ],
            [
             0.5555555555555556,
             "#d8576b"
            ],
            [
             0.6666666666666666,
             "#ed7953"
            ],
            [
             0.7777777777777778,
             "#fb9f3a"
            ],
            [
             0.8888888888888888,
             "#fdca26"
            ],
            [
             1,
             "#f0f921"
            ]
           ]
          },
          "colorway": [
           "#636efa",
           "#EF553B",
           "#00cc96",
           "#ab63fa",
           "#FFA15A",
           "#19d3f3",
           "#FF6692",
           "#B6E880",
           "#FF97FF",
           "#FECB52"
          ],
          "font": {
           "color": "#2a3f5f"
          },
          "geo": {
           "bgcolor": "white",
           "lakecolor": "white",
           "landcolor": "#E5ECF6",
           "showlakes": true,
           "showland": true,
           "subunitcolor": "white"
          },
          "hoverlabel": {
           "align": "left"
          },
          "hovermode": "closest",
          "mapbox": {
           "style": "light"
          },
          "paper_bgcolor": "white",
          "plot_bgcolor": "#E5ECF6",
          "polar": {
           "angularaxis": {
            "gridcolor": "white",
            "linecolor": "white",
            "ticks": ""
           },
           "bgcolor": "#E5ECF6",
           "radialaxis": {
            "gridcolor": "white",
            "linecolor": "white",
            "ticks": ""
           }
          },
          "scene": {
           "xaxis": {
            "backgroundcolor": "#E5ECF6",
            "gridcolor": "white",
            "gridwidth": 2,
            "linecolor": "white",
            "showbackground": true,
            "ticks": "",
            "zerolinecolor": "white"
           },
           "yaxis": {
            "backgroundcolor": "#E5ECF6",
            "gridcolor": "white",
            "gridwidth": 2,
            "linecolor": "white",
            "showbackground": true,
            "ticks": "",
            "zerolinecolor": "white"
           },
           "zaxis": {
            "backgroundcolor": "#E5ECF6",
            "gridcolor": "white",
            "gridwidth": 2,
            "linecolor": "white",
            "showbackground": true,
            "ticks": "",
            "zerolinecolor": "white"
           }
          },
          "shapedefaults": {
           "line": {
            "color": "#2a3f5f"
           }
          },
          "ternary": {
           "aaxis": {
            "gridcolor": "white",
            "linecolor": "white",
            "ticks": ""
           },
           "baxis": {
            "gridcolor": "white",
            "linecolor": "white",
            "ticks": ""
           },
           "bgcolor": "#E5ECF6",
           "caxis": {
            "gridcolor": "white",
            "linecolor": "white",
            "ticks": ""
           }
          },
          "title": {
           "x": 0.05
          },
          "xaxis": {
           "automargin": true,
           "gridcolor": "white",
           "linecolor": "white",
           "ticks": "",
           "title": {
            "standoff": 15
           },
           "zerolinecolor": "white",
           "zerolinewidth": 2
          },
          "yaxis": {
           "automargin": true,
           "gridcolor": "white",
           "linecolor": "white",
           "ticks": "",
           "title": {
            "standoff": 15
           },
           "zerolinecolor": "white",
           "zerolinewidth": 2
          }
         }
        },
        "width": null,
        "xaxis": {
         "mirror": "allticks",
         "rangemode": "tozero",
         "showgrid": false,
         "showline": true,
         "showticklabels": true,
         "tickmode": "array",
         "ticks": "outside",
         "ticktext": [
          "49",
          "44",
          "48",
          "3",
          "4",
          "0",
          "9",
          "31",
          "10",
          "11",
          "23",
          "26",
          "32",
          "28",
          "30",
          "40",
          "41",
          "36",
          "18",
          "22",
          "46",
          "47",
          "43",
          "45",
          "17",
          "13",
          "14",
          "25",
          "5",
          "6",
          "7",
          "16",
          "24",
          "35",
          "1",
          "2",
          "27",
          "20",
          "21",
          "12",
          "15",
          "19",
          "8",
          "29",
          "34",
          "42",
          "37",
          "38",
          "33",
          "39"
         ],
         "tickvals": [
          5,
          15,
          25,
          35,
          45,
          55,
          65,
          75,
          85,
          95,
          105,
          115,
          125,
          135,
          145,
          155,
          165,
          175,
          185,
          195,
          205,
          215,
          225,
          235,
          245,
          255,
          265,
          275,
          285,
          295,
          305,
          315,
          325,
          335,
          345,
          355,
          365,
          375,
          385,
          395,
          405,
          415,
          425,
          435,
          445,
          455,
          465,
          475,
          485,
          495
         ],
         "type": "linear",
         "zeroline": false
        },
        "yaxis": {
         "mirror": "allticks",
         "rangemode": "tozero",
         "showgrid": false,
         "showline": true,
         "showticklabels": true,
         "ticks": "outside",
         "type": "linear",
         "zeroline": false
        }
       }
      },
      "text/html": [
       "<div>                        <script type=\"text/javascript\">window.PlotlyConfig = {MathJaxConfig: 'local'};</script>\n",
       "        <script charset=\"utf-8\" src=\"https://cdn.plot.ly/plotly-2.27.0.min.js\"></script>                <div id=\"f80f4197-bdef-4860-9c43-0783a30c99f5\" class=\"plotly-graph-div\" style=\"height:infpx; width:infpx;\"></div>            <script type=\"text/javascript\">                                    window.PLOTLYENV=window.PLOTLYENV || {};                                    if (document.getElementById(\"f80f4197-bdef-4860-9c43-0783a30c99f5\")) {                    Plotly.newPlot(                        \"f80f4197-bdef-4860-9c43-0783a30c99f5\",                        [{\"hoverinfo\":\"text\",\"marker\":{\"color\":\"rgb(61,153,112)\"},\"mode\":\"lines\",\"x\":[15.0,15.0,25.0,25.0],\"xaxis\":\"x\",\"y\":[0.0,23.39107483355293,23.39107483355293,0.0],\"yaxis\":\"y\",\"type\":\"scatter\"},{\"hoverinfo\":\"text\",\"marker\":{\"color\":\"rgb(61,153,112)\"},\"mode\":\"lines\",\"x\":[5.0,5.0,20.0,20.0],\"xaxis\":\"x\",\"y\":[0.0,58.592559806760114,58.592559806760114,23.39107483355293],\"yaxis\":\"y\",\"type\":\"scatter\"},{\"hoverinfo\":\"text\",\"marker\":{\"color\":\"rgb(255,65,54)\"},\"mode\":\"lines\",\"x\":[35.0,35.0,45.0,45.0],\"xaxis\":\"x\",\"y\":[0.0,5.830951894845301,5.830951894845301,0.0],\"yaxis\":\"y\",\"type\":\"scatter\"},{\"hoverinfo\":\"text\",\"marker\":{\"color\":\"rgb(255,65,54)\"},\"mode\":\"lines\",\"x\":[55.0,55.0,65.0,65.0],\"xaxis\":\"x\",\"y\":[0.0,5.656854249492381,5.656854249492381,0.0],\"yaxis\":\"y\",\"type\":\"scatter\"},{\"hoverinfo\":\"text\",\"marker\":{\"color\":\"rgb(255,65,54)\"},\"mode\":\"lines\",\"x\":[85.0,85.0,95.0,95.0],\"xaxis\":\"x\",\"y\":[0.0,5.856847136530368,5.856847136530368,0.0],\"yaxis\":\"y\",\"type\":\"scatter\"},{\"hoverinfo\":\"text\",\"marker\":{\"color\":\"rgb(255,65,54)\"},\"mode\":\"lines\",\"x\":[115.0,115.0,125.0,125.0],\"xaxis\":\"x\",\"y\":[0.0,7.151464864881405,7.151464864881405,0.0],\"yaxis\":\"y\",\"type\":\"scatter\"},{\"hoverinfo\":\"text\",\"marker\":{\"color\":\"rgb(255,65,54)\"},\"mode\":\"lines\",\"x\":[105.0,105.0,120.0,120.0],\"xaxis\":\"x\",\"y\":[0.0,9.371273242419282,9.371273242419282,7.151464864881405],\"yaxis\":\"y\",\"type\":\"scatter\"},{\"hoverinfo\":\"text\",\"marker\":{\"color\":\"rgb(255,65,54)\"},\"mode\":\"lines\",\"x\":[90.0,90.0,112.5,112.5],\"xaxis\":\"x\",\"y\":[5.856847136530368,16.60807574909974,16.60807574909974,9.371273242419282],\"yaxis\":\"y\",\"type\":\"scatter\"},{\"hoverinfo\":\"text\",\"marker\":{\"color\":\"rgb(255,65,54)\"},\"mode\":\"lines\",\"x\":[75.0,75.0,101.25,101.25],\"xaxis\":\"x\",\"y\":[0.0,24.21535165740722,24.21535165740722,16.60807574909974],\"yaxis\":\"y\",\"type\":\"scatter\"},{\"hoverinfo\":\"text\",\"marker\":{\"color\":\"rgb(255,65,54)\"},\"mode\":\"lines\",\"x\":[60.0,60.0,88.125,88.125],\"xaxis\":\"x\",\"y\":[5.656854249492381,30.30483881976432,30.30483881976432,24.21535165740722],\"yaxis\":\"y\",\"type\":\"scatter\"},{\"hoverinfo\":\"text\",\"marker\":{\"color\":\"rgb(255,65,54)\"},\"mode\":\"lines\",\"x\":[40.0,40.0,74.0625,74.0625],\"xaxis\":\"x\",\"y\":[5.830951894845301,36.124783736376884,36.124783736376884,30.30483881976432],\"yaxis\":\"y\",\"type\":\"scatter\"},{\"hoverinfo\":\"text\",\"marker\":{\"color\":\"rgb(35,205,205)\"},\"mode\":\"lines\",\"x\":[135.0,135.0,145.0,145.0],\"xaxis\":\"x\",\"y\":[0.0,3.9548294808399906,3.9548294808399906,0.0],\"yaxis\":\"y\",\"type\":\"scatter\"},{\"hoverinfo\":\"text\",\"marker\":{\"color\":\"rgb(35,205,205)\"},\"mode\":\"lines\",\"x\":[155.0,155.0,165.0,165.0],\"xaxis\":\"x\",\"y\":[0.0,6.823152131365859,6.823152131365859,0.0],\"yaxis\":\"y\",\"type\":\"scatter\"},{\"hoverinfo\":\"text\",\"marker\":{\"color\":\"rgb(35,205,205)\"},\"mode\":\"lines\",\"x\":[140.0,140.0,160.0,160.0],\"xaxis\":\"x\",\"y\":[3.9548294808399906,18.826145313983176,18.826145313983176,6.823152131365859],\"yaxis\":\"y\",\"type\":\"scatter\"},{\"hoverinfo\":\"text\",\"marker\":{\"color\":\"rgb(35,205,205)\"},\"mode\":\"lines\",\"x\":[185.0,185.0,195.0,195.0],\"xaxis\":\"x\",\"y\":[0.0,8.652965908150243,8.652965908150243,0.0],\"yaxis\":\"y\",\"type\":\"scatter\"},{\"hoverinfo\":\"text\",\"marker\":{\"color\":\"rgb(35,205,205)\"},\"mode\":\"lines\",\"x\":[175.0,175.0,190.0,190.0],\"xaxis\":\"x\",\"y\":[0.0,24.6005491375104,24.6005491375104,8.652965908150243],\"yaxis\":\"y\",\"type\":\"scatter\"},{\"hoverinfo\":\"text\",\"marker\":{\"color\":\"rgb(35,205,205)\"},\"mode\":\"lines\",\"x\":[150.0,150.0,182.5,182.5],\"xaxis\":\"x\",\"y\":[18.826145313983176,34.552830512630855,34.552830512630855,24.6005491375104],\"yaxis\":\"y\",\"type\":\"scatter\"},{\"hoverinfo\":\"text\",\"marker\":{\"color\":\"rgb(35,205,205)\"},\"mode\":\"lines\",\"x\":[205.0,205.0,215.0,215.0],\"xaxis\":\"x\",\"y\":[0.0,13.634697751157857,13.634697751157857,0.0],\"yaxis\":\"y\",\"type\":\"scatter\"},{\"hoverinfo\":\"text\",\"marker\":{\"color\":\"rgb(35,205,205)\"},\"mode\":\"lines\",\"x\":[225.0,225.0,235.0,235.0],\"xaxis\":\"x\",\"y\":[0.0,14.374464238638499,14.374464238638499,0.0],\"yaxis\":\"y\",\"type\":\"scatter\"},{\"hoverinfo\":\"text\",\"marker\":{\"color\":\"rgb(35,205,205)\"},\"mode\":\"lines\",\"x\":[210.0,210.0,230.0,230.0],\"xaxis\":\"x\",\"y\":[13.634697751157857,32.37734977541734,32.37734977541734,14.374464238638499],\"yaxis\":\"y\",\"type\":\"scatter\"},{\"hoverinfo\":\"text\",\"marker\":{\"color\":\"rgb(35,205,205)\"},\"mode\":\"lines\",\"x\":[255.0,255.0,265.0,265.0],\"xaxis\":\"x\",\"y\":[0.0,5.76321356746576,5.76321356746576,0.0],\"yaxis\":\"y\",\"type\":\"scatter\"},{\"hoverinfo\":\"text\",\"marker\":{\"color\":\"rgb(35,205,205)\"},\"mode\":\"lines\",\"x\":[245.0,245.0,260.0,260.0],\"xaxis\":\"x\",\"y\":[0.0,13.404946382644043,13.404946382644043,5.76321356746576],\"yaxis\":\"y\",\"type\":\"scatter\"},{\"hoverinfo\":\"text\",\"marker\":{\"color\":\"rgb(35,205,205)\"},\"mode\":\"lines\",\"x\":[285.0,285.0,295.0,295.0],\"xaxis\":\"x\",\"y\":[0.0,2.23606797749979,2.23606797749979,0.0],\"yaxis\":\"y\",\"type\":\"scatter\"},{\"hoverinfo\":\"text\",\"marker\":{\"color\":\"rgb(35,205,205)\"},\"mode\":\"lines\",\"x\":[305.0,305.0,315.0,315.0],\"xaxis\":\"x\",\"y\":[0.0,4.9466346431197215,4.9466346431197215,0.0],\"yaxis\":\"y\",\"type\":\"scatter\"},{\"hoverinfo\":\"text\",\"marker\":{\"color\":\"rgb(35,205,205)\"},\"mode\":\"lines\",\"x\":[290.0,290.0,310.0,310.0],\"xaxis\":\"x\",\"y\":[2.23606797749979,8.68730074836322,8.68730074836322,4.9466346431197215],\"yaxis\":\"y\",\"type\":\"scatter\"},{\"hoverinfo\":\"text\",\"marker\":{\"color\":\"rgb(35,205,205)\"},\"mode\":\"lines\",\"x\":[275.0,275.0,300.0,300.0],\"xaxis\":\"x\",\"y\":[0.0,14.05175267311012,14.05175267311012,8.68730074836322],\"yaxis\":\"y\",\"type\":\"scatter\"},{\"hoverinfo\":\"text\",\"marker\":{\"color\":\"rgb(35,205,205)\"},\"mode\":\"lines\",\"x\":[252.5,252.5,287.5,287.5],\"xaxis\":\"x\",\"y\":[13.404946382644043,23.165751772952444,23.165751772952444,14.05175267311012],\"yaxis\":\"y\",\"type\":\"scatter\"},{\"hoverinfo\":\"text\",\"marker\":{\"color\":\"rgb(35,205,205)\"},\"mode\":\"lines\",\"x\":[325.0,325.0,335.0,335.0],\"xaxis\":\"x\",\"y\":[0.0,28.804690441676964,28.804690441676964,0.0],\"yaxis\":\"y\",\"type\":\"scatter\"},{\"hoverinfo\":\"text\",\"marker\":{\"color\":\"rgb(35,205,205)\"},\"mode\":\"lines\",\"x\":[270.0,270.0,330.0,330.0],\"xaxis\":\"x\",\"y\":[23.165751772952444,37.087573831284395,37.087573831284395,28.804690441676964],\"yaxis\":\"y\",\"type\":\"scatter\"},{\"hoverinfo\":\"text\",\"marker\":{\"color\":\"rgb(35,205,205)\"},\"mode\":\"lines\",\"x\":[355.0,355.0,365.0,365.0],\"xaxis\":\"x\",\"y\":[0.0,9.258847264452879,9.258847264452879,0.0],\"yaxis\":\"y\",\"type\":\"scatter\"},{\"hoverinfo\":\"text\",\"marker\":{\"color\":\"rgb(35,205,205)\"},\"mode\":\"lines\",\"x\":[345.0,345.0,360.0,360.0],\"xaxis\":\"x\",\"y\":[0.0,13.076696830622021,13.076696830622021,9.258847264452879],\"yaxis\":\"y\",\"type\":\"scatter\"},{\"hoverinfo\":\"text\",\"marker\":{\"color\":\"rgb(35,205,205)\"},\"mode\":\"lines\",\"x\":[375.0,375.0,385.0,385.0],\"xaxis\":\"x\",\"y\":[0.0,6.4182953447635125,6.4182953447635125,0.0],\"yaxis\":\"y\",\"type\":\"scatter\"},{\"hoverinfo\":\"text\",\"marker\":{\"color\":\"rgb(35,205,205)\"},\"mode\":\"lines\",\"x\":[405.0,405.0,415.0,415.0],\"xaxis\":\"x\",\"y\":[0.0,2.9126537229264544,2.9126537229264544,0.0],\"yaxis\":\"y\",\"type\":\"scatter\"},{\"hoverinfo\":\"text\",\"marker\":{\"color\":\"rgb(35,205,205)\"},\"mode\":\"lines\",\"x\":[395.0,395.0,410.0,410.0],\"xaxis\":\"x\",\"y\":[0.0,10.099601895211022,10.099601895211022,2.9126537229264544],\"yaxis\":\"y\",\"type\":\"scatter\"},{\"hoverinfo\":\"text\",\"marker\":{\"color\":\"rgb(35,205,205)\"},\"mode\":\"lines\",\"x\":[380.0,380.0,402.5,402.5],\"xaxis\":\"x\",\"y\":[6.4182953447635125,15.208459177017552,15.208459177017552,10.099601895211022],\"yaxis\":\"y\",\"type\":\"scatter\"},{\"hoverinfo\":\"text\",\"marker\":{\"color\":\"rgb(35,205,205)\"},\"mode\":\"lines\",\"x\":[425.0,425.0,435.0,435.0],\"xaxis\":\"x\",\"y\":[0.0,15.481178662278362,15.481178662278362,0.0],\"yaxis\":\"y\",\"type\":\"scatter\"},{\"hoverinfo\":\"text\",\"marker\":{\"color\":\"rgb(35,205,205)\"},\"mode\":\"lines\",\"x\":[391.25,391.25,430.0,430.0],\"xaxis\":\"x\",\"y\":[15.208459177017552,21.7863630890663,21.7863630890663,15.481178662278362],\"yaxis\":\"y\",\"type\":\"scatter\"},{\"hoverinfo\":\"text\",\"marker\":{\"color\":\"rgb(35,205,205)\"},\"mode\":\"lines\",\"x\":[352.5,352.5,410.625,410.625],\"xaxis\":\"x\",\"y\":[13.076696830622021,27.219857605070757,27.219857605070757,21.7863630890663],\"yaxis\":\"y\",\"type\":\"scatter\"},{\"hoverinfo\":\"text\",\"marker\":{\"color\":\"rgb(35,205,205)\"},\"mode\":\"lines\",\"x\":[465.0,465.0,475.0,475.0],\"xaxis\":\"x\",\"y\":[0.0,3.4231184823589182,3.4231184823589182,0.0],\"yaxis\":\"y\",\"type\":\"scatter\"},{\"hoverinfo\":\"text\",\"marker\":{\"color\":\"rgb(35,205,205)\"},\"mode\":\"lines\",\"x\":[455.0,455.0,470.0,470.0],\"xaxis\":\"x\",\"y\":[0.0,6.406326349370118,6.406326349370118,3.4231184823589182],\"yaxis\":\"y\",\"type\":\"scatter\"},{\"hoverinfo\":\"text\",\"marker\":{\"color\":\"rgb(35,205,205)\"},\"mode\":\"lines\",\"x\":[445.0,445.0,462.5,462.5],\"xaxis\":\"x\",\"y\":[0.0,16.721590764433223,16.721590764433223,6.406326349370118],\"yaxis\":\"y\",\"type\":\"scatter\"},{\"hoverinfo\":\"text\",\"marker\":{\"color\":\"rgb(35,205,205)\"},\"mode\":\"lines\",\"x\":[485.0,485.0,495.0,495.0],\"xaxis\":\"x\",\"y\":[0.0,19.853523283883174,19.853523283883174,0.0],\"yaxis\":\"y\",\"type\":\"scatter\"},{\"hoverinfo\":\"text\",\"marker\":{\"color\":\"rgb(35,205,205)\"},\"mode\":\"lines\",\"x\":[453.75,453.75,490.0,490.0],\"xaxis\":\"x\",\"y\":[16.721590764433223,29.775181879265688,29.775181879265688,19.853523283883174],\"yaxis\":\"y\",\"type\":\"scatter\"},{\"hoverinfo\":\"text\",\"marker\":{\"color\":\"rgb(35,205,205)\"},\"mode\":\"lines\",\"x\":[381.5625,381.5625,471.875,471.875],\"xaxis\":\"x\",\"y\":[27.219857605070757,50.914145677132154,50.914145677132154,29.775181879265688],\"yaxis\":\"y\",\"type\":\"scatter\"},{\"hoverinfo\":\"text\",\"marker\":{\"color\":\"rgb(35,205,205)\"},\"mode\":\"lines\",\"x\":[300.0,300.0,426.71875,426.71875],\"xaxis\":\"x\",\"y\":[37.087573831284395,58.08180088531313,58.08180088531313,50.914145677132154],\"yaxis\":\"y\",\"type\":\"scatter\"},{\"hoverinfo\":\"text\",\"marker\":{\"color\":\"rgb(35,205,205)\"},\"mode\":\"lines\",\"x\":[220.0,220.0,363.359375,363.359375],\"xaxis\":\"x\",\"y\":[32.37734977541734,73.19356615329315,73.19356615329315,58.08180088531313],\"yaxis\":\"y\",\"type\":\"scatter\"},{\"hoverinfo\":\"text\",\"marker\":{\"color\":\"rgb(35,205,205)\"},\"mode\":\"lines\",\"x\":[166.25,166.25,291.6796875,291.6796875],\"xaxis\":\"x\",\"y\":[34.552830512630855,88.70999660727895,88.70999660727895,73.19356615329315],\"yaxis\":\"y\",\"type\":\"scatter\"},{\"hoverinfo\":\"text\",\"marker\":{\"color\":\"rgb(0,116,217)\"},\"mode\":\"lines\",\"x\":[57.03125,57.03125,228.96484375,228.96484375],\"xaxis\":\"x\",\"y\":[36.124783736376884,115.91960062906522,115.91960062906522,88.70999660727895],\"yaxis\":\"y\",\"type\":\"scatter\"},{\"hoverinfo\":\"text\",\"marker\":{\"color\":\"rgb(0,116,217)\"},\"mode\":\"lines\",\"x\":[12.5,12.5,142.998046875,142.998046875],\"xaxis\":\"x\",\"y\":[58.592559806760114,160.5479661226702,160.5479661226702,115.91960062906522],\"yaxis\":\"y\",\"type\":\"scatter\"}],                        {\"autosize\":false,\"height\":null,\"hovermode\":\"closest\",\"showlegend\":false,\"width\":null,\"xaxis\":{\"mirror\":\"allticks\",\"rangemode\":\"tozero\",\"showgrid\":false,\"showline\":true,\"showticklabels\":true,\"tickmode\":\"array\",\"ticks\":\"outside\",\"ticktext\":[\"49\",\"44\",\"48\",\"3\",\"4\",\"0\",\"9\",\"31\",\"10\",\"11\",\"23\",\"26\",\"32\",\"28\",\"30\",\"40\",\"41\",\"36\",\"18\",\"22\",\"46\",\"47\",\"43\",\"45\",\"17\",\"13\",\"14\",\"25\",\"5\",\"6\",\"7\",\"16\",\"24\",\"35\",\"1\",\"2\",\"27\",\"20\",\"21\",\"12\",\"15\",\"19\",\"8\",\"29\",\"34\",\"42\",\"37\",\"38\",\"33\",\"39\"],\"tickvals\":[5.0,15.0,25.0,35.0,45.0,55.0,65.0,75.0,85.0,95.0,105.0,115.0,125.0,135.0,145.0,155.0,165.0,175.0,185.0,195.0,205.0,215.0,225.0,235.0,245.0,255.0,265.0,275.0,285.0,295.0,305.0,315.0,325.0,335.0,345.0,355.0,365.0,375.0,385.0,395.0,405.0,415.0,425.0,435.0,445.0,455.0,465.0,475.0,485.0,495.0],\"type\":\"linear\",\"zeroline\":false},\"yaxis\":{\"mirror\":\"allticks\",\"rangemode\":\"tozero\",\"showgrid\":false,\"showline\":true,\"showticklabels\":true,\"ticks\":\"outside\",\"type\":\"linear\",\"zeroline\":false},\"template\":{\"data\":{\"histogram2dcontour\":[{\"type\":\"histogram2dcontour\",\"colorbar\":{\"outlinewidth\":0,\"ticks\":\"\"},\"colorscale\":[[0.0,\"#0d0887\"],[0.1111111111111111,\"#46039f\"],[0.2222222222222222,\"#7201a8\"],[0.3333333333333333,\"#9c179e\"],[0.4444444444444444,\"#bd3786\"],[0.5555555555555556,\"#d8576b\"],[0.6666666666666666,\"#ed7953\"],[0.7777777777777778,\"#fb9f3a\"],[0.8888888888888888,\"#fdca26\"],[1.0,\"#f0f921\"]]}],\"choropleth\":[{\"type\":\"choropleth\",\"colorbar\":{\"outlinewidth\":0,\"ticks\":\"\"}}],\"histogram2d\":[{\"type\":\"histogram2d\",\"colorbar\":{\"outlinewidth\":0,\"ticks\":\"\"},\"colorscale\":[[0.0,\"#0d0887\"],[0.1111111111111111,\"#46039f\"],[0.2222222222222222,\"#7201a8\"],[0.3333333333333333,\"#9c179e\"],[0.4444444444444444,\"#bd3786\"],[0.5555555555555556,\"#d8576b\"],[0.6666666666666666,\"#ed7953\"],[0.7777777777777778,\"#fb9f3a\"],[0.8888888888888888,\"#fdca26\"],[1.0,\"#f0f921\"]]}],\"heatmap\":[{\"type\":\"heatmap\",\"colorbar\":{\"outlinewidth\":0,\"ticks\":\"\"},\"colorscale\":[[0.0,\"#0d0887\"],[0.1111111111111111,\"#46039f\"],[0.2222222222222222,\"#7201a8\"],[0.3333333333333333,\"#9c179e\"],[0.4444444444444444,\"#bd3786\"],[0.5555555555555556,\"#d8576b\"],[0.6666666666666666,\"#ed7953\"],[0.7777777777777778,\"#fb9f3a\"],[0.8888888888888888,\"#fdca26\"],[1.0,\"#f0f921\"]]}],\"heatmapgl\":[{\"type\":\"heatmapgl\",\"colorbar\":{\"outlinewidth\":0,\"ticks\":\"\"},\"colorscale\":[[0.0,\"#0d0887\"],[0.1111111111111111,\"#46039f\"],[0.2222222222222222,\"#7201a8\"],[0.3333333333333333,\"#9c179e\"],[0.4444444444444444,\"#bd3786\"],[0.5555555555555556,\"#d8576b\"],[0.6666666666666666,\"#ed7953\"],[0.7777777777777778,\"#fb9f3a\"],[0.8888888888888888,\"#fdca26\"],[1.0,\"#f0f921\"]]}],\"contourcarpet\":[{\"type\":\"contourcarpet\",\"colorbar\":{\"outlinewidth\":0,\"ticks\":\"\"}}],\"contour\":[{\"type\":\"contour\",\"colorbar\":{\"outlinewidth\":0,\"ticks\":\"\"},\"colorscale\":[[0.0,\"#0d0887\"],[0.1111111111111111,\"#46039f\"],[0.2222222222222222,\"#7201a8\"],[0.3333333333333333,\"#9c179e\"],[0.4444444444444444,\"#bd3786\"],[0.5555555555555556,\"#d8576b\"],[0.6666666666666666,\"#ed7953\"],[0.7777777777777778,\"#fb9f3a\"],[0.8888888888888888,\"#fdca26\"],[1.0,\"#f0f921\"]]}],\"surface\":[{\"type\":\"surface\",\"colorbar\":{\"outlinewidth\":0,\"ticks\":\"\"},\"colorscale\":[[0.0,\"#0d0887\"],[0.1111111111111111,\"#46039f\"],[0.2222222222222222,\"#7201a8\"],[0.3333333333333333,\"#9c179e\"],[0.4444444444444444,\"#bd3786\"],[0.5555555555555556,\"#d8576b\"],[0.6666666666666666,\"#ed7953\"],[0.7777777777777778,\"#fb9f3a\"],[0.8888888888888888,\"#fdca26\"],[1.0,\"#f0f921\"]]}],\"mesh3d\":[{\"type\":\"mesh3d\",\"colorbar\":{\"outlinewidth\":0,\"ticks\":\"\"}}],\"scatter\":[{\"fillpattern\":{\"fillmode\":\"overlay\",\"size\":10,\"solidity\":0.2},\"type\":\"scatter\"}],\"parcoords\":[{\"type\":\"parcoords\",\"line\":{\"colorbar\":{\"outlinewidth\":0,\"ticks\":\"\"}}}],\"scatterpolargl\":[{\"type\":\"scatterpolargl\",\"marker\":{\"colorbar\":{\"outlinewidth\":0,\"ticks\":\"\"}}}],\"bar\":[{\"error_x\":{\"color\":\"#2a3f5f\"},\"error_y\":{\"color\":\"#2a3f5f\"},\"marker\":{\"line\":{\"color\":\"#E5ECF6\",\"width\":0.5},\"pattern\":{\"fillmode\":\"overlay\",\"size\":10,\"solidity\":0.2}},\"type\":\"bar\"}],\"scattergeo\":[{\"type\":\"scattergeo\",\"marker\":{\"colorbar\":{\"outlinewidth\":0,\"ticks\":\"\"}}}],\"scatterpolar\":[{\"type\":\"scatterpolar\",\"marker\":{\"colorbar\":{\"outlinewidth\":0,\"ticks\":\"\"}}}],\"histogram\":[{\"marker\":{\"pattern\":{\"fillmode\":\"overlay\",\"size\":10,\"solidity\":0.2}},\"type\":\"histogram\"}],\"scattergl\":[{\"type\":\"scattergl\",\"marker\":{\"colorbar\":{\"outlinewidth\":0,\"ticks\":\"\"}}}],\"scatter3d\":[{\"type\":\"scatter3d\",\"line\":{\"colorbar\":{\"outlinewidth\":0,\"ticks\":\"\"}},\"marker\":{\"colorbar\":{\"outlinewidth\":0,\"ticks\":\"\"}}}],\"scattermapbox\":[{\"type\":\"scattermapbox\",\"marker\":{\"colorbar\":{\"outlinewidth\":0,\"ticks\":\"\"}}}],\"scatterternary\":[{\"type\":\"scatterternary\",\"marker\":{\"colorbar\":{\"outlinewidth\":0,\"ticks\":\"\"}}}],\"scattercarpet\":[{\"type\":\"scattercarpet\",\"marker\":{\"colorbar\":{\"outlinewidth\":0,\"ticks\":\"\"}}}],\"carpet\":[{\"aaxis\":{\"endlinecolor\":\"#2a3f5f\",\"gridcolor\":\"white\",\"linecolor\":\"white\",\"minorgridcolor\":\"white\",\"startlinecolor\":\"#2a3f5f\"},\"baxis\":{\"endlinecolor\":\"#2a3f5f\",\"gridcolor\":\"white\",\"linecolor\":\"white\",\"minorgridcolor\":\"white\",\"startlinecolor\":\"#2a3f5f\"},\"type\":\"carpet\"}],\"table\":[{\"cells\":{\"fill\":{\"color\":\"#EBF0F8\"},\"line\":{\"color\":\"white\"}},\"header\":{\"fill\":{\"color\":\"#C8D4E3\"},\"line\":{\"color\":\"white\"}},\"type\":\"table\"}],\"barpolar\":[{\"marker\":{\"line\":{\"color\":\"#E5ECF6\",\"width\":0.5},\"pattern\":{\"fillmode\":\"overlay\",\"size\":10,\"solidity\":0.2}},\"type\":\"barpolar\"}],\"pie\":[{\"automargin\":true,\"type\":\"pie\"}]},\"layout\":{\"autotypenumbers\":\"strict\",\"colorway\":[\"#636efa\",\"#EF553B\",\"#00cc96\",\"#ab63fa\",\"#FFA15A\",\"#19d3f3\",\"#FF6692\",\"#B6E880\",\"#FF97FF\",\"#FECB52\"],\"font\":{\"color\":\"#2a3f5f\"},\"hovermode\":\"closest\",\"hoverlabel\":{\"align\":\"left\"},\"paper_bgcolor\":\"white\",\"plot_bgcolor\":\"#E5ECF6\",\"polar\":{\"bgcolor\":\"#E5ECF6\",\"angularaxis\":{\"gridcolor\":\"white\",\"linecolor\":\"white\",\"ticks\":\"\"},\"radialaxis\":{\"gridcolor\":\"white\",\"linecolor\":\"white\",\"ticks\":\"\"}},\"ternary\":{\"bgcolor\":\"#E5ECF6\",\"aaxis\":{\"gridcolor\":\"white\",\"linecolor\":\"white\",\"ticks\":\"\"},\"baxis\":{\"gridcolor\":\"white\",\"linecolor\":\"white\",\"ticks\":\"\"},\"caxis\":{\"gridcolor\":\"white\",\"linecolor\":\"white\",\"ticks\":\"\"}},\"coloraxis\":{\"colorbar\":{\"outlinewidth\":0,\"ticks\":\"\"}},\"colorscale\":{\"sequential\":[[0.0,\"#0d0887\"],[0.1111111111111111,\"#46039f\"],[0.2222222222222222,\"#7201a8\"],[0.3333333333333333,\"#9c179e\"],[0.4444444444444444,\"#bd3786\"],[0.5555555555555556,\"#d8576b\"],[0.6666666666666666,\"#ed7953\"],[0.7777777777777778,\"#fb9f3a\"],[0.8888888888888888,\"#fdca26\"],[1.0,\"#f0f921\"]],\"sequentialminus\":[[0.0,\"#0d0887\"],[0.1111111111111111,\"#46039f\"],[0.2222222222222222,\"#7201a8\"],[0.3333333333333333,\"#9c179e\"],[0.4444444444444444,\"#bd3786\"],[0.5555555555555556,\"#d8576b\"],[0.6666666666666666,\"#ed7953\"],[0.7777777777777778,\"#fb9f3a\"],[0.8888888888888888,\"#fdca26\"],[1.0,\"#f0f921\"]],\"diverging\":[[0,\"#8e0152\"],[0.1,\"#c51b7d\"],[0.2,\"#de77ae\"],[0.3,\"#f1b6da\"],[0.4,\"#fde0ef\"],[0.5,\"#f7f7f7\"],[0.6,\"#e6f5d0\"],[0.7,\"#b8e186\"],[0.8,\"#7fbc41\"],[0.9,\"#4d9221\"],[1,\"#276419\"]]},\"xaxis\":{\"gridcolor\":\"white\",\"linecolor\":\"white\",\"ticks\":\"\",\"title\":{\"standoff\":15},\"zerolinecolor\":\"white\",\"automargin\":true,\"zerolinewidth\":2},\"yaxis\":{\"gridcolor\":\"white\",\"linecolor\":\"white\",\"ticks\":\"\",\"title\":{\"standoff\":15},\"zerolinecolor\":\"white\",\"automargin\":true,\"zerolinewidth\":2},\"scene\":{\"xaxis\":{\"backgroundcolor\":\"#E5ECF6\",\"gridcolor\":\"white\",\"linecolor\":\"white\",\"showbackground\":true,\"ticks\":\"\",\"zerolinecolor\":\"white\",\"gridwidth\":2},\"yaxis\":{\"backgroundcolor\":\"#E5ECF6\",\"gridcolor\":\"white\",\"linecolor\":\"white\",\"showbackground\":true,\"ticks\":\"\",\"zerolinecolor\":\"white\",\"gridwidth\":2},\"zaxis\":{\"backgroundcolor\":\"#E5ECF6\",\"gridcolor\":\"white\",\"linecolor\":\"white\",\"showbackground\":true,\"ticks\":\"\",\"zerolinecolor\":\"white\",\"gridwidth\":2}},\"shapedefaults\":{\"line\":{\"color\":\"#2a3f5f\"}},\"annotationdefaults\":{\"arrowcolor\":\"#2a3f5f\",\"arrowhead\":0,\"arrowwidth\":1},\"geo\":{\"bgcolor\":\"white\",\"landcolor\":\"#E5ECF6\",\"subunitcolor\":\"white\",\"showland\":true,\"showlakes\":true,\"lakecolor\":\"white\"},\"title\":{\"x\":0.05},\"mapbox\":{\"style\":\"light\"}}}},                        {\"responsive\": true}                    )                };                            </script>        </div>"
      ],
      "text/plain": [
       "Figure({\n",
       "    'data': [{'hoverinfo': 'text',\n",
       "              'marker': {'color': 'rgb(61,153,112)'},\n",
       "              'mode': 'lines',\n",
       "              'type': 'scatter',\n",
       "              'x': array([15., 15., 25., 25.]),\n",
       "              'xaxis': 'x',\n",
       "              'y': array([ 0.        , 23.39107483, 23.39107483,  0.        ]),\n",
       "              'yaxis': 'y'},\n",
       "             {'hoverinfo': 'text',\n",
       "              'marker': {'color': 'rgb(61,153,112)'},\n",
       "              'mode': 'lines',\n",
       "              'type': 'scatter',\n",
       "              'x': array([ 5.,  5., 20., 20.]),\n",
       "              'xaxis': 'x',\n",
       "              'y': array([ 0.        , 58.59255981, 58.59255981, 23.39107483]),\n",
       "              'yaxis': 'y'},\n",
       "             {'hoverinfo': 'text',\n",
       "              'marker': {'color': 'rgb(255,65,54)'},\n",
       "              'mode': 'lines',\n",
       "              'type': 'scatter',\n",
       "              'x': array([35., 35., 45., 45.]),\n",
       "              'xaxis': 'x',\n",
       "              'y': array([0.        , 5.83095189, 5.83095189, 0.        ]),\n",
       "              'yaxis': 'y'},\n",
       "             {'hoverinfo': 'text',\n",
       "              'marker': {'color': 'rgb(255,65,54)'},\n",
       "              'mode': 'lines',\n",
       "              'type': 'scatter',\n",
       "              'x': array([55., 55., 65., 65.]),\n",
       "              'xaxis': 'x',\n",
       "              'y': array([0.        , 5.65685425, 5.65685425, 0.        ]),\n",
       "              'yaxis': 'y'},\n",
       "             {'hoverinfo': 'text',\n",
       "              'marker': {'color': 'rgb(255,65,54)'},\n",
       "              'mode': 'lines',\n",
       "              'type': 'scatter',\n",
       "              'x': array([85., 85., 95., 95.]),\n",
       "              'xaxis': 'x',\n",
       "              'y': array([0.        , 5.85684714, 5.85684714, 0.        ]),\n",
       "              'yaxis': 'y'},\n",
       "             {'hoverinfo': 'text',\n",
       "              'marker': {'color': 'rgb(255,65,54)'},\n",
       "              'mode': 'lines',\n",
       "              'type': 'scatter',\n",
       "              'x': array([115., 115., 125., 125.]),\n",
       "              'xaxis': 'x',\n",
       "              'y': array([0.        , 7.15146486, 7.15146486, 0.        ]),\n",
       "              'yaxis': 'y'},\n",
       "             {'hoverinfo': 'text',\n",
       "              'marker': {'color': 'rgb(255,65,54)'},\n",
       "              'mode': 'lines',\n",
       "              'type': 'scatter',\n",
       "              'x': array([105., 105., 120., 120.]),\n",
       "              'xaxis': 'x',\n",
       "              'y': array([0.        , 9.37127324, 9.37127324, 7.15146486]),\n",
       "              'yaxis': 'y'},\n",
       "             {'hoverinfo': 'text',\n",
       "              'marker': {'color': 'rgb(255,65,54)'},\n",
       "              'mode': 'lines',\n",
       "              'type': 'scatter',\n",
       "              'x': array([ 90. ,  90. , 112.5, 112.5]),\n",
       "              'xaxis': 'x',\n",
       "              'y': array([ 5.85684714, 16.60807575, 16.60807575,  9.37127324]),\n",
       "              'yaxis': 'y'},\n",
       "             {'hoverinfo': 'text',\n",
       "              'marker': {'color': 'rgb(255,65,54)'},\n",
       "              'mode': 'lines',\n",
       "              'type': 'scatter',\n",
       "              'x': array([ 75.  ,  75.  , 101.25, 101.25]),\n",
       "              'xaxis': 'x',\n",
       "              'y': array([ 0.        , 24.21535166, 24.21535166, 16.60807575]),\n",
       "              'yaxis': 'y'},\n",
       "             {'hoverinfo': 'text',\n",
       "              'marker': {'color': 'rgb(255,65,54)'},\n",
       "              'mode': 'lines',\n",
       "              'type': 'scatter',\n",
       "              'x': array([60.   , 60.   , 88.125, 88.125]),\n",
       "              'xaxis': 'x',\n",
       "              'y': array([ 5.65685425, 30.30483882, 30.30483882, 24.21535166]),\n",
       "              'yaxis': 'y'},\n",
       "             {'hoverinfo': 'text',\n",
       "              'marker': {'color': 'rgb(255,65,54)'},\n",
       "              'mode': 'lines',\n",
       "              'type': 'scatter',\n",
       "              'x': array([40.    , 40.    , 74.0625, 74.0625]),\n",
       "              'xaxis': 'x',\n",
       "              'y': array([ 5.83095189, 36.12478374, 36.12478374, 30.30483882]),\n",
       "              'yaxis': 'y'},\n",
       "             {'hoverinfo': 'text',\n",
       "              'marker': {'color': 'rgb(35,205,205)'},\n",
       "              'mode': 'lines',\n",
       "              'type': 'scatter',\n",
       "              'x': array([135., 135., 145., 145.]),\n",
       "              'xaxis': 'x',\n",
       "              'y': array([0.        , 3.95482948, 3.95482948, 0.        ]),\n",
       "              'yaxis': 'y'},\n",
       "             {'hoverinfo': 'text',\n",
       "              'marker': {'color': 'rgb(35,205,205)'},\n",
       "              'mode': 'lines',\n",
       "              'type': 'scatter',\n",
       "              'x': array([155., 155., 165., 165.]),\n",
       "              'xaxis': 'x',\n",
       "              'y': array([0.        , 6.82315213, 6.82315213, 0.        ]),\n",
       "              'yaxis': 'y'},\n",
       "             {'hoverinfo': 'text',\n",
       "              'marker': {'color': 'rgb(35,205,205)'},\n",
       "              'mode': 'lines',\n",
       "              'type': 'scatter',\n",
       "              'x': array([140., 140., 160., 160.]),\n",
       "              'xaxis': 'x',\n",
       "              'y': array([ 3.95482948, 18.82614531, 18.82614531,  6.82315213]),\n",
       "              'yaxis': 'y'},\n",
       "             {'hoverinfo': 'text',\n",
       "              'marker': {'color': 'rgb(35,205,205)'},\n",
       "              'mode': 'lines',\n",
       "              'type': 'scatter',\n",
       "              'x': array([185., 185., 195., 195.]),\n",
       "              'xaxis': 'x',\n",
       "              'y': array([0.        , 8.65296591, 8.65296591, 0.        ]),\n",
       "              'yaxis': 'y'},\n",
       "             {'hoverinfo': 'text',\n",
       "              'marker': {'color': 'rgb(35,205,205)'},\n",
       "              'mode': 'lines',\n",
       "              'type': 'scatter',\n",
       "              'x': array([175., 175., 190., 190.]),\n",
       "              'xaxis': 'x',\n",
       "              'y': array([ 0.        , 24.60054914, 24.60054914,  8.65296591]),\n",
       "              'yaxis': 'y'},\n",
       "             {'hoverinfo': 'text',\n",
       "              'marker': {'color': 'rgb(35,205,205)'},\n",
       "              'mode': 'lines',\n",
       "              'type': 'scatter',\n",
       "              'x': array([150. , 150. , 182.5, 182.5]),\n",
       "              'xaxis': 'x',\n",
       "              'y': array([18.82614531, 34.55283051, 34.55283051, 24.60054914]),\n",
       "              'yaxis': 'y'},\n",
       "             {'hoverinfo': 'text',\n",
       "              'marker': {'color': 'rgb(35,205,205)'},\n",
       "              'mode': 'lines',\n",
       "              'type': 'scatter',\n",
       "              'x': array([205., 205., 215., 215.]),\n",
       "              'xaxis': 'x',\n",
       "              'y': array([ 0.        , 13.63469775, 13.63469775,  0.        ]),\n",
       "              'yaxis': 'y'},\n",
       "             {'hoverinfo': 'text',\n",
       "              'marker': {'color': 'rgb(35,205,205)'},\n",
       "              'mode': 'lines',\n",
       "              'type': 'scatter',\n",
       "              'x': array([225., 225., 235., 235.]),\n",
       "              'xaxis': 'x',\n",
       "              'y': array([ 0.        , 14.37446424, 14.37446424,  0.        ]),\n",
       "              'yaxis': 'y'},\n",
       "             {'hoverinfo': 'text',\n",
       "              'marker': {'color': 'rgb(35,205,205)'},\n",
       "              'mode': 'lines',\n",
       "              'type': 'scatter',\n",
       "              'x': array([210., 210., 230., 230.]),\n",
       "              'xaxis': 'x',\n",
       "              'y': array([13.63469775, 32.37734978, 32.37734978, 14.37446424]),\n",
       "              'yaxis': 'y'},\n",
       "             {'hoverinfo': 'text',\n",
       "              'marker': {'color': 'rgb(35,205,205)'},\n",
       "              'mode': 'lines',\n",
       "              'type': 'scatter',\n",
       "              'x': array([255., 255., 265., 265.]),\n",
       "              'xaxis': 'x',\n",
       "              'y': array([0.        , 5.76321357, 5.76321357, 0.        ]),\n",
       "              'yaxis': 'y'},\n",
       "             {'hoverinfo': 'text',\n",
       "              'marker': {'color': 'rgb(35,205,205)'},\n",
       "              'mode': 'lines',\n",
       "              'type': 'scatter',\n",
       "              'x': array([245., 245., 260., 260.]),\n",
       "              'xaxis': 'x',\n",
       "              'y': array([ 0.        , 13.40494638, 13.40494638,  5.76321357]),\n",
       "              'yaxis': 'y'},\n",
       "             {'hoverinfo': 'text',\n",
       "              'marker': {'color': 'rgb(35,205,205)'},\n",
       "              'mode': 'lines',\n",
       "              'type': 'scatter',\n",
       "              'x': array([285., 285., 295., 295.]),\n",
       "              'xaxis': 'x',\n",
       "              'y': array([0.        , 2.23606798, 2.23606798, 0.        ]),\n",
       "              'yaxis': 'y'},\n",
       "             {'hoverinfo': 'text',\n",
       "              'marker': {'color': 'rgb(35,205,205)'},\n",
       "              'mode': 'lines',\n",
       "              'type': 'scatter',\n",
       "              'x': array([305., 305., 315., 315.]),\n",
       "              'xaxis': 'x',\n",
       "              'y': array([0.        , 4.94663464, 4.94663464, 0.        ]),\n",
       "              'yaxis': 'y'},\n",
       "             {'hoverinfo': 'text',\n",
       "              'marker': {'color': 'rgb(35,205,205)'},\n",
       "              'mode': 'lines',\n",
       "              'type': 'scatter',\n",
       "              'x': array([290., 290., 310., 310.]),\n",
       "              'xaxis': 'x',\n",
       "              'y': array([2.23606798, 8.68730075, 8.68730075, 4.94663464]),\n",
       "              'yaxis': 'y'},\n",
       "             {'hoverinfo': 'text',\n",
       "              'marker': {'color': 'rgb(35,205,205)'},\n",
       "              'mode': 'lines',\n",
       "              'type': 'scatter',\n",
       "              'x': array([275., 275., 300., 300.]),\n",
       "              'xaxis': 'x',\n",
       "              'y': array([ 0.        , 14.05175267, 14.05175267,  8.68730075]),\n",
       "              'yaxis': 'y'},\n",
       "             {'hoverinfo': 'text',\n",
       "              'marker': {'color': 'rgb(35,205,205)'},\n",
       "              'mode': 'lines',\n",
       "              'type': 'scatter',\n",
       "              'x': array([252.5, 252.5, 287.5, 287.5]),\n",
       "              'xaxis': 'x',\n",
       "              'y': array([13.40494638, 23.16575177, 23.16575177, 14.05175267]),\n",
       "              'yaxis': 'y'},\n",
       "             {'hoverinfo': 'text',\n",
       "              'marker': {'color': 'rgb(35,205,205)'},\n",
       "              'mode': 'lines',\n",
       "              'type': 'scatter',\n",
       "              'x': array([325., 325., 335., 335.]),\n",
       "              'xaxis': 'x',\n",
       "              'y': array([ 0.        , 28.80469044, 28.80469044,  0.        ]),\n",
       "              'yaxis': 'y'},\n",
       "             {'hoverinfo': 'text',\n",
       "              'marker': {'color': 'rgb(35,205,205)'},\n",
       "              'mode': 'lines',\n",
       "              'type': 'scatter',\n",
       "              'x': array([270., 270., 330., 330.]),\n",
       "              'xaxis': 'x',\n",
       "              'y': array([23.16575177, 37.08757383, 37.08757383, 28.80469044]),\n",
       "              'yaxis': 'y'},\n",
       "             {'hoverinfo': 'text',\n",
       "              'marker': {'color': 'rgb(35,205,205)'},\n",
       "              'mode': 'lines',\n",
       "              'type': 'scatter',\n",
       "              'x': array([355., 355., 365., 365.]),\n",
       "              'xaxis': 'x',\n",
       "              'y': array([0.        , 9.25884726, 9.25884726, 0.        ]),\n",
       "              'yaxis': 'y'},\n",
       "             {'hoverinfo': 'text',\n",
       "              'marker': {'color': 'rgb(35,205,205)'},\n",
       "              'mode': 'lines',\n",
       "              'type': 'scatter',\n",
       "              'x': array([345., 345., 360., 360.]),\n",
       "              'xaxis': 'x',\n",
       "              'y': array([ 0.        , 13.07669683, 13.07669683,  9.25884726]),\n",
       "              'yaxis': 'y'},\n",
       "             {'hoverinfo': 'text',\n",
       "              'marker': {'color': 'rgb(35,205,205)'},\n",
       "              'mode': 'lines',\n",
       "              'type': 'scatter',\n",
       "              'x': array([375., 375., 385., 385.]),\n",
       "              'xaxis': 'x',\n",
       "              'y': array([0.        , 6.41829534, 6.41829534, 0.        ]),\n",
       "              'yaxis': 'y'},\n",
       "             {'hoverinfo': 'text',\n",
       "              'marker': {'color': 'rgb(35,205,205)'},\n",
       "              'mode': 'lines',\n",
       "              'type': 'scatter',\n",
       "              'x': array([405., 405., 415., 415.]),\n",
       "              'xaxis': 'x',\n",
       "              'y': array([0.        , 2.91265372, 2.91265372, 0.        ]),\n",
       "              'yaxis': 'y'},\n",
       "             {'hoverinfo': 'text',\n",
       "              'marker': {'color': 'rgb(35,205,205)'},\n",
       "              'mode': 'lines',\n",
       "              'type': 'scatter',\n",
       "              'x': array([395., 395., 410., 410.]),\n",
       "              'xaxis': 'x',\n",
       "              'y': array([ 0.        , 10.0996019 , 10.0996019 ,  2.91265372]),\n",
       "              'yaxis': 'y'},\n",
       "             {'hoverinfo': 'text',\n",
       "              'marker': {'color': 'rgb(35,205,205)'},\n",
       "              'mode': 'lines',\n",
       "              'type': 'scatter',\n",
       "              'x': array([380. , 380. , 402.5, 402.5]),\n",
       "              'xaxis': 'x',\n",
       "              'y': array([ 6.41829534, 15.20845918, 15.20845918, 10.0996019 ]),\n",
       "              'yaxis': 'y'},\n",
       "             {'hoverinfo': 'text',\n",
       "              'marker': {'color': 'rgb(35,205,205)'},\n",
       "              'mode': 'lines',\n",
       "              'type': 'scatter',\n",
       "              'x': array([425., 425., 435., 435.]),\n",
       "              'xaxis': 'x',\n",
       "              'y': array([ 0.        , 15.48117866, 15.48117866,  0.        ]),\n",
       "              'yaxis': 'y'},\n",
       "             {'hoverinfo': 'text',\n",
       "              'marker': {'color': 'rgb(35,205,205)'},\n",
       "              'mode': 'lines',\n",
       "              'type': 'scatter',\n",
       "              'x': array([391.25, 391.25, 430.  , 430.  ]),\n",
       "              'xaxis': 'x',\n",
       "              'y': array([15.20845918, 21.78636309, 21.78636309, 15.48117866]),\n",
       "              'yaxis': 'y'},\n",
       "             {'hoverinfo': 'text',\n",
       "              'marker': {'color': 'rgb(35,205,205)'},\n",
       "              'mode': 'lines',\n",
       "              'type': 'scatter',\n",
       "              'x': array([352.5  , 352.5  , 410.625, 410.625]),\n",
       "              'xaxis': 'x',\n",
       "              'y': array([13.07669683, 27.21985761, 27.21985761, 21.78636309]),\n",
       "              'yaxis': 'y'},\n",
       "             {'hoverinfo': 'text',\n",
       "              'marker': {'color': 'rgb(35,205,205)'},\n",
       "              'mode': 'lines',\n",
       "              'type': 'scatter',\n",
       "              'x': array([465., 465., 475., 475.]),\n",
       "              'xaxis': 'x',\n",
       "              'y': array([0.        , 3.42311848, 3.42311848, 0.        ]),\n",
       "              'yaxis': 'y'},\n",
       "             {'hoverinfo': 'text',\n",
       "              'marker': {'color': 'rgb(35,205,205)'},\n",
       "              'mode': 'lines',\n",
       "              'type': 'scatter',\n",
       "              'x': array([455., 455., 470., 470.]),\n",
       "              'xaxis': 'x',\n",
       "              'y': array([0.        , 6.40632635, 6.40632635, 3.42311848]),\n",
       "              'yaxis': 'y'},\n",
       "             {'hoverinfo': 'text',\n",
       "              'marker': {'color': 'rgb(35,205,205)'},\n",
       "              'mode': 'lines',\n",
       "              'type': 'scatter',\n",
       "              'x': array([445. , 445. , 462.5, 462.5]),\n",
       "              'xaxis': 'x',\n",
       "              'y': array([ 0.        , 16.72159076, 16.72159076,  6.40632635]),\n",
       "              'yaxis': 'y'},\n",
       "             {'hoverinfo': 'text',\n",
       "              'marker': {'color': 'rgb(35,205,205)'},\n",
       "              'mode': 'lines',\n",
       "              'type': 'scatter',\n",
       "              'x': array([485., 485., 495., 495.]),\n",
       "              'xaxis': 'x',\n",
       "              'y': array([ 0.        , 19.85352328, 19.85352328,  0.        ]),\n",
       "              'yaxis': 'y'},\n",
       "             {'hoverinfo': 'text',\n",
       "              'marker': {'color': 'rgb(35,205,205)'},\n",
       "              'mode': 'lines',\n",
       "              'type': 'scatter',\n",
       "              'x': array([453.75, 453.75, 490.  , 490.  ]),\n",
       "              'xaxis': 'x',\n",
       "              'y': array([16.72159076, 29.77518188, 29.77518188, 19.85352328]),\n",
       "              'yaxis': 'y'},\n",
       "             {'hoverinfo': 'text',\n",
       "              'marker': {'color': 'rgb(35,205,205)'},\n",
       "              'mode': 'lines',\n",
       "              'type': 'scatter',\n",
       "              'x': array([381.5625, 381.5625, 471.875 , 471.875 ]),\n",
       "              'xaxis': 'x',\n",
       "              'y': array([27.21985761, 50.91414568, 50.91414568, 29.77518188]),\n",
       "              'yaxis': 'y'},\n",
       "             {'hoverinfo': 'text',\n",
       "              'marker': {'color': 'rgb(35,205,205)'},\n",
       "              'mode': 'lines',\n",
       "              'type': 'scatter',\n",
       "              'x': array([300.     , 300.     , 426.71875, 426.71875]),\n",
       "              'xaxis': 'x',\n",
       "              'y': array([37.08757383, 58.08180089, 58.08180089, 50.91414568]),\n",
       "              'yaxis': 'y'},\n",
       "             {'hoverinfo': 'text',\n",
       "              'marker': {'color': 'rgb(35,205,205)'},\n",
       "              'mode': 'lines',\n",
       "              'type': 'scatter',\n",
       "              'x': array([220.      , 220.      , 363.359375, 363.359375]),\n",
       "              'xaxis': 'x',\n",
       "              'y': array([32.37734978, 73.19356615, 73.19356615, 58.08180089]),\n",
       "              'yaxis': 'y'},\n",
       "             {'hoverinfo': 'text',\n",
       "              'marker': {'color': 'rgb(35,205,205)'},\n",
       "              'mode': 'lines',\n",
       "              'type': 'scatter',\n",
       "              'x': array([166.25     , 166.25     , 291.6796875, 291.6796875]),\n",
       "              'xaxis': 'x',\n",
       "              'y': array([34.55283051, 88.70999661, 88.70999661, 73.19356615]),\n",
       "              'yaxis': 'y'},\n",
       "             {'hoverinfo': 'text',\n",
       "              'marker': {'color': 'rgb(0,116,217)'},\n",
       "              'mode': 'lines',\n",
       "              'type': 'scatter',\n",
       "              'x': array([ 57.03125   ,  57.03125   , 228.96484375, 228.96484375]),\n",
       "              'xaxis': 'x',\n",
       "              'y': array([ 36.12478374, 115.91960063, 115.91960063,  88.70999661]),\n",
       "              'yaxis': 'y'},\n",
       "             {'hoverinfo': 'text',\n",
       "              'marker': {'color': 'rgb(0,116,217)'},\n",
       "              'mode': 'lines',\n",
       "              'type': 'scatter',\n",
       "              'x': array([ 12.5       ,  12.5       , 142.99804688, 142.99804688]),\n",
       "              'xaxis': 'x',\n",
       "              'y': array([ 58.59255981, 160.54796612, 160.54796612, 115.91960063]),\n",
       "              'yaxis': 'y'}],\n",
       "    'layout': {'autosize': False,\n",
       "               'height': inf,\n",
       "               'hovermode': 'closest',\n",
       "               'showlegend': False,\n",
       "               'template': '...',\n",
       "               'width': inf,\n",
       "               'xaxis': {'mirror': 'allticks',\n",
       "                         'rangemode': 'tozero',\n",
       "                         'showgrid': False,\n",
       "                         'showline': True,\n",
       "                         'showticklabels': True,\n",
       "                         'tickmode': 'array',\n",
       "                         'ticks': 'outside',\n",
       "                         'ticktext': array(['49', '44', '48', '3', '4', '0', '9', '31', '10', '11', '23', '26',\n",
       "                                            '32', '28', '30', '40', '41', '36', '18', '22', '46', '47', '43', '45',\n",
       "                                            '17', '13', '14', '25', '5', '6', '7', '16', '24', '35', '1', '2', '27',\n",
       "                                            '20', '21', '12', '15', '19', '8', '29', '34', '42', '37', '38', '33',\n",
       "                                            '39'], dtype=object),\n",
       "                         'tickvals': [5.0, 15.0, 25.0, 35.0, 45.0, 55.0, 65.0,\n",
       "                                      75.0, 85.0, 95.0, 105.0, 115.0, 125.0, 135.0,\n",
       "                                      145.0, 155.0, 165.0, 175.0, 185.0, 195.0,\n",
       "                                      205.0, 215.0, 225.0, 235.0, 245.0, 255.0,\n",
       "                                      265.0, 275.0, 285.0, 295.0, 305.0, 315.0,\n",
       "                                      325.0, 335.0, 345.0, 355.0, 365.0, 375.0,\n",
       "                                      385.0, 395.0, 405.0, 415.0, 425.0, 435.0,\n",
       "                                      445.0, 455.0, 465.0, 475.0, 485.0, 495.0],\n",
       "                         'type': 'linear',\n",
       "                         'zeroline': False},\n",
       "               'yaxis': {'mirror': 'allticks',\n",
       "                         'rangemode': 'tozero',\n",
       "                         'showgrid': False,\n",
       "                         'showline': True,\n",
       "                         'showticklabels': True,\n",
       "                         'ticks': 'outside',\n",
       "                         'type': 'linear',\n",
       "                         'zeroline': False}}\n",
       "})"
      ]
     },
     "execution_count": 37,
     "metadata": {},
     "output_type": "execute_result"
    }
   ],
   "source": [
    "ff.create_dendrogram(Z, orientation='bottom')"
   ]
  },
  {
   "cell_type": "code",
   "execution_count": 25,
   "metadata": {},
   "outputs": [],
   "source": [
    "clusters = cluster(Z, votes_df, 20)\n",
    "clusters_coords = make_base_map(clusters, cc_df, gdf)"
   ]
  },
  {
   "cell_type": "code",
   "execution_count": 17,
   "metadata": {},
   "outputs": [
    {
     "data": {
      "text/plain": [
       "h_cluster\n",
       "2    36\n",
       "1     8\n",
       "3     6\n",
       "4     1\n",
       "Name: count, dtype: int64"
      ]
     },
     "execution_count": 17,
     "metadata": {},
     "output_type": "execute_result"
    }
   ],
   "source": [
    "clusters_coords['h_cluster'].value_counts()"
   ]
  },
  {
   "cell_type": "code",
   "execution_count": 26,
   "metadata": {},
   "outputs": [
    {
     "name": "stdout",
     "output_type": "stream",
     "text": [
      "Generated colorscale: ['rgba(68,1,84,1.0)', 'rgba(72,25,107,1.0)', 'rgba(70,47,124,1.0)', 'rgba(64,67,135,1.0)', 'rgba(56,86,139,1.0)', 'rgba(48,103,141,1.0)', 'rgba(41,120,142,1.0)', 'rgba(35,136,141,1.0)', 'rgba(30,152,138,1.0)', 'rgba(34,167,132,1.0)', 'rgba(53,183,120,1.0)', 'rgba(83,197,103,1.0)', 'rgba(121,209,81,1.0)', 'rgba(165,218,53,1.0)', 'rgba(210,225,27,1.0)']\n"
     ]
    },
    {
     "name": "stderr",
     "output_type": "stream",
     "text": [
      "C:\\Users\\samtg\\AppData\\Local\\Temp\\ipykernel_43512\\1941008866.py:11: UserWarning:\n",
      "\n",
      "Geometry is in a geographic CRS. Results from 'centroid' are likely incorrect. Use 'GeoSeries.to_crs()' to re-project geometries to a projected CRS before this operation.\n",
      "\n",
      "\n"
     ]
    }
   ],
   "source": [
    "\n",
    "app = Dash(__name__)\n",
    "\n",
    "initial_threshold = 30  \n",
    "clusters = cluster(Z, votes_df, initial_threshold)\n",
    "clusters_coords = make_base_map(clusters, cc_df, gdf)\n",
    "geojson_data = json.loads(clusters_coords.to_json())\n",
    "num_clusters = 15 \n",
    "colorscale = generate_colorscale(num_clusters, geojson_data)\n",
    "style = dict(weight=2, opacity=1, color='white', dashArray='3', fillOpacity=0.7)\n",
    "\n",
    "centroid = clusters_coords.geometry.centroid\n",
    "mean_lat, mean_lon = centroid.y.mean(), centroid.x.mean()\n",
    "\n",
    "hover_info = html.Div(\n",
    "    id=\"hover-info\",\n",
    "    style={\n",
    "        \"position\": \"absolute\",\n",
    "        \"top\": \"10px\",\n",
    "        \"right\": \"10px\",\n",
    "        \"zIndex\": \"1000\",\n",
    "        \"background-color\": \"white\", \n",
    "        \"padding\": \"10px\",  \n",
    "        \"border\": \"1px solid #ccc\", \n",
    "        \"border-radius\": \"5px\",  \n",
    "        \"box-shadow\": \"0 0 5px rgba(0, 0, 0, 0.2)\" \n",
    "    }\n",
    ")\n",
    "\n",
    "def create_dendrogram(Z):\n",
    "    \n",
    "    fig = ff.create_dendrogram(Z, orientation='bottom')\n",
    "    fig.update_layout(width=1000, height=600) \n",
    "    return fig\n",
    "dendrogram_fig = create_dendrogram(Z)\n",
    "\n",
    "app.layout = html.Div([\n",
    "        html.Div([\n",
    "        html.P(\"The application takes voting data from the New York City Councils “Legistar” API and clusters council members by the way that they vote.\"), \n",
    "        html.P(\"The method of clustering user here is known as “Hierarchical Clustering.” The graph you see below is known as a “dendrogram” and is used in the process of hierarchical clustering. You can think of the top of the y-axis as one cluster, everyone on the City Council, and the bottom as 51 separate clusters in which each council member gets their own cluster. Where you are on the y-axis determines the numbers of clusters. For example, at the very top of the dendrogram we see two lines, which means two clusters. The line on the left is attached of a very small group of individuals at the bottom, these are the councils Republicans. As you go further down, those clusters further subdivide as we get more specific.\"),  \n",
    "        html.P(\"The numbers on the y-axis correspond to the numbers on the slider above the map. Move the slider to change the number of clusters and see how the map changes.\"), \n",
    "    ], style={'padding': '20px','textAlign': 'center'}),\n",
    "    html.Div([\n",
    "        dcc.Graph(\n",
    "            id='dendrogram-plot',\n",
    "            figure=dendrogram_fig\n",
    "        )\n",
    "    ]),\n",
    "    dcc.Slider(\n",
    "        id='cluster-threshold-slider',\n",
    "        min=0,\n",
    "        max=100,  \n",
    "        step=1,\n",
    "        value=40,  \n",
    "        marks={i: str(i) for i in range(0, 101, 10)},  \n",
    "    ),\n",
    "    html.Div(id='slider-output-container'),  \n",
    "    html.Div([\n",
    "        dl.Map(center=[mean_lat, mean_lon], zoom=12, children=[\n",
    "            dl.TileLayer(),\n",
    "            dl.GeoJSON(data=geojson_data,  \n",
    "                         style=style_handle,  \n",
    "                         hideout=dict(colorscale=colorscale, num_clusters=num_clusters, style=style),\n",
    "                         id=\"geojson\")\n",
    "        ], style={'width': '100%', 'height': '50vh'}),\n",
    "\n",
    "        hover_info  \n",
    "    ], style={'position': 'relative'}),  \n",
    "])\n",
    "\n",
    "\n",
    "@app.callback(\n",
    "    Output(\"geojson\", \"data\"),\n",
    "    [Input(\"cluster-threshold-slider\", \"value\")]\n",
    ")\n",
    "def update_output(value):\n",
    "    clusters = cluster(Z, votes_df, value)\n",
    "    num_clusters = clusters['h_cluster'].nunique()\n",
    "    print(f\"Updated number of clusters: {num_clusters}\")\n",
    "\n",
    "    clusters_coords = make_base_map(clusters, cc_df, gdf)\n",
    "    new_geojson_data = json.loads(clusters_coords.to_json())\n",
    "    properties_summary = [\n",
    "        {key: feature['properties'][key] for key in ['OfficeRecordFullName', 'District', 'h_cluster']}\n",
    "        for feature in new_geojson_data['features']\n",
    "    ]\n",
    "    print(f\"Sample of updated GeoJSON data: {properties_summary[:5]}\")\n",
    "\n",
    "    colorscale = generate_colorscale(num_clusters, new_geojson_data)\n",
    "    print(f\"Updated colorscale: {colorscale}\")\n",
    "\n",
    "    return new_geojson_data\n",
    "\n",
    "@app.callback(\n",
    "    Output(\"hover-info\", \"children\"),\n",
    "    Input(\"geojson\", \"hoverData\")\n",
    ")\n",
    "def update_hover_info(hover_data):\n",
    "    if hover_data is not None:\n",
    "        properties = hover_data[\"properties\"]\n",
    "        office_name = properties.get(\"OfficeRecordFullName\", \"N/A\") \n",
    "        district = properties.get(\"District\", \"N/A\") \n",
    "        cluster_number = properties.get(\"h_cluster\", \"N/A\") \n",
    "\n",
    "        return [\n",
    "            html.H4(\"District Information\"),\n",
    "            html.P(f\"Council Member: {office_name}\"),\n",
    "            html.P(f\"District: {district}\"),\n",
    "            html.P(f\"Cluster: {cluster_number}\")\n",
    "        ]\n",
    "    return []"
   ]
  },
  {
   "cell_type": "markdown",
   "metadata": {},
   "source": [
    "Test new structure to fix color issue"
   ]
  },
  {
   "cell_type": "code",
   "execution_count": 26,
   "metadata": {},
   "outputs": [
    {
     "name": "stdout",
     "output_type": "stream",
     "text": [
      "Generated colorscale: ['rgba(68,1,84,1.0)', 'rgba(64,67,135,1.0)', 'rgba(41,120,142,1.0)', 'rgba(34,167,132,1.0)', 'rgba(121,209,81,1.0)']\n"
     ]
    },
    {
     "name": "stderr",
     "output_type": "stream",
     "text": [
      "C:\\Users\\samtg\\AppData\\Local\\Temp\\ipykernel_20240\\1517615208.py:11: UserWarning:\n",
      "\n",
      "Geometry is in a geographic CRS. Results from 'centroid' are likely incorrect. Use 'GeoSeries.to_crs()' to re-project geometries to a projected CRS before this operation.\n",
      "\n",
      "\n"
     ]
    }
   ],
   "source": [
    "app = Dash(__name__,external_stylesheets=[dbc.themes.CYBORG])\n",
    "\n",
    "initial_threshold = 40  \n",
    "clusters = cluster(Z, votes_df, initial_threshold)\n",
    "clusters_coords = make_base_map(clusters, cc_df, gdf)\n",
    "geojson_data = json.loads(clusters_coords.to_json())\n",
    "num_clusters = 5  \n",
    "colorscale = generate_colorscale(num_clusters, geojson_data)\n",
    "style = dict(weight=2, opacity=1, color='white', dashArray='3', fillOpacity=0.7)\n",
    "\n",
    "centroid = clusters_coords.geometry.centroid\n",
    "mean_lat, mean_lon = centroid.y.mean(), centroid.x.mean()\n",
    "\n",
    "hover_info = html.Div(\n",
    "    id=\"hover-info\",\n",
    "    style={\n",
    "        \"position\": \"absolute\",\n",
    "        \"top\": \"10px\",\n",
    "        \"right\": \"10px\",\n",
    "        \"zIndex\": \"1000\",\n",
    "        \"background-color\": \"white\", \n",
    "        \"padding\": \"10px\",  \n",
    "        \"border\": \"1px solid #ccc\", \n",
    "        \"border-radius\": \"5px\",  \n",
    "        \"box-shadow\": \"0 0 5px rgba(0, 0, 0, 0.2)\" \n",
    "    }\n",
    ")\n",
    "\n",
    "def create_dendrogram(Z):\n",
    "    fig = ff.create_dendrogram(Z, orientation='bottom')\n",
    "    fig.update_layout(width=1000, height=600) \n",
    "    return fig\n",
    "dendrogram_fig = create_dendrogram(Z)\n",
    "\n",
    "app.layout = html.Div([\n",
    "        html.Div([\n",
    "        html.P(\"This application takes voting data from the New York City Councils “Legistar” API and clusters council members by the way that they vote. Beacuse most votes are fairly lopsided, this application only looks at the most competitive votes. \"), \n",
    "        html.P(\"The method of clustering used here is known as “Hierarchical Clustering.” The graph you see below is called a “dendrogram” and is used in the process of hierarchical clustering. You can think of the top of the y-axis as one cluster, everyone on the City Council, and the bottom as around 25 separate clusters in which each council member is paired with their nearest neighbor(s). The location on the y-axis determines the numbers of clusters. For example, at the very top of the dendrogram we see two lines, which means two clusters. The line on the left is attached of a very small group of individuals at the bottom, these are the council's most conservative members. As you go further down, those clusters further subdivide as we get more specific.\"),  \n",
    "        html.P(\"The numbers on the y-axis correspond to the numbers on the slider above the map. Move the slider to change the number of clusters and see how the map changes. You can also hover over the map to see the district number, council member, and cluster number.\"), \n",
    "    ], style={'font-family': 'Georgia','padding': '20px','textAlign': 'center'}),\n",
    "    html.Div([\n",
    "        dcc.Graph(\n",
    "            id='dendrogram-plot',\n",
    "            figure=dendrogram_fig\n",
    "        )\n",
    "    ]),\n",
    "    dcc.Slider(\n",
    "        id='cluster-threshold-slider',\n",
    "        min=0,\n",
    "        max=100,  \n",
    "        step=1,\n",
    "        value=40,  \n",
    "        marks={i: str(i) for i in range(0, 101, 10)},  \n",
    "    ),\n",
    "    html.Div(id='slider-output-container'),  \n",
    "    html.Div([\n",
    "        dl.Map(center=[mean_lat, mean_lon], zoom=12, children=[\n",
    "            dl.TileLayer(),\n",
    "            dl.GeoJSON(data=geojson_data,  \n",
    "                         style=style_handle,  \n",
    "                         hideout=dict(colorscale=colorscale, num_clusters=num_clusters, style=style),\n",
    "                         id=\"geojson\")\n",
    "        ], style={'width': '100%', 'height': '50vh'}),\n",
    "\n",
    "        hover_info  \n",
    "    ], style={'position': 'relative'}),  \n",
    "])\n",
    "\n",
    "\n",
    "@app.callback(\n",
    "    Output(\"geojson\", \"data\"),\n",
    "    [Input(\"cluster-threshold-slider\", \"value\")]\n",
    ")\n",
    "def update_output(value):\n",
    "    clusters = cluster(Z, votes_df, value)\n",
    "    num_clusters = clusters['h_cluster'].nunique()\n",
    "    clusters_coords = make_base_map(clusters, cc_df, gdf)\n",
    "    new_geojson_data = json.loads(clusters_coords.to_json())\n",
    "    colorscale = generate_colorscale(num_clusters, new_geojson_data)\n",
    "    return new_geojson_data\n",
    "\n",
    "@app.callback(\n",
    "    Output(\"hover-info\", \"children\"),\n",
    "    Input(\"geojson\", \"hoverData\")\n",
    ")\n",
    "def update_hover_info(hover_data):\n",
    "    if hover_data is not None:\n",
    "        properties = hover_data[\"properties\"]\n",
    "        office_name = properties.get(\"OfficeRecordFullName\", \"N/A\") \n",
    "        district = properties.get(\"District\", \"N/A\") \n",
    "        cluster_number = properties.get(\"h_cluster\", \"N/A\") \n",
    "\n",
    "        return [\n",
    "            html.H4(\"District Information\"),\n",
    "            html.P(f\"Council Member: {office_name}\"),\n",
    "            html.P(f\"District: {district}\"),\n",
    "            html.P(f\"Cluster: {cluster_number}\")\n",
    "        ]\n",
    "    return []\n",
    "\n",
    "\n",
    "@app.callback(\n",
    "    Output('geojson', 'hideout'), \n",
    "    [Input(\"cluster-threshold-slider\", \"value\")]\n",
    ")\n",
    "def update_hideout(value):\n",
    "\n",
    "    clusters = cluster(Z, votes_df,value)\n",
    "    num_clusters = clusters['h_cluster'].nunique()\n",
    "    clusters_coords = make_base_map(clusters, cc_df, gdf)\n",
    "    new_geojson_data = json.loads(clusters_coords.to_json())\n",
    "    colorscale = generate_colorscale(num_clusters, new_geojson_data)\n",
    "    \n",
    "    new_hideout = {\n",
    "        'colorscale': colorscale,\n",
    "        'num_clusters': num_clusters,\n",
    "        'style' : style\n",
    "    }\n",
    "\n",
    "\n",
    "    return new_hideout\n"
   ]
  },
  {
   "cell_type": "code",
   "execution_count": null,
   "metadata": {},
   "outputs": [
    {
     "data": {
      "text/html": [
       "\n",
       "        <iframe\n",
       "            width=\"100%\"\n",
       "            height=\"650\"\n",
       "            src=\"http://127.0.0.1:8050/\"\n",
       "            frameborder=\"0\"\n",
       "            allowfullscreen\n",
       "            \n",
       "        ></iframe>\n",
       "        "
      ],
      "text/plain": [
       "<IPython.lib.display.IFrame at 0x18e610da0d0>"
      ]
     },
     "metadata": {},
     "output_type": "display_data"
    },
    {
     "name": "stdout",
     "output_type": "stream",
     "text": [
      "Generated colorscale: ['rgba(68,1,84,1.0)', 'rgba(58,82,139,1.0)', 'rgba(32,144,140,1.0)', 'rgba(94,201,97,1.0)']\n",
      "Generated colorscale: ['rgba(68,1,84,1.0)', 'rgba(58,82,139,1.0)', 'rgba(32,144,140,1.0)', 'rgba(94,201,97,1.0)']\n",
      "Generated colorscale: ['rgba(68,1,84,1.0)', 'rgba(58,82,139,1.0)', 'rgba(32,144,140,1.0)', 'rgba(94,201,97,1.0)']\n",
      "Generated colorscale: ['rgba(68,1,84,1.0)', 'rgba(58,82,139,1.0)', 'rgba(32,144,140,1.0)', 'rgba(94,201,97,1.0)']\n",
      "Generated colorscale: ['rgba(68,1,84,1.0)', 'rgba(58,82,139,1.0)', 'rgba(32,144,140,1.0)', 'rgba(94,201,97,1.0)']\n",
      "Generated colorscale: ['rgba(68,1,84,1.0)', 'rgba(58,82,139,1.0)', 'rgba(32,144,140,1.0)', 'rgba(94,201,97,1.0)']\n",
      "Generated colorscale: ['rgba(68,1,84,1.0)', 'rgba(58,82,139,1.0)', 'rgba(32,144,140,1.0)', 'rgba(94,201,97,1.0)']\n",
      "Generated colorscale: ['rgba(68,1,84,1.0)', 'rgba(58,82,139,1.0)', 'rgba(32,144,140,1.0)', 'rgba(94,201,97,1.0)']\n",
      "Generated colorscale: ['rgba(68,1,84,1.0)', 'rgba(58,82,139,1.0)', 'rgba(32,144,140,1.0)', 'rgba(94,201,97,1.0)']\n",
      "Generated colorscale: ['rgba(68,1,84,1.0)', 'rgba(58,82,139,1.0)', 'rgba(32,144,140,1.0)', 'rgba(94,201,97,1.0)']\n",
      "Generated colorscale: ['rgba(68,1,84,1.0)', 'rgba(58,82,139,1.0)', 'rgba(32,144,140,1.0)', 'rgba(94,201,97,1.0)']\n",
      "Generated colorscale: ['rgba(68,1,84,1.0)', 'rgba(58,82,139,1.0)', 'rgba(32,144,140,1.0)', 'rgba(94,201,97,1.0)']\n"
     ]
    }
   ],
   "source": [
    "app.run_server(mode='inline')"
   ]
  }
 ],
 "metadata": {
  "kernelspec": {
   "display_name": "Python 3",
   "language": "python",
   "name": "python3"
  },
  "language_info": {
   "codemirror_mode": {
    "name": "ipython",
    "version": 3
   },
   "file_extension": ".py",
   "mimetype": "text/x-python",
   "name": "python",
   "nbconvert_exporter": "python",
   "pygments_lexer": "ipython3",
   "version": "3.11.4"
  }
 },
 "nbformat": 4,
 "nbformat_minor": 2
}
