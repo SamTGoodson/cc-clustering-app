{
 "cells": [
  {
   "cell_type": "code",
   "execution_count": 1,
   "metadata": {},
   "outputs": [],
   "source": [
    "import pandas as pd\n",
    "import numpy as np\n",
    "import requests\n",
    "from datetime import datetime\n",
    "import re\n",
    "from matplotlib import pyplot as plt\n",
    "\n",
    "from sklearn.preprocessing import StandardScaler\n",
    "from sklearn.cluster import KMeans\n",
    "\n",
    "from scipy.cluster.hierarchy import dendrogram, linkage\n",
    "from scipy.cluster.hierarchy import fcluster"
   ]
  },
  {
   "cell_type": "code",
   "execution_count": 2,
   "metadata": {},
   "outputs": [],
   "source": [
    "import plotly.figure_factory as ff"
   ]
  },
  {
   "cell_type": "code",
   "execution_count": 3,
   "metadata": {},
   "outputs": [],
   "source": [
    "import dash_leaflet as dl"
   ]
  },
  {
   "cell_type": "code",
   "execution_count": 4,
   "metadata": {},
   "outputs": [],
   "source": [
    "import sys\n",
    "sys.path.append('..')"
   ]
  },
  {
   "cell_type": "code",
   "execution_count": 5,
   "metadata": {},
   "outputs": [],
   "source": [
    "\n",
    "from config import cc_api_key\n",
    "import folium"
   ]
  },
  {
   "cell_type": "code",
   "execution_count": 6,
   "metadata": {},
   "outputs": [],
   "source": [
    "from utils.leg_api import generate_cc_df,start_hierarchical,plot_denogram,get_votes,cluster,make_base_map,find_close_votes"
   ]
  },
  {
   "cell_type": "code",
   "execution_count": 20,
   "metadata": {},
   "outputs": [],
   "source": [
    "from dash import Dash, html, dcc, callback, Output, Input,State"
   ]
  },
  {
   "cell_type": "code",
   "execution_count": 23,
   "metadata": {},
   "outputs": [],
   "source": [
    "import dash_bootstrap_components as dbc"
   ]
  },
  {
   "cell_type": "code",
   "execution_count": 8,
   "metadata": {},
   "outputs": [],
   "source": [
    "import geopandas as gpd"
   ]
  },
  {
   "cell_type": "code",
   "execution_count": 9,
   "metadata": {},
   "outputs": [],
   "source": [
    "from dash_extensions.javascript import assign,arrow_function"
   ]
  },
  {
   "cell_type": "code",
   "execution_count": 10,
   "metadata": {},
   "outputs": [],
   "source": [
    "import json"
   ]
  },
  {
   "cell_type": "code",
   "execution_count": 37,
   "metadata": {},
   "outputs": [],
   "source": [
    "def find_close_votes():\n",
    "    df = get_votes()\n",
    "    vote_counts = df.groupby(['VoteEventItemId', 'VoteValueName']).size()\n",
    "    pivot_table = vote_counts.unstack(fill_value=0)\n",
    "    pivot_table = pivot_table.reset_index()\n",
    "\n",
    "    pivot_table['anti'] = pivot_table['Negative'] + pivot_table['Abstain']\n",
    "    pivot_table['total'] = pivot_table['Affirmative'] + pivot_table['anti']\n",
    "    pivot_table['ratio'] = pivot_table['anti'] / pivot_table['Affirmative']\n",
    "\n",
    "    pivot_table = pivot_table[pivot_table['ratio'].notna()]\n",
    "    pivot_table.replace([np.inf, -np.inf], np.nan, inplace=True)\n",
    "\n",
    "    full = pivot_table[pivot_table['total'] > 45]\n",
    "    top_ratio = full.sort_values('ratio', ascending=False).head(100)\n",
    "\n",
    "    ratio_ids = top_ratio['VoteEventItemId'].tolist()\n",
    "    full_ratio = df[df['VoteEventItemId'].isin(ratio_ids)]\n",
    "\n",
    "    fr_pivot = full_ratio.pivot_table(index='VotePersonName', columns='VoteEventItemId', values='VoteValueId')\n",
    "    fr_pivot.dropna(axis=1, how='any', inplace=True)\n",
    "\n",
    "    return fr_pivot"
   ]
  },
  {
   "cell_type": "code",
   "execution_count": 14,
   "metadata": {},
   "outputs": [],
   "source": [
    "def get_votes():\n",
    "    all_votes = []\n",
    "\n",
    "    CM_RAW = requests.get(url=\"https://webapi.legistar.com/v1/nyc/Bodies/1/OfficeRecords/?$filter=OfficeRecordStartDate+eq+datetime'{}'&token={}\".format(SESS_BEGIN, cc_api_key))\n",
    "    CM_RAW = CM_RAW.json()\n",
    "    for CM in CM_RAW:\n",
    "        PERSON_DATA = requests.get(url=\"https://webapi.legistar.com/v1/nyc/Persons/{}/?&token={}\".format(CM[\"OfficeRecordPersonId\"], cc_api_key))\n",
    "        CM_PERSONAL_DATA = PERSON_DATA.json()\n",
    "    \n",
    "        VOTES = requests.get(url=\"https://webapi.legistar.com/v1/nyc/Persons/{}/votes/?$filter=VoteLastModifiedUtc+gt+datetime'{}'&token={}\".format(CM_PERSONAL_DATA[\"PersonId\"], SESS_BEGIN, cc_api_key))\n",
    "        VOTES_JSON = VOTES.json()\n",
    "    \n",
    "        all_votes.extend(VOTES_JSON)\n",
    "\n",
    "    VOTER = pd.DataFrame(all_votes)\n",
    "    return VOTER"
   ]
  },
  {
   "cell_type": "code",
   "execution_count": 5,
   "metadata": {},
   "outputs": [],
   "source": [
    "TODAY = datetime.today()\n",
    "SESS_BEGIN = TODAY.replace(year=TODAY.year - ((TODAY.year % 4) - 2), month=1, day=1).strftime(\"%Y-%m-%d\") if (TODAY.year % 4) >= 2 else TODAY.replace(year=TODAY.year - ((TODAY.year % 4) + 2), month=1, day=1).strftime(\"%Y-%m-%d\")\n",
    "SESS_END = \"{}-{}-{}\".format(int(SESS_BEGIN.split(\"-\")[0]) + 3, 12, 31)"
   ]
  },
  {
   "cell_type": "code",
   "execution_count": 9,
   "metadata": {},
   "outputs": [],
   "source": [
    "vote_raw = get_votes()"
   ]
  },
  {
   "cell_type": "code",
   "execution_count": 26,
   "metadata": {},
   "outputs": [],
   "source": [
    "close_votes = find_close_votes(vote_raw)"
   ]
  },
  {
   "cell_type": "code",
   "execution_count": 6,
   "metadata": {},
   "outputs": [],
   "source": [
    "CM_RAW = requests.get(url=\"https://webapi.legistar.com/v1/nyc/Bodies/1/OfficeRecords/?$filter=OfficeRecordStartDate+eq+datetime'{}'&token={}\".format(SESS_BEGIN, cc_api_key))"
   ]
  },
  {
   "cell_type": "code",
   "execution_count": 7,
   "metadata": {},
   "outputs": [],
   "source": [
    "all_votes = []\n",
    "\n",
    "CM_RAW = CM_RAW.json()\n",
    "for CM in CM_RAW:\n",
    "    VOTES = requests.get(url=\"https://webapi.legistar.com/v1/nyc/Persons/{}/votes/?$filter=VoteLastModifiedUtc+gt+datetime'{}'&token={}\".format(CM[\"OfficeRecordPersonId\"], SESS_BEGIN, cc_api_key))\n",
    "    VOTES_JSON = VOTES.json()\n",
    "    \n",
    "    all_votes.extend(VOTES_JSON)\n",
    "\n",
    "# Convert the list of votes into a DataFrame\n",
    "VOTER = pd.DataFrame(all_votes)"
   ]
  },
  {
   "cell_type": "code",
   "execution_count": 20,
   "metadata": {},
   "outputs": [],
   "source": [
    "vote_counts = VOTER.groupby(['VoteEventItemId', 'VoteValueName']).size()\n",
    "pivot_table = vote_counts.unstack(fill_value=0)\n",
    "pivot_table = pivot_table.reset_index()"
   ]
  },
  {
   "cell_type": "code",
   "execution_count": 9,
   "metadata": {},
   "outputs": [],
   "source": [
    "pivot_table['anti'] = pivot_table['Negative'] + pivot_table['Abstain']\n",
    "pivot_table['total'] = pivot_table['Affirmative'] + pivot_table['anti']\n",
    "pivot_table['ratio'] = pivot_table['anti'] / pivot_table['Affirmative']"
   ]
  },
  {
   "cell_type": "code",
   "execution_count": 11,
   "metadata": {},
   "outputs": [],
   "source": [
    "pivot_table = pivot_table[pivot_table['ratio'].notna()]\n",
    "pivot_table.replace([np.inf, -np.inf], np.nan, inplace=True)"
   ]
  },
  {
   "cell_type": "code",
   "execution_count": 12,
   "metadata": {},
   "outputs": [],
   "source": [
    "full = pivot_table[pivot_table['total'] > 45]\n",
    "top_ratio = full.sort_values('ratio', ascending=False).head(100)"
   ]
  },
  {
   "cell_type": "code",
   "execution_count": 9,
   "metadata": {},
   "outputs": [],
   "source": [
    "# Initialize the app\n",
    "app = Dash(__name__)"
   ]
  },
  {
   "cell_type": "code",
   "execution_count": 10,
   "metadata": {},
   "outputs": [],
   "source": [
    "cc_df = generate_cc_df()\n",
    "votes_df = find_close_votes()"
   ]
  },
  {
   "cell_type": "code",
   "execution_count": 16,
   "metadata": {},
   "outputs": [],
   "source": [
    "def scale_and_standardize(df):\n",
    "\n",
    "    one_hot = pd.get_dummies(df, columns=df.columns)\n",
    "    scaler = StandardScaler()\n",
    "    scaled_df = scaler.fit_transform(one_hot)\n",
    "    return scaled_df"
   ]
  },
  {
   "cell_type": "code",
   "execution_count": 18,
   "metadata": {},
   "outputs": [],
   "source": [
    "scaled_df = scale_and_standardize(votes_df)"
   ]
  },
  {
   "cell_type": "code",
   "execution_count": 17,
   "metadata": {},
   "outputs": [],
   "source": [
    "def hierarchical_cluster(df):\n",
    "    Z = linkage(df, 'ward')\n",
    "    return Z\n"
   ]
  },
  {
   "cell_type": "code",
   "execution_count": 98,
   "metadata": {},
   "outputs": [],
   "source": [
    "def start_hierarchical(close_votes):\n",
    "    scaled_df = scale_and_standardize(close_votes)\n",
    "    Z = hierarchical_cluster(scaled_df)\n",
    "    return Z"
   ]
  },
  {
   "cell_type": "code",
   "execution_count": 24,
   "metadata": {},
   "outputs": [],
   "source": [
    "gdf = gpd.read_file('../shapefiles/nycc_22a')"
   ]
  },
  {
   "cell_type": "code",
   "execution_count": 12,
   "metadata": {},
   "outputs": [],
   "source": [
    "Z = start_hierarchical(votes_df)"
   ]
  },
  {
   "cell_type": "code",
   "execution_count": 114,
   "metadata": {},
   "outputs": [],
   "source": [
    "clusters = cluster(Z,votes_df,40)"
   ]
  },
  {
   "cell_type": "code",
   "execution_count": 96,
   "metadata": {},
   "outputs": [],
   "source": [
    "def make_base_map(df,CM_DATA,gdf):\n",
    "    gdfe = gdf.to_crs(epsg=4326)\n",
    "    df = df.reset_index()\n",
    "    master = pd.merge(CM_DATA, df, left_on='OfficeRecordFullName', right_on='VotePersonName', how='left')\n",
    "    master = master[['OfficeRecordFullName', 'District', 'h_cluster']]\n",
    "    master_map = pd.merge(gdfe, master, left_on='CounDist', right_on='District', how='left')\n",
    "\n",
    "    return master_map"
   ]
  },
  {
   "cell_type": "code",
   "execution_count": 115,
   "metadata": {},
   "outputs": [],
   "source": [
    "clusters_coords = make_base_map(clusters,cc_df,gdf)"
   ]
  },
  {
   "cell_type": "code",
   "execution_count": 116,
   "metadata": {},
   "outputs": [
    {
     "name": "stderr",
     "output_type": "stream",
     "text": [
      "C:\\Users\\samtg\\AppData\\Local\\Temp\\ipykernel_45740\\872553423.py:1: UserWarning:\n",
      "\n",
      "Geometry is in a geographic CRS. Results from 'centroid' are likely incorrect. Use 'GeoSeries.to_crs()' to re-project geometries to a projected CRS before this operation.\n",
      "\n",
      "\n"
     ]
    }
   ],
   "source": [
    "centroid = clusters_coords.geometry.centroid\n",
    "mean_lat, mean_lon = centroid.y.mean(), centroid.x.mean()"
   ]
  },
  {
   "cell_type": "code",
   "execution_count": 125,
   "metadata": {},
   "outputs": [
    {
     "data": {
      "text/plain": [
       "h_cluster\n",
       "2    36\n",
       "1     8\n",
       "3     6\n",
       "4     1\n",
       "Name: count, dtype: int64"
      ]
     },
     "execution_count": 125,
     "metadata": {},
     "output_type": "execute_result"
    }
   ],
   "source": [
    "clusters_coords['h_cluster'].value_counts()"
   ]
  },
  {
   "cell_type": "code",
   "execution_count": 117,
   "metadata": {},
   "outputs": [],
   "source": [
    "app = Dash(__name__)"
   ]
  },
  {
   "cell_type": "code",
   "execution_count": 118,
   "metadata": {},
   "outputs": [],
   "source": [
    "geojson = json.loads(clusters_coords.to_json())"
   ]
  },
  {
   "cell_type": "code",
   "execution_count": 108,
   "metadata": {},
   "outputs": [],
   "source": [
    "style = {\n",
    "    'weight': 2, \n",
    "    'opacity': 1, \n",
    "    'color': 'white',  # Line color\n",
    "    'dashArray': '3', \n",
    "    'fillOpacity': 0.7\n",
    "}"
   ]
  },
  {
   "cell_type": "code",
   "execution_count": 120,
   "metadata": {},
   "outputs": [],
   "source": [
    "def generate_colorscale(num_clusters):\n",
    "    cmap = plt.get_cmap('tab20')  # Or any other suitable colormap\n",
    "    return [cmap(i / num_clusters) for i in range(num_clusters)]"
   ]
  },
  {
   "cell_type": "code",
   "execution_count": 121,
   "metadata": {},
   "outputs": [],
   "source": [
    "@app.callback(\n",
    "    Output('geojson', 'hideout'),\n",
    "    [Input('submit-button', 'n_clicks')],\n",
    "    [State('num-clusters-input', 'value')]\n",
    ")\n",
    "def update_map_style(n_clicks, num_clusters):\n",
    "    if not callback_context.triggered:\n",
    "        raise PreventUpdate\n",
    "    colorscale = generate_colorscale(num_clusters)\n",
    "    classes = list(range(1, num_clusters + 1))\n",
    "    return {'classes': classes, 'colorscale': colorscale, 'style': style}"
   ]
  },
  {
   "cell_type": "code",
   "execution_count": 122,
   "metadata": {},
   "outputs": [],
   "source": [
    "style_handle = assign(\"\"\"function(feature){\n",
    "    const h_cluster = feature.properties.h_cluster;\n",
    "    let color = '#FFEDA0';  // Default color\n",
    "\n",
    "    if (h_cluster === 1) {\n",
    "        color = '#FED976';  // Color for h_cluster 1\n",
    "    } else if (h_cluster === 2) {\n",
    "        color = '#FC4E2A';  // Color for h_cluster 2\n",
    "    } // Add more conditions as needed\n",
    "\n",
    "    return { fillColor: color, weight: 1, opacity: 1, color: 'black', fillOpacity: 0.7 };\n",
    "}\"\"\")\n"
   ]
  },
  {
   "cell_type": "code",
   "execution_count": 123,
   "metadata": {},
   "outputs": [
    {
     "name": "stderr",
     "output_type": "stream",
     "text": [
      "C:\\Users\\samtg\\AppData\\Local\\Temp\\ipykernel_45740\\1158062981.py:3: UserWarning:\n",
      "\n",
      "Geometry is in a geographic CRS. Results from 'centroid' are likely incorrect. Use 'GeoSeries.to_crs()' to re-project geometries to a projected CRS before this operation.\n",
      "\n",
      "\n"
     ]
    }
   ],
   "source": [
    "app = Dash(__name__)\n",
    "\n",
    "centroid = clusters_coords.geometry.centroid\n",
    "mean_lat, mean_lon = centroid.y.mean(), centroid.x.mean()\n",
    "\n",
    "\n",
    "app.layout = html.Div([\n",
    "    dl.Map(center=[mean_lat, mean_lon], zoom=12, children=[\n",
    "        dl.TileLayer(),\n",
    "        dl.GeoJSON(data=geojson, style=style_handle, \n",
    "                     hideout={'classes': [], 'colorscale': [], 'style': style}, id=\"geojson\")\n",
    "    ], style={'width': '100%', 'height': '50vh'}),\n",
    "])\n"
   ]
  },
  {
   "cell_type": "code",
   "execution_count": 116,
   "metadata": {},
   "outputs": [],
   "source": [
    "app.layout = html.Div([\n",
    "    \n",
    "    html.Button('Generate Dendrogram', id='dendrogram-button', n_clicks=0),\n",
    "    dcc.Graph(id='dendrogram'),\n",
    "    dcc.Input(id='num-clusters-input', type='number', placeholder='Enter number of clusters'),\n",
    "    html.Button('Show Clusters on Map', id='cluster-map-button', n_clicks=0),\n",
    "    dl.Map(\n",
    "        [dl.TileLayer(url='https://{s}.tile.openstreetmap.org/{z}/{x}/{y}.png')],  \n",
    "        id='map',\n",
    "        center=[40.7128, -74.0060],  \n",
    "        zoom=6,\n",
    "        style={'height': '50vh'}\n",
    "    ),\n",
    "])\n",
    "\n",
    "@app.callback(\n",
    "    Output('dendrogram', 'figure'),\n",
    "    Input('dendrogram-button', 'n_clicks'),\n",
    "    prevent_initial_call=True\n",
    ")\n",
    "def generate_dendrogram(n_clicks):\n",
    "    if n_clicks > 0: \n",
    "        Z = start_hierarchical(votes_df)\n",
    "    return ff.create_dendrogram(Z)\n",
    "\n",
    "@app.callback(\n",
    "    Output('map', 'children'),\n",
    "    [Input('cluster-map-button', 'n_clicks')],\n",
    "    [State('num-clusters-input', 'value')],\n",
    "    prevent_initial_call=True\n",
    ")\n",
    "def show_clusters_on_map(n_clicks, threshold):\n",
    "    if n_clicks > 0 and threshold:\n",
    "        Z = start_hierarchical(votes_df)\n",
    "        clusters = cluster(Z, votes_df, threshold)\n",
    "        clusters_coords = make_base_map(clusters, cc_df, gdf)\n",
    "        tile_layer = dl.TileLayer(url='https://{s}.tile.openstreetmap.org/{z}/{x}/{y}.png')\n",
    "        markers = [dl.Marker(position=coord) for coord in clusters_coords]\n",
    "        return [tile_layer] + markers\n",
    "    return [dl.TileLayer(url='https://{s}.tile.openstreetmap.org/{z}/{x}/{y}.png')]"
   ]
  },
  {
   "cell_type": "markdown",
   "metadata": {},
   "source": [
    "Preserving functional map"
   ]
  },
  {
   "cell_type": "code",
   "execution_count": 127,
   "metadata": {},
   "outputs": [],
   "source": [
    "app = Dash(__name__)"
   ]
  },
  {
   "cell_type": "code",
   "execution_count": 170,
   "metadata": {},
   "outputs": [],
   "source": [
    "geojson_data = json.loads(clusters_coords.to_json())"
   ]
  },
  {
   "cell_type": "code",
   "execution_count": 129,
   "metadata": {},
   "outputs": [],
   "source": [
    "style_handle = assign(\"\"\"function(feature){\n",
    "    const h_cluster = feature.properties.h_cluster;\n",
    "    let color = '#FFEDA0';  // Default color\n",
    "\n",
    "    if (h_cluster === 1) {\n",
    "        color = '#FED976';  // Color for h_cluster 1\n",
    "    } else if (h_cluster === 2) {\n",
    "        color = '#FC4E2A';  // Color for h_cluster 2\n",
    "    } // Add more conditions as needed\n",
    "\n",
    "    return { fillColor: color, weight: 1, opacity: 1, color: 'black', fillOpacity: 0.7 };\n",
    "}\"\"\")\n"
   ]
  },
  {
   "cell_type": "code",
   "execution_count": 130,
   "metadata": {},
   "outputs": [
    {
     "name": "stderr",
     "output_type": "stream",
     "text": [
      "C:\\Users\\samtg\\AppData\\Local\\Temp\\ipykernel_45740\\1121931027.py:1: UserWarning:\n",
      "\n",
      "Geometry is in a geographic CRS. Results from 'centroid' are likely incorrect. Use 'GeoSeries.to_crs()' to re-project geometries to a projected CRS before this operation.\n",
      "\n",
      "\n"
     ]
    }
   ],
   "source": [
    "centroid = clusters_coords.geometry.centroid\n",
    "mean_lat, mean_lon = centroid.y.mean(), centroid.x.mean()\n",
    "\n",
    "app.layout = html.Div([\n",
    "    dl.Map(center=[mean_lat, mean_lon], zoom=12, children=[\n",
    "        dl.TileLayer(),\n",
    "        dl.GeoJSON(data=geojson, style=style_handle, id=\"geojson\")\n",
    "    ], style={'width': '100%', 'height': '50vh'}),\n",
    "])"
   ]
  },
  {
   "cell_type": "code",
   "execution_count": null,
   "metadata": {},
   "outputs": [],
   "source": [
    "app.run_server(mode='inline')"
   ]
  },
  {
   "cell_type": "markdown",
   "metadata": {},
   "source": [
    "End"
   ]
  },
  {
   "cell_type": "markdown",
   "metadata": {},
   "source": [
    "Improvement "
   ]
  },
  {
   "cell_type": "code",
   "execution_count": 228,
   "metadata": {},
   "outputs": [],
   "source": [
    "def generate_colorscale(num_clusters):\n",
    "    cmap = plt.get_cmap('tab20')\n",
    "    colorscale = [\n",
    "        \"rgba({},{},{},{})\".format(int(r * 255), int(g * 255), int(b * 255), a)\n",
    "        for r, g, b, a in [cmap(i / num_clusters) for i in range(num_clusters)]\n",
    "    ]\n",
    "    return colorscale"
   ]
  },
  {
   "cell_type": "code",
   "execution_count": 249,
   "metadata": {},
   "outputs": [],
   "source": [
    "app = Dash(__name__)"
   ]
  },
  {
   "cell_type": "code",
   "execution_count": 250,
   "metadata": {},
   "outputs": [],
   "source": [
    "num_clusters = 5\n",
    "colors = generate_colorscale(num_clusters)\n",
    "style = dict(weight=2, opacity=1, color='white', dashArray='3', fillOpacity=0.7)"
   ]
  },
  {
   "cell_type": "code",
   "execution_count": 231,
   "metadata": {},
   "outputs": [
    {
     "data": {
      "text/plain": [
       "['rgba(31,119,180,1.0)',\n",
       " 'rgba(44,160,44,1.0)',\n",
       " 'rgba(148,103,189,1.0)',\n",
       " 'rgba(227,119,194,1.0)',\n",
       " 'rgba(188,189,34,1.0)']"
      ]
     },
     "execution_count": 231,
     "metadata": {},
     "output_type": "execute_result"
    }
   ],
   "source": [
    "colors"
   ]
  },
  {
   "cell_type": "code",
   "execution_count": 251,
   "metadata": {},
   "outputs": [],
   "source": [
    "style_handle = assign(\"\"\"function(feature, context){\n",
    "    const {num_clusters, colorscale, style} = context.hideout;  // get properties from hideout\n",
    "    const value = feature.properties.h_cluster;   // get the cluster number\n",
    "    for (let i = 0; i < num_clusters; ++i) {      // iterate over the number of clusters\n",
    "        if (value === i) {                        // compare with the cluster index\n",
    "            style.fillColor = colorscale[i];      // set the fill color according to the index\n",
    "            break;                                // break after setting the color\n",
    "        }\n",
    "    }\n",
    "    // Debugging log\n",
    "    console.log('Feature ID: ' + feature.id + ', Cluster: ' + value + ', Color: ' + style.fillColor);\n",
    "    return style;\n",
    "}\"\"\")\n"
   ]
  },
  {
   "cell_type": "code",
   "execution_count": 252,
   "metadata": {},
   "outputs": [],
   "source": [
    "geojson = dl.GeoJSON(data=geojson_data,  \n",
    "                     style=style_handle,  \n",
    "                     hideout=dict(colorscale=colors, num_clusters = num_clusters, style=style),\n",
    "                     id=\"geojson\")"
   ]
  },
  {
   "cell_type": "code",
   "execution_count": 253,
   "metadata": {},
   "outputs": [
    {
     "name": "stderr",
     "output_type": "stream",
     "text": [
      "C:\\Users\\samtg\\AppData\\Local\\Temp\\ipykernel_45740\\2888577369.py:1: UserWarning:\n",
      "\n",
      "Geometry is in a geographic CRS. Results from 'centroid' are likely incorrect. Use 'GeoSeries.to_crs()' to re-project geometries to a projected CRS before this operation.\n",
      "\n",
      "\n"
     ]
    }
   ],
   "source": [
    "centroid = clusters_coords.geometry.centroid\n",
    "mean_lat, mean_lon = centroid.y.mean(), centroid.x.mean()\n",
    "\n",
    "app.layout = html.Div([\n",
    "    dl.Map(center=[mean_lat, mean_lon], zoom=12, children=[\n",
    "        dl.TileLayer(),\n",
    "        geojson\n",
    "    ], style={'width': '100%', 'height': '50vh'}),\n",
    "])"
   ]
  },
  {
   "cell_type": "markdown",
   "metadata": {},
   "source": [
    "End"
   ]
  },
  {
   "cell_type": "code",
   "execution_count": 282,
   "metadata": {},
   "outputs": [],
   "source": [
    "app = Dash(__name__)"
   ]
  },
  {
   "cell_type": "code",
   "execution_count": 278,
   "metadata": {},
   "outputs": [],
   "source": [
    "def generate_colorscale(num_clusters, geojson_data):\n",
    "    cmap = plt.get_cmap('tab20')\n",
    "    colorscale = [\n",
    "        {\n",
    "            \"rgba\": \"rgba({},{},{},{})\".format(int(r * 255), int(g * 255), int(b * 255), a),\n",
    "            \"OfficeRecordFullName\": feature[\"properties\"][\"OfficeRecordFullName\"],\n",
    "            \"District\": feature[\"properties\"][\"District\"],\n",
    "            \"Cluster\": feature[\"properties\"][\"h_cluster\"],\n",
    "        }\n",
    "        for i, (r, g, b, a) in enumerate(cmap(i / num_clusters) for i in range(num_clusters))\n",
    "        for feature in geojson_data[\"features\"]\n",
    "    ]\n",
    "    return colorscale\n"
   ]
  },
  {
   "cell_type": "code",
   "execution_count": 299,
   "metadata": {},
   "outputs": [
    {
     "name": "stderr",
     "output_type": "stream",
     "text": [
      "C:\\Users\\samtg\\AppData\\Local\\Temp\\ipykernel_45740\\2154373844.py:5: UserWarning:\n",
      "\n",
      "Geometry is in a geographic CRS. Results from 'centroid' are likely incorrect. Use 'GeoSeries.to_crs()' to re-project geometries to a projected CRS before this operation.\n",
      "\n",
      "\n"
     ]
    }
   ],
   "source": [
    "app = Dash(__name__)\n",
    "num_clusters = 5\n",
    "colorscale = generate_colorscale(num_clusters,geojson_data)\n",
    "\n",
    "centroid = clusters_coords.geometry.centroid\n",
    "mean_lat, mean_lon = centroid.y.mean(), centroid.x.mean()\n",
    "\n",
    "hover_info = html.Div(\n",
    "    id=\"hover-info\",\n",
    "    style={\n",
    "        \"position\": \"absolute\",\n",
    "        \"top\": \"10px\",\n",
    "        \"right\": \"10px\",\n",
    "        \"zIndex\": \"1000\",\n",
    "        \"background-color\": \"white\", \n",
    "        \"padding\": \"10px\",  \n",
    "        \"border\": \"1px solid #ccc\", \n",
    "        \"border-radius\": \"5px\",  \n",
    "        \"box-shadow\": \"0 0 5px rgba(0, 0, 0, 0.2)\" \n",
    "    }\n",
    ")\n",
    "\n",
    "app.layout = html.Div([\n",
    "    dl.Map(center=[mean_lat, mean_lon], zoom=12, children=[\n",
    "        dl.TileLayer(),\n",
    "        geojson\n",
    "    ], style={'width': '100%', 'height': '50vh'}),\n",
    "    hover_info\n",
    "])\n",
    "\n",
    "@app.callback(\n",
    "    Output(\"hover-info\", \"children\"),\n",
    "    Input(\"geojson\", \"hoverData\")\n",
    ")\n",
    "def update_hover_info(hover_data):\n",
    "    if hover_data is not None:\n",
    "        properties = hover_data[\"properties\"]\n",
    "        office_name = properties.get(\"OfficeRecordFullName\", \"N/A\") \n",
    "        district = properties.get(\"District\", \"N/A\") \n",
    "        cluster_number = properties.get(\"h_cluster\", \"N/A\") \n",
    "\n",
    "        return [\n",
    "            html.H4(\"District Information\"),\n",
    "            html.P(f\"Council Member: {office_name}\"),\n",
    "            html.P(f\"District: {district}\"),\n",
    "            html.P(f\"Cluster: {cluster_number}\")\n",
    "        ]\n",
    "    return []\n",
    "\n"
   ]
  },
  {
   "cell_type": "code",
   "execution_count": null,
   "metadata": {},
   "outputs": [],
   "source": [
    "app.run_server(mode='inline')"
   ]
  },
  {
   "cell_type": "markdown",
   "metadata": {},
   "source": [
    "Attempt to add user input "
   ]
  },
  {
   "cell_type": "code",
   "execution_count": 321,
   "metadata": {},
   "outputs": [],
   "source": [
    "def generate_colorscale(num_clusters, geojson_data):\n",
    "    cmap = plt.get_cmap('tab20')\n",
    "    colorscale = [\n",
    "        \"rgba({},{},{},{})\".format(int(r * 255), int(g * 255), int(b * 255), a)\n",
    "        for r, g, b, a in (cmap(i / num_clusters) for i in range(num_clusters))\n",
    "    ]\n",
    "    return colorscale\n"
   ]
  },
  {
   "cell_type": "code",
   "execution_count": 322,
   "metadata": {},
   "outputs": [
    {
     "name": "stderr",
     "output_type": "stream",
     "text": [
      "C:\\Users\\samtg\\AppData\\Local\\Temp\\ipykernel_45740\\1560506666.py:12: UserWarning:\n",
      "\n",
      "Geometry is in a geographic CRS. Results from 'centroid' are likely incorrect. Use 'GeoSeries.to_crs()' to re-project geometries to a projected CRS before this operation.\n",
      "\n",
      "\n"
     ]
    }
   ],
   "source": [
    "app = Dash(__name__)\n",
    "\n",
    "initial_threshold = 40  # Adjust this based on what makes sense for your data\n",
    "\n",
    "# Generate initial clusters and GeoJSON data\n",
    "clusters = cluster(Z, votes_df, initial_threshold)\n",
    "clusters_coords = make_base_map(clusters, cc_df, gdf)\n",
    "geojson_data = json.loads(clusters_coords.to_json())\n",
    "num_clusters = 5  \n",
    "colorscale = generate_colorscale(num_clusters, geojson_data)\n",
    "\n",
    "centroid = clusters_coords.geometry.centroid\n",
    "mean_lat, mean_lon = centroid.y.mean(), centroid.x.mean()\n",
    "\n",
    "app.layout = html.Div([\n",
    "    dcc.Slider(\n",
    "        id='cluster-threshold-slider',\n",
    "        min=0,\n",
    "        max=100,  # Adjust max value based on your data's scale\n",
    "        step=1,\n",
    "        value=40,  # Initial value\n",
    "        marks={i: str(i) for i in range(0, 101, 10)},  # Adjust marks according to your needs\n",
    "    ),\n",
    "    html.Div(id='slider-output-container'),  # Optional: Displays chosen threshold\n",
    "    dl.Map(center=[mean_lat, mean_lon], zoom=12, children=[\n",
    "        dl.TileLayer(),\n",
    "        dl.GeoJSON(data=geojson_data,  \n",
    "                     style=style_handle,  \n",
    "                     hideout=dict(colorscale=colorscale, num_clusters = num_clusters, style=style),\n",
    "                     id=\"geojson\")\n",
    "    ], style={'width': '100%', 'height': '50vh'}),\n",
    "    hover_info\n",
    "])\n",
    "\n",
    "@app.callback(\n",
    "    Output(\"geojson\", \"data\"),\n",
    "    [Input(\"cluster-threshold-slider\", \"value\")]\n",
    ")\n",
    "def update_output(value):\n",
    "    clusters = cluster(Z, votes_df, value)\n",
    "    num_clusters = clusters['h_cluster'].nunique()\n",
    "    clusters_coords = make_base_map(clusters, cc_df, gdf)\n",
    "    new_geojson_data = json.loads(clusters_coords.to_json())\n",
    "    colorscale = generate_colorscale(num_clusters, new_geojson_data)\n",
    "    print(f\"Updated GeoJSON Data: {str(geojson_data)[:500]}\")\n",
    "    print(f\"Updated GeoJSON Data: {str(colorscale)[:500]}\")\n",
    "    return new_geojson_data\n",
    "\n"
   ]
  },
  {
   "cell_type": "code",
   "execution_count": null,
   "metadata": {},
   "outputs": [],
   "source": [
    "app.run_server(mode='inline')"
   ]
  },
  {
   "cell_type": "code",
   "execution_count": 1,
   "metadata": {},
   "outputs": [
    {
     "ename": "NameError",
     "evalue": "name 'Dash' is not defined",
     "output_type": "error",
     "traceback": [
      "\u001b[1;31m---------------------------------------------------------------------------\u001b[0m",
      "\u001b[1;31mNameError\u001b[0m                                 Traceback (most recent call last)",
      "Cell \u001b[1;32mIn[1], line 1\u001b[0m\n\u001b[1;32m----> 1\u001b[0m app \u001b[38;5;241m=\u001b[39m \u001b[43mDash\u001b[49m(\u001b[38;5;18m__name__\u001b[39m)\n\u001b[0;32m      3\u001b[0m initial_threshold \u001b[38;5;241m=\u001b[39m \u001b[38;5;241m40\u001b[39m  \n\u001b[0;32m      4\u001b[0m clusters \u001b[38;5;241m=\u001b[39m cluster(Z, votes_df, initial_threshold)\n",
      "\u001b[1;31mNameError\u001b[0m: name 'Dash' is not defined"
     ]
    }
   ],
   "source": [
    "app = Dash(__name__)\n",
    "\n",
    "initial_threshold = 40  \n",
    "clusters = cluster(Z, votes_df, initial_threshold)\n",
    "clusters_coords = make_base_map(clusters, cc_df, gdf)\n",
    "geojson_data = json.loads(clusters_coords.to_json())\n",
    "num_clusters = 5  \n",
    "colorscale = generate_colorscale(num_clusters, geojson_data)\n",
    "\n",
    "centroid = clusters_coords.geometry.centroid\n",
    "mean_lat, mean_lon = centroid.y.mean(), centroid.x.mean()\n",
    "\n",
    "hover_info = html.Div(\n",
    "    id=\"hover-info\",\n",
    "    style={\n",
    "        \"position\": \"absolute\",\n",
    "        \"top\": \"10px\",\n",
    "        \"right\": \"10px\",\n",
    "        \"zIndex\": \"1000\",\n",
    "        \"background-color\": \"white\", \n",
    "        \"padding\": \"10px\",  \n",
    "        \"border\": \"1px solid #ccc\", \n",
    "        \"border-radius\": \"5px\",  \n",
    "        \"box-shadow\": \"0 0 5px rgba(0, 0, 0, 0.2)\" \n",
    "    }\n",
    ")\n",
    "\n",
    "def create_dendrogram(Z):\n",
    "    fig = ff.create_dendrogram(Z, orientation='bottom')\n",
    "    fig.update_layout(width=800, height=400) \n",
    "    return fig\n",
    "dendrogram_fig = create_dendrogram(Z)\n",
    "\n",
    "app.layout = html.Div([\n",
    "        html.Div([\n",
    "        html.P(\"Text Here Does It work?.\"),\n",
    "    ], style={'padding': '20px'}),\n",
    "    html.Div([\n",
    "        dcc.Graph(\n",
    "            id='dendrogram-plot',\n",
    "            figure=dendrogram_fig\n",
    "        )\n",
    "    ]),\n",
    "    dcc.Slider(\n",
    "        id='cluster-threshold-slider',\n",
    "        min=0,\n",
    "        max=100,  \n",
    "        step=1,\n",
    "        value=40,  \n",
    "        marks={i: str(i) for i in range(0, 101, 10)},  \n",
    "    ),\n",
    "    html.Div(id='slider-output-container'),  \n",
    "    html.Div([\n",
    "        dl.Map(center=[mean_lat, mean_lon], zoom=12, children=[\n",
    "            dl.TileLayer(),\n",
    "            dl.GeoJSON(data=geojson_data,  \n",
    "                         style=style_handle,  \n",
    "                         hideout=dict(colorscale=colorscale, num_clusters=num_clusters, style=style),\n",
    "                         id=\"geojson\")\n",
    "        ], style={'width': '100%', 'height': '50vh'}),\n",
    "\n",
    "        hover_info  \n",
    "    ], style={'position': 'relative'}),  \n",
    "])\n",
    "\n",
    "\n",
    "@app.callback(\n",
    "    Output(\"geojson\", \"data\"),\n",
    "    [Input(\"cluster-threshold-slider\", \"value\")]\n",
    ")\n",
    "def update_output(value):\n",
    "    clusters = cluster(Z, votes_df, value)\n",
    "    num_clusters = clusters['h_cluster'].nunique()\n",
    "    clusters_coords = make_base_map(clusters, cc_df, gdf)\n",
    "    new_geojson_data = json.loads(clusters_coords.to_json())\n",
    "    colorscale = generate_colorscale(num_clusters, new_geojson_data)\n",
    "    return new_geojson_data\n",
    "\n",
    "@app.callback(\n",
    "    Output(\"hover-info\", \"children\"),\n",
    "    Input(\"geojson\", \"hoverData\")\n",
    ")\n",
    "def update_hover_info(hover_data):\n",
    "    if hover_data is not None:\n",
    "        properties = hover_data[\"properties\"]\n",
    "        office_name = properties.get(\"OfficeRecordFullName\", \"N/A\") \n",
    "        district = properties.get(\"District\", \"N/A\") \n",
    "        cluster_number = properties.get(\"h_cluster\", \"N/A\") \n",
    "\n",
    "        return [\n",
    "            html.H4(\"District Information\"),\n",
    "            html.P(f\"Council Member: {office_name}\"),\n",
    "            html.P(f\"District: {district}\"),\n",
    "            html.P(f\"Cluster: {cluster_number}\")\n",
    "        ]\n",
    "    return []\n"
   ]
  },
  {
   "cell_type": "code",
   "execution_count": null,
   "metadata": {},
   "outputs": [],
   "source": [
    "app.run_server(mode='inline')"
   ]
  },
  {
   "cell_type": "code",
   "execution_count": 29,
   "metadata": {},
   "outputs": [],
   "source": [
    "def generate_colorscale(num_clusters, geojson_data):\n",
    "    cmap = plt.get_cmap('viridis')\n",
    "    colorscale = [\n",
    "        \"rgba({},{},{},{})\".format(int(r * 255), int(g * 255), int(b * 255), a)\n",
    "        for r, g, b, a in (cmap(i / num_clusters) for i in range(num_clusters))\n",
    "    ]\n",
    "    print(f\"Generated colorscale: {colorscale}\")\n",
    "    return colorscale\n",
    "\n",
    "style_handle = assign(\"\"\"function(feature, context){\n",
    "    const {num_clusters, colorscale, style} = context.hideout;  // get properties from hideout\n",
    "    const value = feature.properties.h_cluster;   // get the cluster number\n",
    "    for (let i = 0; i < num_clusters; ++i) {      // iterate over the number of clusters\n",
    "        if (value === i + 1) {                        // compare with the cluster index\n",
    "            style.fillColor = colorscale[i];      // set the fill color according to the index\n",
    "            break;                                // break after setting the color\n",
    "        }\n",
    "    }\n",
    "    // Debugging log\n",
    "    console.log('Feature ID: ' + feature.id + ', Cluster: ' + value + ', Color: ' + style.fillColor);\n",
    "    return style;\n",
    "}\"\"\")\n"
   ]
  },
  {
   "cell_type": "code",
   "execution_count": 14,
   "metadata": {},
   "outputs": [],
   "source": [
    "cc_df = generate_cc_df()\n",
    "votes_df = find_close_votes()\n",
    "gdf = gpd.read_file('../shapefiles/nycc_22a')\n",
    "Z = start_hierarchical(votes_df)"
   ]
  },
  {
   "cell_type": "code",
   "execution_count": 11,
   "metadata": {},
   "outputs": [],
   "source": [
    "votes_df = find_close_votes()\n",
    "cc_df = generate_cc_df()\n",
    "gdf = gpd.read_file('../shapefiles/nycc_22a')\n",
    "Z = start_hierarchical(votes_df)\n",
    "clusters = cluster(Z, votes_df, 40)\n",
    "clusters_coords = make_base_map(clusters, cc_df, gdf)"
   ]
  },
  {
   "cell_type": "code",
   "execution_count": 25,
   "metadata": {},
   "outputs": [],
   "source": [
    "clusters = cluster(Z, votes_df, 20)\n",
    "clusters_coords = make_base_map(clusters, cc_df, gdf)"
   ]
  },
  {
   "cell_type": "code",
   "execution_count": 17,
   "metadata": {},
   "outputs": [
    {
     "data": {
      "text/plain": [
       "h_cluster\n",
       "2    36\n",
       "1     8\n",
       "3     6\n",
       "4     1\n",
       "Name: count, dtype: int64"
      ]
     },
     "execution_count": 17,
     "metadata": {},
     "output_type": "execute_result"
    }
   ],
   "source": [
    "clusters_coords['h_cluster'].value_counts()"
   ]
  },
  {
   "cell_type": "code",
   "execution_count": 26,
   "metadata": {},
   "outputs": [
    {
     "name": "stdout",
     "output_type": "stream",
     "text": [
      "Generated colorscale: ['rgba(68,1,84,1.0)', 'rgba(72,25,107,1.0)', 'rgba(70,47,124,1.0)', 'rgba(64,67,135,1.0)', 'rgba(56,86,139,1.0)', 'rgba(48,103,141,1.0)', 'rgba(41,120,142,1.0)', 'rgba(35,136,141,1.0)', 'rgba(30,152,138,1.0)', 'rgba(34,167,132,1.0)', 'rgba(53,183,120,1.0)', 'rgba(83,197,103,1.0)', 'rgba(121,209,81,1.0)', 'rgba(165,218,53,1.0)', 'rgba(210,225,27,1.0)']\n"
     ]
    },
    {
     "name": "stderr",
     "output_type": "stream",
     "text": [
      "C:\\Users\\samtg\\AppData\\Local\\Temp\\ipykernel_43512\\1941008866.py:11: UserWarning:\n",
      "\n",
      "Geometry is in a geographic CRS. Results from 'centroid' are likely incorrect. Use 'GeoSeries.to_crs()' to re-project geometries to a projected CRS before this operation.\n",
      "\n",
      "\n"
     ]
    }
   ],
   "source": [
    "\n",
    "app = Dash(__name__)\n",
    "\n",
    "initial_threshold = 30  \n",
    "clusters = cluster(Z, votes_df, initial_threshold)\n",
    "clusters_coords = make_base_map(clusters, cc_df, gdf)\n",
    "geojson_data = json.loads(clusters_coords.to_json())\n",
    "num_clusters = 15 \n",
    "colorscale = generate_colorscale(num_clusters, geojson_data)\n",
    "style = dict(weight=2, opacity=1, color='white', dashArray='3', fillOpacity=0.7)\n",
    "\n",
    "centroid = clusters_coords.geometry.centroid\n",
    "mean_lat, mean_lon = centroid.y.mean(), centroid.x.mean()\n",
    "\n",
    "hover_info = html.Div(\n",
    "    id=\"hover-info\",\n",
    "    style={\n",
    "        \"position\": \"absolute\",\n",
    "        \"top\": \"10px\",\n",
    "        \"right\": \"10px\",\n",
    "        \"zIndex\": \"1000\",\n",
    "        \"background-color\": \"white\", \n",
    "        \"padding\": \"10px\",  \n",
    "        \"border\": \"1px solid #ccc\", \n",
    "        \"border-radius\": \"5px\",  \n",
    "        \"box-shadow\": \"0 0 5px rgba(0, 0, 0, 0.2)\" \n",
    "    }\n",
    ")\n",
    "\n",
    "def create_dendrogram(Z):\n",
    "    fig = ff.create_dendrogram(Z, orientation='bottom')\n",
    "    fig.update_layout(width=1000, height=600) \n",
    "    return fig\n",
    "dendrogram_fig = create_dendrogram(Z)\n",
    "\n",
    "app.layout = html.Div([\n",
    "        html.Div([\n",
    "        html.P(\"The application takes voting data from the New York City Councils “Legistar” API and clusters council members by the way that they vote.\"), \n",
    "        html.P(\"The method of clustering user here is known as “Hierarchical Clustering.” The graph you see below is known as a “dendrogram” and is used in the process of hierarchical clustering. You can think of the top of the y-axis as one cluster, everyone on the City Council, and the bottom as 51 separate clusters in which each council member gets their own cluster. Where you are on the y-axis determines the numbers of clusters. For example, at the very top of the dendrogram we see two lines, which means two clusters. The line on the left is attached of a very small group of individuals at the bottom, these are the councils Republicans. As you go further down, those clusters further subdivide as we get more specific.\"),  \n",
    "        html.P(\"The numbers on the y-axis correspond to the numbers on the slider above the map. Move the slider to change the number of clusters and see how the map changes.\"), \n",
    "    ], style={'padding': '20px','textAlign': 'center'}),\n",
    "    html.Div([\n",
    "        dcc.Graph(\n",
    "            id='dendrogram-plot',\n",
    "            figure=dendrogram_fig\n",
    "        )\n",
    "    ]),\n",
    "    dcc.Slider(\n",
    "        id='cluster-threshold-slider',\n",
    "        min=0,\n",
    "        max=100,  \n",
    "        step=1,\n",
    "        value=40,  \n",
    "        marks={i: str(i) for i in range(0, 101, 10)},  \n",
    "    ),\n",
    "    html.Div(id='slider-output-container'),  \n",
    "    html.Div([\n",
    "        dl.Map(center=[mean_lat, mean_lon], zoom=12, children=[\n",
    "            dl.TileLayer(),\n",
    "            dl.GeoJSON(data=geojson_data,  \n",
    "                         style=style_handle,  \n",
    "                         hideout=dict(colorscale=colorscale, num_clusters=num_clusters, style=style),\n",
    "                         id=\"geojson\")\n",
    "        ], style={'width': '100%', 'height': '50vh'}),\n",
    "\n",
    "        hover_info  \n",
    "    ], style={'position': 'relative'}),  \n",
    "])\n",
    "\n",
    "\n",
    "@app.callback(\n",
    "    Output(\"geojson\", \"data\"),\n",
    "    [Input(\"cluster-threshold-slider\", \"value\")]\n",
    ")\n",
    "def update_output(value):\n",
    "    clusters = cluster(Z, votes_df, value)\n",
    "    num_clusters = clusters['h_cluster'].nunique()\n",
    "    print(f\"Updated number of clusters: {num_clusters}\")\n",
    "\n",
    "    clusters_coords = make_base_map(clusters, cc_df, gdf)\n",
    "    new_geojson_data = json.loads(clusters_coords.to_json())\n",
    "    properties_summary = [\n",
    "        {key: feature['properties'][key] for key in ['OfficeRecordFullName', 'District', 'h_cluster']}\n",
    "        for feature in new_geojson_data['features']\n",
    "    ]\n",
    "    print(f\"Sample of updated GeoJSON data: {properties_summary[:5]}\")\n",
    "\n",
    "    colorscale = generate_colorscale(num_clusters, new_geojson_data)\n",
    "    print(f\"Updated colorscale: {colorscale}\")\n",
    "\n",
    "    return new_geojson_data\n",
    "\n",
    "@app.callback(\n",
    "    Output(\"hover-info\", \"children\"),\n",
    "    Input(\"geojson\", \"hoverData\")\n",
    ")\n",
    "def update_hover_info(hover_data):\n",
    "    if hover_data is not None:\n",
    "        properties = hover_data[\"properties\"]\n",
    "        office_name = properties.get(\"OfficeRecordFullName\", \"N/A\") \n",
    "        district = properties.get(\"District\", \"N/A\") \n",
    "        cluster_number = properties.get(\"h_cluster\", \"N/A\") \n",
    "\n",
    "        return [\n",
    "            html.H4(\"District Information\"),\n",
    "            html.P(f\"Council Member: {office_name}\"),\n",
    "            html.P(f\"District: {district}\"),\n",
    "            html.P(f\"Cluster: {cluster_number}\")\n",
    "        ]\n",
    "    return []"
   ]
  },
  {
   "cell_type": "markdown",
   "metadata": {},
   "source": [
    "Test new structure to fix color issue"
   ]
  },
  {
   "cell_type": "code",
   "execution_count": 30,
   "metadata": {},
   "outputs": [
    {
     "name": "stdout",
     "output_type": "stream",
     "text": [
      "Generated colorscale: ['rgba(68,1,84,1.0)', 'rgba(64,67,135,1.0)', 'rgba(41,120,142,1.0)', 'rgba(34,167,132,1.0)', 'rgba(121,209,81,1.0)']\n"
     ]
    },
    {
     "name": "stderr",
     "output_type": "stream",
     "text": [
      "C:\\Users\\samtg\\AppData\\Local\\Temp\\ipykernel_39944\\1517615208.py:11: UserWarning:\n",
      "\n",
      "Geometry is in a geographic CRS. Results from 'centroid' are likely incorrect. Use 'GeoSeries.to_crs()' to re-project geometries to a projected CRS before this operation.\n",
      "\n",
      "\n"
     ]
    }
   ],
   "source": [
    "app = Dash(__name__,external_stylesheets=[dbc.themes.CYBORG])\n",
    "\n",
    "initial_threshold = 40  \n",
    "clusters = cluster(Z, votes_df, initial_threshold)\n",
    "clusters_coords = make_base_map(clusters, cc_df, gdf)\n",
    "geojson_data = json.loads(clusters_coords.to_json())\n",
    "num_clusters = 5  \n",
    "colorscale = generate_colorscale(num_clusters, geojson_data)\n",
    "style = dict(weight=2, opacity=1, color='white', dashArray='3', fillOpacity=0.7)\n",
    "\n",
    "centroid = clusters_coords.geometry.centroid\n",
    "mean_lat, mean_lon = centroid.y.mean(), centroid.x.mean()\n",
    "\n",
    "hover_info = html.Div(\n",
    "    id=\"hover-info\",\n",
    "    style={\n",
    "        \"position\": \"absolute\",\n",
    "        \"top\": \"10px\",\n",
    "        \"right\": \"10px\",\n",
    "        \"zIndex\": \"1000\",\n",
    "        \"background-color\": \"white\", \n",
    "        \"padding\": \"10px\",  \n",
    "        \"border\": \"1px solid #ccc\", \n",
    "        \"border-radius\": \"5px\",  \n",
    "        \"box-shadow\": \"0 0 5px rgba(0, 0, 0, 0.2)\" \n",
    "    }\n",
    ")\n",
    "\n",
    "def create_dendrogram(Z):\n",
    "    fig = ff.create_dendrogram(Z, orientation='bottom')\n",
    "    fig.update_layout(width=1000, height=600) \n",
    "    return fig\n",
    "dendrogram_fig = create_dendrogram(Z)\n",
    "\n",
    "app.layout = html.Div([\n",
    "        html.Div([\n",
    "        html.P(\"This application takes voting data from the New York City Councils “Legistar” API and clusters council members by the way that they vote. Beacuse most votes are fairly lopsided, this application only looks at the most competitive votes. \"), \n",
    "        html.P(\"The method of clustering used here is known as “Hierarchical Clustering.” The graph you see below is called a “dendrogram” and is used in the process of hierarchical clustering. You can think of the top of the y-axis as one cluster, everyone on the City Council, and the bottom as around 25 separate clusters in which each council member is paired with their nearest neighbor(s). The location on the y-axis determines the numbers of clusters. For example, at the very top of the dendrogram we see two lines, which means two clusters. The line on the left is attached of a very small group of individuals at the bottom, these are the council's most conservative members. As you go further down, those clusters further subdivide as we get more specific.\"),  \n",
    "        html.P(\"The numbers on the y-axis correspond to the numbers on the slider above the map. Move the slider to change the number of clusters and see how the map changes. You can also hover over the map to see the district number, council member, and cluster number.\"), \n",
    "    ], style={'font-family': 'Georgia','padding': '20px','textAlign': 'center'}),\n",
    "    html.Div([\n",
    "        dcc.Graph(\n",
    "            id='dendrogram-plot',\n",
    "            figure=dendrogram_fig\n",
    "        )\n",
    "    ]),\n",
    "    dcc.Slider(\n",
    "        id='cluster-threshold-slider',\n",
    "        min=0,\n",
    "        max=100,  \n",
    "        step=1,\n",
    "        value=40,  \n",
    "        marks={i: str(i) for i in range(0, 101, 10)},  \n",
    "    ),\n",
    "    html.Div(id='slider-output-container'),  \n",
    "    html.Div([\n",
    "        dl.Map(center=[mean_lat, mean_lon], zoom=12, children=[\n",
    "            dl.TileLayer(),\n",
    "            dl.GeoJSON(data=geojson_data,  \n",
    "                         style=style_handle,  \n",
    "                         hideout=dict(colorscale=colorscale, num_clusters=num_clusters, style=style),\n",
    "                         id=\"geojson\")\n",
    "        ], style={'width': '100%', 'height': '50vh'}),\n",
    "\n",
    "        hover_info  \n",
    "    ], style={'position': 'relative'}),  \n",
    "])\n",
    "\n",
    "\n",
    "@app.callback(\n",
    "    Output(\"geojson\", \"data\"),\n",
    "    [Input(\"cluster-threshold-slider\", \"value\")]\n",
    ")\n",
    "def update_output(value):\n",
    "    clusters = cluster(Z, votes_df, value)\n",
    "    num_clusters = clusters['h_cluster'].nunique()\n",
    "    clusters_coords = make_base_map(clusters, cc_df, gdf)\n",
    "    new_geojson_data = json.loads(clusters_coords.to_json())\n",
    "    colorscale = generate_colorscale(num_clusters, new_geojson_data)\n",
    "    return new_geojson_data\n",
    "\n",
    "@app.callback(\n",
    "    Output(\"hover-info\", \"children\"),\n",
    "    Input(\"geojson\", \"hoverData\")\n",
    ")\n",
    "def update_hover_info(hover_data):\n",
    "    if hover_data is not None:\n",
    "        properties = hover_data[\"properties\"]\n",
    "        office_name = properties.get(\"OfficeRecordFullName\", \"N/A\") \n",
    "        district = properties.get(\"District\", \"N/A\") \n",
    "        cluster_number = properties.get(\"h_cluster\", \"N/A\") \n",
    "\n",
    "        return [\n",
    "            html.H4(\"District Information\"),\n",
    "            html.P(f\"Council Member: {office_name}\"),\n",
    "            html.P(f\"District: {district}\"),\n",
    "            html.P(f\"Cluster: {cluster_number}\")\n",
    "        ]\n",
    "    return []\n",
    "\n",
    "\n",
    "@app.callback(\n",
    "    Output('geojson', 'hideout'), \n",
    "    [Input(\"cluster-threshold-slider\", \"value\")]\n",
    ")\n",
    "def update_hideout(value):\n",
    "\n",
    "    clusters = cluster(Z, votes_df,value)\n",
    "    num_clusters = clusters['h_cluster'].nunique()\n",
    "    clusters_coords = make_base_map(clusters, cc_df, gdf)\n",
    "    new_geojson_data = json.loads(clusters_coords.to_json())\n",
    "    colorscale = generate_colorscale(num_clusters, new_geojson_data)\n",
    "    \n",
    "    new_hideout = {\n",
    "        'colorscale': colorscale,\n",
    "        'num_clusters': num_clusters,\n",
    "        'style' : style\n",
    "    }\n",
    "\n",
    "\n",
    "    return new_hideout\n"
   ]
  },
  {
   "cell_type": "code",
   "execution_count": 31,
   "metadata": {},
   "outputs": [
    {
     "data": {
      "text/html": [
       "\n",
       "        <iframe\n",
       "            width=\"100%\"\n",
       "            height=\"650\"\n",
       "            src=\"http://127.0.0.1:8050/\"\n",
       "            frameborder=\"0\"\n",
       "            allowfullscreen\n",
       "            \n",
       "        ></iframe>\n",
       "        "
      ],
      "text/plain": [
       "<IPython.lib.display.IFrame at 0x1aa0588d6d0>"
      ]
     },
     "metadata": {},
     "output_type": "display_data"
    },
    {
     "name": "stdout",
     "output_type": "stream",
     "text": [
      "Generated colorscale: ['rgba(68,1,84,1.0)', 'rgba(58,82,139,1.0)', 'rgba(32,144,140,1.0)', 'rgba(94,201,97,1.0)']\n",
      "Generated colorscale: ['rgba(68,1,84,1.0)', 'rgba(58,82,139,1.0)', 'rgba(32,144,140,1.0)', 'rgba(94,201,97,1.0)']\n",
      "Generated colorscale: ['rgba(68,1,84,1.0)', 'rgba(71,18,101,1.0)', 'rgba(72,35,116,1.0)', 'rgba(69,52,127,1.0)', 'rgba(64,67,135,1.0)', 'rgba(58,82,139,1.0)', 'rgba(52,94,141,1.0)', 'rgba(46,107,142,1.0)', 'rgba(41,120,142,1.0)', 'rgba(36,132,141,1.0)', 'rgba(32,144,140,1.0)', 'rgba(30,155,137,1.0)', 'rgba(34,167,132,1.0)', 'rgba(47,179,123,1.0)', 'rgba(68,190,112,1.0)', 'rgba(94,201,97,1.0)', 'rgba(121,209,81,1.0)', 'rgba(154,216,60,1.0)', 'rgba(189,222,38,1.0)', 'rgba(223,227,24,1.0)']\n",
      "Generated colorscale: ['rgba(68,1,84,1.0)', 'rgba(71,18,101,1.0)', 'rgba(72,35,116,1.0)', 'rgba(69,52,127,1.0)', 'rgba(64,67,135,1.0)', 'rgba(58,82,139,1.0)', 'rgba(52,94,141,1.0)', 'rgba(46,107,142,1.0)', 'rgba(41,120,142,1.0)', 'rgba(36,132,141,1.0)', 'rgba(32,144,140,1.0)', 'rgba(30,155,137,1.0)', 'rgba(34,167,132,1.0)', 'rgba(47,179,123,1.0)', 'rgba(68,190,112,1.0)', 'rgba(94,201,97,1.0)', 'rgba(121,209,81,1.0)', 'rgba(154,216,60,1.0)', 'rgba(189,222,38,1.0)', 'rgba(223,227,24,1.0)']\n"
     ]
    }
   ],
   "source": [
    "app.run_server(mode='inline')"
   ]
  }
 ],
 "metadata": {
  "kernelspec": {
   "display_name": "Python 3",
   "language": "python",
   "name": "python3"
  },
  "language_info": {
   "codemirror_mode": {
    "name": "ipython",
    "version": 3
   },
   "file_extension": ".py",
   "mimetype": "text/x-python",
   "name": "python",
   "nbconvert_exporter": "python",
   "pygments_lexer": "ipython3",
   "version": "3.11.4"
  }
 },
 "nbformat": 4,
 "nbformat_minor": 2
}
